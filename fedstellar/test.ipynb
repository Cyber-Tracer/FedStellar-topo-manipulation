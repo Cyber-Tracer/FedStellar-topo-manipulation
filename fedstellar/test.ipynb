{
 "cells": [
  {
   "cell_type": "code",
   "execution_count": 1,
   "metadata": {},
   "outputs": [],
   "source": [
    "import torch"
   ]
  },
  {
   "cell_type": "code",
   "execution_count": 2,
   "metadata": {},
   "outputs": [
    {
     "data": {
      "text/plain": [
       "2"
      ]
     },
     "execution_count": 2,
     "metadata": {},
     "output_type": "execute_result"
    }
   ],
   "source": [
    "torch.cuda.device_count()"
   ]
  },
  {
   "cell_type": "code",
   "execution_count": 1,
   "metadata": {},
   "outputs": [],
   "source": [
    "import sys\n",
    "import os\n",
    "sys.path.append(os.path.join(os.getcwd() , '..'))  # Parent directory where is the fedstellar module"
   ]
  },
  {
   "cell_type": "code",
   "execution_count": 2,
   "metadata": {},
   "outputs": [],
   "source": [
    "import threading"
   ]
  },
  {
   "cell_type": "code",
   "execution_count": 5,
   "metadata": {},
   "outputs": [],
   "source": [
    "lock = threading.Lock()"
   ]
  },
  {
   "cell_type": "code",
   "execution_count": 6,
   "metadata": {},
   "outputs": [],
   "source": [
    "import time\n",
    "from datetime import datetime\n",
    "from pytorch_lightning.demos.mnist_datamodule import MNISTDataModule\n",
    "from fedstellar.node import Node\n",
    "from fedstellar.learning.pytorch.datamodule import DataModule\n",
    "from fedstellar.learning.pytorch.mnist.mnist import MNISTDataset\n",
    "from fedstellar.learning.pytorch.syscall.syscall import SYSCALLDataset\n",
    "from fedstellar.learning.pytorch.cifar10.cifar10 import CIFAR10Dataset\n",
    "from fedstellar.learning.pytorch.fashionmnist.fashionmnist import FashionMNISTDataset\n",
    "from fedstellar.config.config import Config\n",
    "from fedstellar.learning.pytorch.mnist.models.mlp import MNISTModelMLP\n",
    "from fedstellar.learning.pytorch.mnist.models.cnn import MNISTModelCNN\n",
    "from fedstellar.learning.pytorch.fashionmnist.models.mlp import FashionMNISTModelMLP\n",
    "from fedstellar.learning.pytorch.fashionmnist.models.cnn import FashionMNISTModelCNN\n",
    "from fedstellar.learning.pytorch.sentiment140.models.cnn import SentimentModelCNN\n",
    "from fedstellar.learning.pytorch.sentiment140.models.rnn import SentimentModelRNN\n",
    "from fedstellar.learning.pytorch.cifar100.models.cnn import Cifar100ModelCNN\n",
    "from fedstellar.learning.pytorch.cifar10.models.cnn import Cifar10ModelCNN\n",
    "from fedstellar.learning.pytorch.syscall.models.mlp import SyscallModelMLP\n",
    "from fedstellar.learning.pytorch.syscall.models.autoencoder import SyscallModelAutoencoder\n",
    "from fedstellar.learning.pytorch.cifar10.models.resnet import CIFAR10ModelResNet\n",
    "from fedstellar.learning.pytorch.cifar10.models.fastermobilenet import FasterMobileNet\n",
    "from fedstellar.learning.pytorch.cifar10.models.simplemobilenet import SimpleMobileNetV1\n",
    "from fedstellar.node import Node"
   ]
  },
  {
   "cell_type": "code",
   "execution_count": 7,
   "metadata": {},
   "outputs": [
    {
     "name": "stdout",
     "output_type": "stream",
     "text": [
      "d:\\git\\FedStellar-topo-manipulation\\app\\single_node\n"
     ]
    }
   ],
   "source": [
    "os.environ[\"PYTORCH_ENABLE_MPS_FALLBACK\"] = \"1\"\n",
    "root = os.path.dirname(os.path.join(os.getcwd()))\n",
    "single_node = os.path.join(root, \"app\", \"single_node\")\n",
    "print(single_node)\n",
    "\n",
    "config_path =  os.path.join(single_node, \"participant_0.json\")\n",
    "config = Config(entity=\"participant\", participant_config_file=config_path)"
   ]
  },
  {
   "cell_type": "code",
   "execution_count": 8,
   "metadata": {},
   "outputs": [],
   "source": [
    "host = \"127.0.0.1\"\n",
    "idx = 0\n",
    "n_nodes = 10\n",
    "indices_dir = single_node\n",
    "is_iid = True"
   ]
  },
  {
   "cell_type": "code",
   "execution_count": 9,
   "metadata": {},
   "outputs": [
    {
     "name": "stdout",
     "output_type": "stream",
     "text": [
      "Files already downloaded and verified\n",
      "Files already downloaded and verified\n",
      "datamodule: targeted is False\n",
      "Datapoisoning: generating watermarked samples for testing (all classes)\n",
      "Train: 4500 Val:500 Test:1000\n"
     ]
    }
   ],
   "source": [
    "label_flipping = False\n",
    "data_poisoning = False\n",
    "model_poisoning = False\n",
    "poisoned_percent = 0\n",
    "poisoned_ratio = 0\n",
    "targeted = False\n",
    "target_label = 0\n",
    "target_changed_label = 0\n",
    "noise_type = \"salt\"\n",
    "port = 45602\n",
    "benign_mnist_dataset = CIFAR10Dataset(iid=is_iid)\n",
    "benign_mnist_model = SimpleMobileNetV1()\n",
    "\n",
    "benign_mnist_dataset = DataModule(benign_mnist_dataset.train_set, benign_mnist_dataset.test_set, sub_id=idx, number_sub=n_nodes, indices_dir=indices_dir,\n",
    "                        label_flipping=label_flipping, data_poisoning=data_poisoning,\n",
    "                        poisoned_percent=poisoned_percent,\n",
    "                        poisoned_ratio=poisoned_ratio, targeted=targeted, target_label=target_label,\n",
    "                        target_changed_label=target_changed_label, noise_type=noise_type)"
   ]
  },
  {
   "cell_type": "markdown",
   "metadata": {},
   "source": [
    "Config for benign node - MNIST"
   ]
  },
  {
   "cell_type": "code",
   "execution_count": 10,
   "metadata": {},
   "outputs": [
    {
     "name": "stdout",
     "output_type": "stream",
     "text": [
      "[BASENODE] Trying to bind to 127.0.0.1:45602\n"
     ]
    }
   ],
   "source": [
    "benign_mnist_node = Node(\n",
    "        idx=0,\n",
    "        experiment_name=\"Single_Node_Test\",\n",
    "        model=benign_mnist_model,\n",
    "        data=benign_mnist_dataset,\n",
    "        hostdemo=True,\n",
    "        host=host,\n",
    "        port=port,\n",
    "        config=config,\n",
    "        encrypt=False,\n",
    "        model_poisoning=model_poisoning,\n",
    "        poisoned_ratio=poisoned_ratio,\n",
    "        noise_type=noise_type,\n",
    "    )\n",
    "benign_mnist_node.start()\n",
    "time.sleep(20)"
   ]
  },
  {
   "cell_type": "code",
   "execution_count": 19,
   "metadata": {},
   "outputs": [],
   "source": [
    "benign_mnist_node.set_start_learning(rounds=1, epochs=10)"
   ]
  },
  {
   "cell_type": "code",
   "execution_count": 14,
   "metadata": {},
   "outputs": [
    {
     "data": {
      "text/plain": [
       "-3.1306302547454834"
      ]
     },
     "execution_count": 14,
     "metadata": {},
     "output_type": "execute_result"
    }
   ],
   "source": [
    "benign_mnist_node._start_time -  benign_mnist_node._current_time"
   ]
  },
  {
   "cell_type": "code",
   "execution_count": 17,
   "metadata": {},
   "outputs": [],
   "source": [
    "from fedstellar.utils.observer import Events, Observer"
   ]
  },
  {
   "cell_type": "code",
   "execution_count": 22,
   "metadata": {},
   "outputs": [],
   "source": [
    "benign_mnist_node.update(Events.STOP_LEARNING_EVENT,\"s\")"
   ]
  },
  {
   "cell_type": "code",
   "execution_count": 21,
   "metadata": {},
   "outputs": [
    {
     "data": {
      "text/plain": [
       "<Node(node-127.0.0.1:45602, started 5832)>"
      ]
     },
     "execution_count": 21,
     "metadata": {},
     "output_type": "execute_result"
    }
   ],
   "source": [
    "benign_mnist_node"
   ]
  },
  {
   "cell_type": "code",
   "execution_count": 16,
   "metadata": {},
   "outputs": [
    {
     "data": {
      "application/vnd.jupyter.widget-view+json": {
       "model_id": "4edf0b84767e45cb86925062390c0ee8",
       "version_major": 2,
       "version_minor": 0
      },
      "text/plain": [
       "Output()"
      ]
     },
     "metadata": {},
     "output_type": "display_data"
    },
    {
     "data": {
      "text/html": [
       "<pre style=\"white-space:pre;overflow-x:auto;line-height:normal;font-family:Menlo,'DejaVu Sans Mono',consolas,'Courier New',monospace\">Epoch end: Test, epoch number: 0\n",
       "</pre>\n"
      ],
      "text/plain": [
       "Epoch end: Test, epoch number: 0\n"
      ]
     },
     "metadata": {},
     "output_type": "display_data"
    },
    {
     "data": {
      "text/html": [
       "<pre style=\"white-space:pre;overflow-x:auto;line-height:normal;font-family:Menlo,'DejaVu Sans Mono',consolas,'Courier New',monospace\">┏━━━━━━━━━━━━━━━━━━━━━━━━━━━┳━━━━━━━━━━━━━━━━━━━━━━━━━━━┓\n",
       "┃<span style=\"font-weight: bold\">   Runningstage.testing    </span>┃<span style=\"font-weight: bold\">                           </span>┃\n",
       "┃<span style=\"font-weight: bold\">          metric           </span>┃<span style=\"font-weight: bold\">       DataLoader 0        </span>┃\n",
       "┡━━━━━━━━━━━━━━━━━━━━━━━━━━━╇━━━━━━━━━━━━━━━━━━━━━━━━━━━┩\n",
       "│<span style=\"color: #008080; text-decoration-color: #008080\">       Test/Accuracy       </span>│<span style=\"color: #800080; text-decoration-color: #800080\">    0.09999997168779373    </span>│\n",
       "│<span style=\"color: #008080; text-decoration-color: #008080\">       Test/F1Score        </span>│<span style=\"color: #800080; text-decoration-color: #800080\">   0.016182301566004753    </span>│\n",
       "│<span style=\"color: #008080; text-decoration-color: #008080\">         Test/Loss         </span>│<span style=\"color: #800080; text-decoration-color: #800080\">    2.3036112785339355     </span>│\n",
       "│<span style=\"color: #008080; text-decoration-color: #008080\">      Test/Precision       </span>│<span style=\"color: #800080; text-decoration-color: #800080\">   0.008971774019300938    </span>│\n",
       "│<span style=\"color: #008080; text-decoration-color: #008080\">        Test/Recall        </span>│<span style=\"color: #800080; text-decoration-color: #800080\">    0.09999997168779373    </span>│\n",
       "│<span style=\"color: #008080; text-decoration-color: #008080\">    TestEpoch/Accuracy     </span>│<span style=\"color: #800080; text-decoration-color: #800080\">    0.10000000149011612    </span>│\n",
       "│<span style=\"color: #008080; text-decoration-color: #008080\">     TestEpoch/F1Score     </span>│<span style=\"color: #800080; text-decoration-color: #800080\">   0.016466233879327774    </span>│\n",
       "│<span style=\"color: #008080; text-decoration-color: #008080\">    TestEpoch/Precision    </span>│<span style=\"color: #800080; text-decoration-color: #800080\">   0.008971774019300938    </span>│\n",
       "│<span style=\"color: #008080; text-decoration-color: #008080\">     TestEpoch/Recall      </span>│<span style=\"color: #800080; text-decoration-color: #800080\">    0.10000000149011612    </span>│\n",
       "└───────────────────────────┴───────────────────────────┘\n",
       "</pre>\n"
      ],
      "text/plain": [
       "┏━━━━━━━━━━━━━━━━━━━━━━━━━━━┳━━━━━━━━━━━━━━━━━━━━━━━━━━━┓\n",
       "┃\u001b[1m \u001b[0m\u001b[1m  Runningstage.testing   \u001b[0m\u001b[1m \u001b[0m┃\u001b[1m                           \u001b[0m┃\n",
       "┃\u001b[1m \u001b[0m\u001b[1m         metric          \u001b[0m\u001b[1m \u001b[0m┃\u001b[1m \u001b[0m\u001b[1m      DataLoader 0       \u001b[0m\u001b[1m \u001b[0m┃\n",
       "┡━━━━━━━━━━━━━━━━━━━━━━━━━━━╇━━━━━━━━━━━━━━━━━━━━━━━━━━━┩\n",
       "│\u001b[36m \u001b[0m\u001b[36m      Test/Accuracy      \u001b[0m\u001b[36m \u001b[0m│\u001b[35m \u001b[0m\u001b[35m   0.09999997168779373   \u001b[0m\u001b[35m \u001b[0m│\n",
       "│\u001b[36m \u001b[0m\u001b[36m      Test/F1Score       \u001b[0m\u001b[36m \u001b[0m│\u001b[35m \u001b[0m\u001b[35m  0.016182301566004753   \u001b[0m\u001b[35m \u001b[0m│\n",
       "│\u001b[36m \u001b[0m\u001b[36m        Test/Loss        \u001b[0m\u001b[36m \u001b[0m│\u001b[35m \u001b[0m\u001b[35m   2.3036112785339355    \u001b[0m\u001b[35m \u001b[0m│\n",
       "│\u001b[36m \u001b[0m\u001b[36m     Test/Precision      \u001b[0m\u001b[36m \u001b[0m│\u001b[35m \u001b[0m\u001b[35m  0.008971774019300938   \u001b[0m\u001b[35m \u001b[0m│\n",
       "│\u001b[36m \u001b[0m\u001b[36m       Test/Recall       \u001b[0m\u001b[36m \u001b[0m│\u001b[35m \u001b[0m\u001b[35m   0.09999997168779373   \u001b[0m\u001b[35m \u001b[0m│\n",
       "│\u001b[36m \u001b[0m\u001b[36m   TestEpoch/Accuracy    \u001b[0m\u001b[36m \u001b[0m│\u001b[35m \u001b[0m\u001b[35m   0.10000000149011612   \u001b[0m\u001b[35m \u001b[0m│\n",
       "│\u001b[36m \u001b[0m\u001b[36m    TestEpoch/F1Score    \u001b[0m\u001b[36m \u001b[0m│\u001b[35m \u001b[0m\u001b[35m  0.016466233879327774   \u001b[0m\u001b[35m \u001b[0m│\n",
       "│\u001b[36m \u001b[0m\u001b[36m   TestEpoch/Precision   \u001b[0m\u001b[36m \u001b[0m│\u001b[35m \u001b[0m\u001b[35m  0.008971774019300938   \u001b[0m\u001b[35m \u001b[0m│\n",
       "│\u001b[36m \u001b[0m\u001b[36m    TestEpoch/Recall     \u001b[0m\u001b[36m \u001b[0m│\u001b[35m \u001b[0m\u001b[35m   0.10000000149011612   \u001b[0m\u001b[35m \u001b[0m│\n",
       "└───────────────────────────┴───────────────────────────┘\n"
      ]
     },
     "metadata": {},
     "output_type": "display_data"
    },
    {
     "data": {
      "text/html": [
       "<pre style=\"white-space:pre;overflow-x:auto;line-height:normal;font-family:Menlo,'DejaVu Sans Mono',consolas,'Courier New',monospace\"></pre>\n"
      ],
      "text/plain": []
     },
     "metadata": {},
     "output_type": "display_data"
    },
    {
     "data": {
      "text/html": [
       "<pre style=\"white-space:pre;overflow-x:auto;line-height:normal;font-family:Menlo,'DejaVu Sans Mono',consolas,'Courier New',monospace\">\n",
       "</pre>\n"
      ],
      "text/plain": [
       "\n"
      ]
     },
     "metadata": {},
     "output_type": "display_data"
    },
    {
     "data": {
      "text/html": [
       "<pre style=\"white-space:pre;overflow-x:auto;line-height:normal;font-family:Menlo,'DejaVu Sans Mono',consolas,'Courier New',monospace\">┏━━━┳━━━━━━━━━━━━━━━┳━━━━━━━━━━━━━━━━━━━━━━━━━━━┳━━━━━━━━┳━━━━━━━━━━━━━━━━┳━━━━━━━━━━━━━━━━┓\n",
       "┃<span style=\"color: #800080; text-decoration-color: #800080; font-weight: bold\">   </span>┃<span style=\"color: #800080; text-decoration-color: #800080; font-weight: bold\"> Name          </span>┃<span style=\"color: #800080; text-decoration-color: #800080; font-weight: bold\"> Type                      </span>┃<span style=\"color: #800080; text-decoration-color: #800080; font-weight: bold\"> Params </span>┃<span style=\"color: #800080; text-decoration-color: #800080; font-weight: bold\">       In sizes </span>┃<span style=\"color: #800080; text-decoration-color: #800080; font-weight: bold\">      Out sizes </span>┃\n",
       "┡━━━╇━━━━━━━━━━━━━━━╇━━━━━━━━━━━━━━━━━━━━━━━━━━━╇━━━━━━━━╇━━━━━━━━━━━━━━━━╇━━━━━━━━━━━━━━━━┩\n",
       "│<span style=\"color: #7f7f7f; text-decoration-color: #7f7f7f\"> 0 </span>│ train_metrics │ MetricCollection          │      0 │<span style=\"color: #c0c0c0; text-decoration-color: #c0c0c0\">              ? </span>│<span style=\"color: #c0c0c0; text-decoration-color: #c0c0c0\">              ? </span>│\n",
       "│<span style=\"color: #7f7f7f; text-decoration-color: #7f7f7f\"> 1 </span>│ val_metrics   │ MetricCollection          │      0 │<span style=\"color: #c0c0c0; text-decoration-color: #c0c0c0\">              ? </span>│<span style=\"color: #c0c0c0; text-decoration-color: #c0c0c0\">              ? </span>│\n",
       "│<span style=\"color: #7f7f7f; text-decoration-color: #7f7f7f\"> 2 </span>│ test_metrics  │ MetricCollection          │      0 │<span style=\"color: #c0c0c0; text-decoration-color: #c0c0c0\">              ? </span>│<span style=\"color: #c0c0c0; text-decoration-color: #c0c0c0\">              ? </span>│\n",
       "│<span style=\"color: #7f7f7f; text-decoration-color: #7f7f7f\"> 3 </span>│ cm            │ MulticlassConfusionMatrix │      0 │<span style=\"color: #c0c0c0; text-decoration-color: #c0c0c0\">              ? </span>│<span style=\"color: #c0c0c0; text-decoration-color: #c0c0c0\">              ? </span>│\n",
       "│<span style=\"color: #7f7f7f; text-decoration-color: #7f7f7f\"> 4 </span>│ criterion     │ CrossEntropyLoss          │      0 │<span style=\"color: #c0c0c0; text-decoration-color: #c0c0c0\">              ? </span>│<span style=\"color: #c0c0c0; text-decoration-color: #c0c0c0\">              ? </span>│\n",
       "│<span style=\"color: #7f7f7f; text-decoration-color: #7f7f7f\"> 5 </span>│ model         │ Sequential                │  134 K │<span style=\"color: #c0c0c0; text-decoration-color: #c0c0c0\"> [1, 3, 32, 32] </span>│<span style=\"color: #c0c0c0; text-decoration-color: #c0c0c0\"> [1, 256, 1, 1] </span>│\n",
       "│<span style=\"color: #7f7f7f; text-decoration-color: #7f7f7f\"> 6 </span>│ fc            │ Linear                    │  2.6 K │<span style=\"color: #c0c0c0; text-decoration-color: #c0c0c0\">       [1, 256] </span>│<span style=\"color: #c0c0c0; text-decoration-color: #c0c0c0\">        [1, 10] </span>│\n",
       "└───┴───────────────┴───────────────────────────┴────────┴────────────────┴────────────────┘\n",
       "</pre>\n"
      ],
      "text/plain": [
       "┏━━━┳━━━━━━━━━━━━━━━┳━━━━━━━━━━━━━━━━━━━━━━━━━━━┳━━━━━━━━┳━━━━━━━━━━━━━━━━┳━━━━━━━━━━━━━━━━┓\n",
       "┃\u001b[1;35m \u001b[0m\u001b[1;35m \u001b[0m\u001b[1;35m \u001b[0m┃\u001b[1;35m \u001b[0m\u001b[1;35mName         \u001b[0m\u001b[1;35m \u001b[0m┃\u001b[1;35m \u001b[0m\u001b[1;35mType                     \u001b[0m\u001b[1;35m \u001b[0m┃\u001b[1;35m \u001b[0m\u001b[1;35mParams\u001b[0m\u001b[1;35m \u001b[0m┃\u001b[1;35m \u001b[0m\u001b[1;35m      In sizes\u001b[0m\u001b[1;35m \u001b[0m┃\u001b[1;35m \u001b[0m\u001b[1;35m     Out sizes\u001b[0m\u001b[1;35m \u001b[0m┃\n",
       "┡━━━╇━━━━━━━━━━━━━━━╇━━━━━━━━━━━━━━━━━━━━━━━━━━━╇━━━━━━━━╇━━━━━━━━━━━━━━━━╇━━━━━━━━━━━━━━━━┩\n",
       "│\u001b[2m \u001b[0m\u001b[2m0\u001b[0m\u001b[2m \u001b[0m│ train_metrics │ MetricCollection          │      0 │\u001b[37m \u001b[0m\u001b[37m             ?\u001b[0m\u001b[37m \u001b[0m│\u001b[37m \u001b[0m\u001b[37m             ?\u001b[0m\u001b[37m \u001b[0m│\n",
       "│\u001b[2m \u001b[0m\u001b[2m1\u001b[0m\u001b[2m \u001b[0m│ val_metrics   │ MetricCollection          │      0 │\u001b[37m \u001b[0m\u001b[37m             ?\u001b[0m\u001b[37m \u001b[0m│\u001b[37m \u001b[0m\u001b[37m             ?\u001b[0m\u001b[37m \u001b[0m│\n",
       "│\u001b[2m \u001b[0m\u001b[2m2\u001b[0m\u001b[2m \u001b[0m│ test_metrics  │ MetricCollection          │      0 │\u001b[37m \u001b[0m\u001b[37m             ?\u001b[0m\u001b[37m \u001b[0m│\u001b[37m \u001b[0m\u001b[37m             ?\u001b[0m\u001b[37m \u001b[0m│\n",
       "│\u001b[2m \u001b[0m\u001b[2m3\u001b[0m\u001b[2m \u001b[0m│ cm            │ MulticlassConfusionMatrix │      0 │\u001b[37m \u001b[0m\u001b[37m             ?\u001b[0m\u001b[37m \u001b[0m│\u001b[37m \u001b[0m\u001b[37m             ?\u001b[0m\u001b[37m \u001b[0m│\n",
       "│\u001b[2m \u001b[0m\u001b[2m4\u001b[0m\u001b[2m \u001b[0m│ criterion     │ CrossEntropyLoss          │      0 │\u001b[37m \u001b[0m\u001b[37m             ?\u001b[0m\u001b[37m \u001b[0m│\u001b[37m \u001b[0m\u001b[37m             ?\u001b[0m\u001b[37m \u001b[0m│\n",
       "│\u001b[2m \u001b[0m\u001b[2m5\u001b[0m\u001b[2m \u001b[0m│ model         │ Sequential                │  134 K │\u001b[37m \u001b[0m\u001b[37m[1, 3, 32, 32]\u001b[0m\u001b[37m \u001b[0m│\u001b[37m \u001b[0m\u001b[37m[1, 256, 1, 1]\u001b[0m\u001b[37m \u001b[0m│\n",
       "│\u001b[2m \u001b[0m\u001b[2m6\u001b[0m\u001b[2m \u001b[0m│ fc            │ Linear                    │  2.6 K │\u001b[37m \u001b[0m\u001b[37m      [1, 256]\u001b[0m\u001b[37m \u001b[0m│\u001b[37m \u001b[0m\u001b[37m       [1, 10]\u001b[0m\u001b[37m \u001b[0m│\n",
       "└───┴───────────────┴───────────────────────────┴────────┴────────────────┴────────────────┘\n"
      ]
     },
     "metadata": {},
     "output_type": "display_data"
    },
    {
     "data": {
      "text/html": [
       "<pre style=\"white-space:pre;overflow-x:auto;line-height:normal;font-family:Menlo,'DejaVu Sans Mono',consolas,'Courier New',monospace\"><span style=\"font-weight: bold\">Trainable params</span>: 136 K                                                                                            \n",
       "<span style=\"font-weight: bold\">Non-trainable params</span>: 0                                                                                            \n",
       "<span style=\"font-weight: bold\">Total params</span>: 136 K                                                                                                \n",
       "<span style=\"font-weight: bold\">Total estimated model params size (MB)</span>: 0                                                                          \n",
       "</pre>\n"
      ],
      "text/plain": [
       "\u001b[1mTrainable params\u001b[0m: 136 K                                                                                            \n",
       "\u001b[1mNon-trainable params\u001b[0m: 0                                                                                            \n",
       "\u001b[1mTotal params\u001b[0m: 136 K                                                                                                \n",
       "\u001b[1mTotal estimated model params size (MB)\u001b[0m: 0                                                                          \n"
      ]
     },
     "metadata": {},
     "output_type": "display_data"
    },
    {
     "data": {
      "application/vnd.jupyter.widget-view+json": {
       "model_id": "00da8ade979c4459b32db92f480eceec",
       "version_major": 2,
       "version_minor": 0
      },
      "text/plain": [
       "Output()"
      ]
     },
     "metadata": {},
     "output_type": "display_data"
    },
    {
     "data": {
      "text/html": [
       "<pre style=\"white-space:pre;overflow-x:auto;line-height:normal;font-family:Menlo,'DejaVu Sans Mono',consolas,'Courier New',monospace\">Epoch end: Validation, epoch number: 0\n",
       "</pre>\n"
      ],
      "text/plain": [
       "Epoch end: Validation, epoch number: 0\n"
      ]
     },
     "metadata": {},
     "output_type": "display_data"
    },
    {
     "data": {
      "text/html": [
       "<pre style=\"white-space:pre;overflow-x:auto;line-height:normal;font-family:Menlo,'DejaVu Sans Mono',consolas,'Courier New',monospace\">Epoch end: Validation, epoch number: 1\n",
       "</pre>\n"
      ],
      "text/plain": [
       "Epoch end: Validation, epoch number: 1\n"
      ]
     },
     "metadata": {},
     "output_type": "display_data"
    },
    {
     "data": {
      "text/html": [
       "<pre style=\"white-space:pre;overflow-x:auto;line-height:normal;font-family:Menlo,'DejaVu Sans Mono',consolas,'Courier New',monospace\">Epoch end: Train, epoch number: 0\n",
       "</pre>\n"
      ],
      "text/plain": [
       "Epoch end: Train, epoch number: 0\n"
      ]
     },
     "metadata": {},
     "output_type": "display_data"
    },
    {
     "data": {
      "text/html": [
       "<pre style=\"white-space:pre;overflow-x:auto;line-height:normal;font-family:Menlo,'DejaVu Sans Mono',consolas,'Courier New',monospace\">Epoch end: Validation, epoch number: 2\n",
       "</pre>\n"
      ],
      "text/plain": [
       "Epoch end: Validation, epoch number: 2\n"
      ]
     },
     "metadata": {},
     "output_type": "display_data"
    },
    {
     "data": {
      "text/html": [
       "<pre style=\"white-space:pre;overflow-x:auto;line-height:normal;font-family:Menlo,'DejaVu Sans Mono',consolas,'Courier New',monospace\">Epoch end: Train, epoch number: 1\n",
       "</pre>\n"
      ],
      "text/plain": [
       "Epoch end: Train, epoch number: 1\n"
      ]
     },
     "metadata": {},
     "output_type": "display_data"
    },
    {
     "ename": "KeyboardInterrupt",
     "evalue": "",
     "output_type": "error",
     "traceback": [
      "\u001b[1;31m---------------------------------------------------------------------------\u001b[0m",
      "\u001b[1;31mKeyboardInterrupt\u001b[0m                         Traceback (most recent call last)",
      "\u001b[1;32md:\\git\\FedStellar-topo-manipulation\\fedstellar\\test.ipynb Cell 9\u001b[0m line \u001b[0;36m2\n\u001b[0;32m      <a href='vscode-notebook-cell:/d%3A/git/FedStellar-topo-manipulation/fedstellar/test.ipynb#X40sZmlsZQ%3D%3D?line=0'>1</a>\u001b[0m \u001b[39mwhile\u001b[39;00m \u001b[39mTrue\u001b[39;00m:\n\u001b[1;32m----> <a href='vscode-notebook-cell:/d%3A/git/FedStellar-topo-manipulation/fedstellar/test.ipynb#X40sZmlsZQ%3D%3D?line=1'>2</a>\u001b[0m         time\u001b[39m.\u001b[39msleep(\u001b[39m1\u001b[39m)\n\u001b[0;32m      <a href='vscode-notebook-cell:/d%3A/git/FedStellar-topo-manipulation/fedstellar/test.ipynb#X40sZmlsZQ%3D%3D?line=2'>3</a>\u001b[0m         finish \u001b[39m=\u001b[39m \u001b[39mTrue\u001b[39;00m\n\u001b[0;32m      <a href='vscode-notebook-cell:/d%3A/git/FedStellar-topo-manipulation/fedstellar/test.ipynb#X40sZmlsZQ%3D%3D?line=3'>4</a>\u001b[0m         \u001b[39mfor\u001b[39;00m f \u001b[39min\u001b[39;00m [n\u001b[39m.\u001b[39mround \u001b[39mis\u001b[39;00m \u001b[39mNone\u001b[39;00m \u001b[39mfor\u001b[39;00m n \u001b[39min\u001b[39;00m [benign_mnist_node]]:\n",
      "\u001b[1;31mKeyboardInterrupt\u001b[0m: "
     ]
    },
    {
     "data": {
      "text/html": [
       "<pre style=\"white-space:pre;overflow-x:auto;line-height:normal;font-family:Menlo,'DejaVu Sans Mono',consolas,'Courier New',monospace\">Epoch end: Validation, epoch number: 3\n",
       "</pre>\n"
      ],
      "text/plain": [
       "Epoch end: Validation, epoch number: 3\n"
      ]
     },
     "metadata": {},
     "output_type": "display_data"
    },
    {
     "data": {
      "text/html": [
       "<pre style=\"white-space:pre;overflow-x:auto;line-height:normal;font-family:Menlo,'DejaVu Sans Mono',consolas,'Courier New',monospace\">Epoch end: Train, epoch number: 2\n",
       "</pre>\n"
      ],
      "text/plain": [
       "Epoch end: Train, epoch number: 2\n"
      ]
     },
     "metadata": {},
     "output_type": "display_data"
    },
    {
     "data": {
      "text/html": [
       "<pre style=\"white-space:pre;overflow-x:auto;line-height:normal;font-family:Menlo,'DejaVu Sans Mono',consolas,'Courier New',monospace\"></pre>\n"
      ],
      "text/plain": []
     },
     "metadata": {},
     "output_type": "display_data"
    },
    {
     "data": {
      "text/html": [
       "<pre style=\"white-space:pre;overflow-x:auto;line-height:normal;font-family:Menlo,'DejaVu Sans Mono',consolas,'Courier New',monospace\">\n",
       "</pre>\n"
      ],
      "text/plain": [
       "\n"
      ]
     },
     "metadata": {},
     "output_type": "display_data"
    }
   ],
   "source": [
    "while True:\n",
    "        time.sleep(1)\n",
    "        finish = True\n",
    "        for f in [n.round is None for n in [benign_mnist_node]]:\n",
    "            finish = finish and f\n",
    "\n",
    "        if finish:\n",
    "            break\n",
    "\n",
    "for n in [benign_mnist_node]:\n",
    "    n.stop()"
   ]
  },
  {
   "cell_type": "code",
   "execution_count": 6,
   "metadata": {},
   "outputs": [
    {
     "name": "stdout",
     "output_type": "stream",
     "text": [
      "[BASENODE] Trying to bind to 127.0.0.1:45602\n"
     ]
    },
    {
     "ename": "KeyboardInterrupt",
     "evalue": "",
     "output_type": "error",
     "traceback": [
      "\u001b[1;31m---------------------------------------------------------------------------\u001b[0m",
      "\u001b[1;31mKeyboardInterrupt\u001b[0m                         Traceback (most recent call last)",
      "\u001b[1;32md:\\git\\FedStellar-topo-manipulation\\fedstellar\\test.ipynb Cell 7\u001b[0m line \u001b[0;36m1\n\u001b[0;32m     <a href='vscode-notebook-cell:/d%3A/git/FedStellar-topo-manipulation/fedstellar/test.ipynb#W6sZmlsZQ%3D%3D?line=16'>17</a>\u001b[0m benign_mnist_node\u001b[39m.\u001b[39mset_start_learning(rounds\u001b[39m=\u001b[39m\u001b[39m1\u001b[39m, epochs\u001b[39m=\u001b[39m\u001b[39m10\u001b[39m)\n\u001b[0;32m     <a href='vscode-notebook-cell:/d%3A/git/FedStellar-topo-manipulation/fedstellar/test.ipynb#W6sZmlsZQ%3D%3D?line=17'>18</a>\u001b[0m \u001b[39mwhile\u001b[39;00m \u001b[39mTrue\u001b[39;00m:\n\u001b[1;32m---> <a href='vscode-notebook-cell:/d%3A/git/FedStellar-topo-manipulation/fedstellar/test.ipynb#W6sZmlsZQ%3D%3D?line=18'>19</a>\u001b[0m         time\u001b[39m.\u001b[39msleep(\u001b[39m1\u001b[39m)\n\u001b[0;32m     <a href='vscode-notebook-cell:/d%3A/git/FedStellar-topo-manipulation/fedstellar/test.ipynb#W6sZmlsZQ%3D%3D?line=19'>20</a>\u001b[0m         finish \u001b[39m=\u001b[39m \u001b[39mTrue\u001b[39;00m\n\u001b[0;32m     <a href='vscode-notebook-cell:/d%3A/git/FedStellar-topo-manipulation/fedstellar/test.ipynb#W6sZmlsZQ%3D%3D?line=20'>21</a>\u001b[0m         \u001b[39mfor\u001b[39;00m f \u001b[39min\u001b[39;00m [n\u001b[39m.\u001b[39mround \u001b[39mis\u001b[39;00m \u001b[39mNone\u001b[39;00m \u001b[39mfor\u001b[39;00m n \u001b[39min\u001b[39;00m [benign_mnist_node]]:\n",
      "\u001b[1;31mKeyboardInterrupt\u001b[0m: "
     ]
    }
   ],
   "source": [
    "benign_mnist_node = Node(\n",
    "        idx=0,\n",
    "        experiment_name=\"Single_Node_Test\",\n",
    "        model=benign_mnist_model,\n",
    "        data=benign_mnist_dataset,\n",
    "        hostdemo=True,\n",
    "        host=host,\n",
    "        port=port,\n",
    "        config=config,\n",
    "        encrypt=False,\n",
    "        model_poisoning=model_poisoning,\n",
    "        poisoned_ratio=poisoned_ratio,\n",
    "        noise_type=noise_type,\n",
    "    )\n",
    "benign_mnist_node.start()\n",
    "time.sleep(5)\n",
    "benign_mnist_node.set_start_learning(rounds=1, epochs=10)\n",
    "while True:\n",
    "        time.sleep(1)\n",
    "        finish = True\n",
    "        for f in [n.round is None for n in [benign_mnist_node]]:\n",
    "            finish = finish and f\n",
    "\n",
    "        if finish:\n",
    "            break\n",
    "\n",
    "for n in [benign_mnist_node]:\n",
    "    n.stop()"
   ]
  },
  {
   "cell_type": "code",
   "execution_count": 24,
   "metadata": {},
   "outputs": [
    {
     "name": "stdout",
     "output_type": "stream",
     "text": [
      "datamodule: targeted is False\n",
      "Datapoisoning: generating watermarked samples for testing (all classes)\n",
      "Train: 5400 Val:600 Test:1000\n"
     ]
    },
    {
     "name": "stderr",
     "output_type": "stream",
     "text": [
      "d:\\git\\FedStellar-topo-manipulation\\fedstellar\\..\\fedstellar\\attacks\\poisoning\\datapoison.py:72: UserWarning: To copy construct from a tensor, it is recommended to use sourceTensor.clone().detach() or sourceTensor.clone().detach().requires_grad_(True), rather than torch.tensor(sourceTensor).\n",
      "  return torch.tensor(img).clone().detach()\n"
     ]
    }
   ],
   "source": [
    "label_flipping = False\n",
    "data_poisoning = False\n",
    "model_poisoning = False\n",
    "poisoned_percent = 0\n",
    "poisoned_ratio = 0\n",
    "targeted = False\n",
    "target_label = 0\n",
    "target_changed_label = 0\n",
    "noise_type = \"salt\"\n",
    "port = 45602\n",
    "benign_mnist_dataset = MNISTDataset(iid=is_iid)\n",
    "benign_mnist_model = MNISTModelMLP()\n",
    "\n",
    "benign_mnist_dataset = DataModule(benign_mnist_dataset.train_set, benign_mnist_dataset.test_set, sub_id=idx, number_sub=n_nodes, indices_dir=indices_dir,\n",
    "                        label_flipping=label_flipping, data_poisoning=data_poisoning,\n",
    "                        poisoned_percent=poisoned_percent,\n",
    "                        poisoned_ratio=poisoned_ratio, targeted=targeted, target_label=target_label,\n",
    "                        target_changed_label=target_changed_label, noise_type=noise_type)\n"
   ]
  },
  {
   "cell_type": "code",
   "execution_count": 20,
   "metadata": {},
   "outputs": [
    {
     "data": {
      "application/vnd.jupyter.widget-view+json": {
       "model_id": "6824802bc9a540d1a2385864f992828b",
       "version_major": 2,
       "version_minor": 0
      },
      "text/plain": [
       "Output()"
      ]
     },
     "metadata": {},
     "output_type": "display_data"
    },
    {
     "data": {
      "text/html": [
       "<pre style=\"white-space:pre;overflow-x:auto;line-height:normal;font-family:Menlo,'DejaVu Sans Mono',consolas,'Courier New',monospace\">Epoch end: Test, epoch number: 0\n",
       "</pre>\n"
      ],
      "text/plain": [
       "Epoch end: Test, epoch number: 0\n"
      ]
     },
     "metadata": {},
     "output_type": "display_data"
    },
    {
     "data": {
      "text/html": [
       "<pre style=\"white-space:pre;overflow-x:auto;line-height:normal;font-family:Menlo,'DejaVu Sans Mono',consolas,'Courier New',monospace\">┏━━━━━━━━━━━━━━━━━━━━━━━━━━━┳━━━━━━━━━━━━━━━━━━━━━━━━━━━┓\n",
       "┃<span style=\"font-weight: bold\">   Runningstage.testing    </span>┃<span style=\"font-weight: bold\">                           </span>┃\n",
       "┃<span style=\"font-weight: bold\">          metric           </span>┃<span style=\"font-weight: bold\">       DataLoader 0        </span>┃\n",
       "┡━━━━━━━━━━━━━━━━━━━━━━━━━━━╇━━━━━━━━━━━━━━━━━━━━━━━━━━━┩\n",
       "│<span style=\"color: #008080; text-decoration-color: #008080\">       Test/Accuracy       </span>│<span style=\"color: #800080; text-decoration-color: #800080\">    0.09000767767429352    </span>│\n",
       "│<span style=\"color: #008080; text-decoration-color: #008080\">       Test/F1Score        </span>│<span style=\"color: #800080; text-decoration-color: #800080\">    0.04667884483933449    </span>│\n",
       "│<span style=\"color: #008080; text-decoration-color: #008080\">         Test/Loss         </span>│<span style=\"color: #800080; text-decoration-color: #800080\">    2.2997682094573975     </span>│\n",
       "│<span style=\"color: #008080; text-decoration-color: #008080\">      Test/Precision       </span>│<span style=\"color: #800080; text-decoration-color: #800080\">   0.038008131086826324    </span>│\n",
       "│<span style=\"color: #008080; text-decoration-color: #008080\">        Test/Recall        </span>│<span style=\"color: #800080; text-decoration-color: #800080\">    0.09000767767429352    </span>│\n",
       "│<span style=\"color: #008080; text-decoration-color: #008080\">    TestEpoch/Accuracy     </span>│<span style=\"color: #800080; text-decoration-color: #800080\">    0.08722295612096786    </span>│\n",
       "│<span style=\"color: #008080; text-decoration-color: #008080\">     TestEpoch/F1Score     </span>│<span style=\"color: #800080; text-decoration-color: #800080\">    0.04937143623828888    </span>│\n",
       "│<span style=\"color: #008080; text-decoration-color: #008080\">    TestEpoch/Precision    </span>│<span style=\"color: #800080; text-decoration-color: #800080\">    0.04641176760196686    </span>│\n",
       "│<span style=\"color: #008080; text-decoration-color: #008080\">     TestEpoch/Recall      </span>│<span style=\"color: #800080; text-decoration-color: #800080\">    0.08722295612096786    </span>│\n",
       "└───────────────────────────┴───────────────────────────┘\n",
       "</pre>\n"
      ],
      "text/plain": [
       "┏━━━━━━━━━━━━━━━━━━━━━━━━━━━┳━━━━━━━━━━━━━━━━━━━━━━━━━━━┓\n",
       "┃\u001b[1m \u001b[0m\u001b[1m  Runningstage.testing   \u001b[0m\u001b[1m \u001b[0m┃\u001b[1m                           \u001b[0m┃\n",
       "┃\u001b[1m \u001b[0m\u001b[1m         metric          \u001b[0m\u001b[1m \u001b[0m┃\u001b[1m \u001b[0m\u001b[1m      DataLoader 0       \u001b[0m\u001b[1m \u001b[0m┃\n",
       "┡━━━━━━━━━━━━━━━━━━━━━━━━━━━╇━━━━━━━━━━━━━━━━━━━━━━━━━━━┩\n",
       "│\u001b[36m \u001b[0m\u001b[36m      Test/Accuracy      \u001b[0m\u001b[36m \u001b[0m│\u001b[35m \u001b[0m\u001b[35m   0.09000767767429352   \u001b[0m\u001b[35m \u001b[0m│\n",
       "│\u001b[36m \u001b[0m\u001b[36m      Test/F1Score       \u001b[0m\u001b[36m \u001b[0m│\u001b[35m \u001b[0m\u001b[35m   0.04667884483933449   \u001b[0m\u001b[35m \u001b[0m│\n",
       "│\u001b[36m \u001b[0m\u001b[36m        Test/Loss        \u001b[0m\u001b[36m \u001b[0m│\u001b[35m \u001b[0m\u001b[35m   2.2997682094573975    \u001b[0m\u001b[35m \u001b[0m│\n",
       "│\u001b[36m \u001b[0m\u001b[36m     Test/Precision      \u001b[0m\u001b[36m \u001b[0m│\u001b[35m \u001b[0m\u001b[35m  0.038008131086826324   \u001b[0m\u001b[35m \u001b[0m│\n",
       "│\u001b[36m \u001b[0m\u001b[36m       Test/Recall       \u001b[0m\u001b[36m \u001b[0m│\u001b[35m \u001b[0m\u001b[35m   0.09000767767429352   \u001b[0m\u001b[35m \u001b[0m│\n",
       "│\u001b[36m \u001b[0m\u001b[36m   TestEpoch/Accuracy    \u001b[0m\u001b[36m \u001b[0m│\u001b[35m \u001b[0m\u001b[35m   0.08722295612096786   \u001b[0m\u001b[35m \u001b[0m│\n",
       "│\u001b[36m \u001b[0m\u001b[36m    TestEpoch/F1Score    \u001b[0m\u001b[36m \u001b[0m│\u001b[35m \u001b[0m\u001b[35m   0.04937143623828888   \u001b[0m\u001b[35m \u001b[0m│\n",
       "│\u001b[36m \u001b[0m\u001b[36m   TestEpoch/Precision   \u001b[0m\u001b[36m \u001b[0m│\u001b[35m \u001b[0m\u001b[35m   0.04641176760196686   \u001b[0m\u001b[35m \u001b[0m│\n",
       "│\u001b[36m \u001b[0m\u001b[36m    TestEpoch/Recall     \u001b[0m\u001b[36m \u001b[0m│\u001b[35m \u001b[0m\u001b[35m   0.08722295612096786   \u001b[0m\u001b[35m \u001b[0m│\n",
       "└───────────────────────────┴───────────────────────────┘\n"
      ]
     },
     "metadata": {},
     "output_type": "display_data"
    },
    {
     "data": {
      "text/html": [
       "<pre style=\"white-space:pre;overflow-x:auto;line-height:normal;font-family:Menlo,'DejaVu Sans Mono',consolas,'Courier New',monospace\"></pre>\n"
      ],
      "text/plain": []
     },
     "metadata": {},
     "output_type": "display_data"
    },
    {
     "data": {
      "text/html": [
       "<pre style=\"white-space:pre;overflow-x:auto;line-height:normal;font-family:Menlo,'DejaVu Sans Mono',consolas,'Courier New',monospace\">\n",
       "</pre>\n"
      ],
      "text/plain": [
       "\n"
      ]
     },
     "metadata": {},
     "output_type": "display_data"
    },
    {
     "data": {
      "text/html": [
       "<pre style=\"white-space:pre;overflow-x:auto;line-height:normal;font-family:Menlo,'DejaVu Sans Mono',consolas,'Courier New',monospace\">┏━━━┳━━━━━━━━━━━━━━━┳━━━━━━━━━━━━━━━━━━━━━━━━━━━┳━━━━━━━━┳━━━━━━━━━━┳━━━━━━━━━━━┓\n",
       "┃<span style=\"color: #800080; text-decoration-color: #800080; font-weight: bold\">   </span>┃<span style=\"color: #800080; text-decoration-color: #800080; font-weight: bold\"> Name          </span>┃<span style=\"color: #800080; text-decoration-color: #800080; font-weight: bold\"> Type                      </span>┃<span style=\"color: #800080; text-decoration-color: #800080; font-weight: bold\"> Params </span>┃<span style=\"color: #800080; text-decoration-color: #800080; font-weight: bold\"> In sizes </span>┃<span style=\"color: #800080; text-decoration-color: #800080; font-weight: bold\"> Out sizes </span>┃\n",
       "┡━━━╇━━━━━━━━━━━━━━━╇━━━━━━━━━━━━━━━━━━━━━━━━━━━╇━━━━━━━━╇━━━━━━━━━━╇━━━━━━━━━━━┩\n",
       "│<span style=\"color: #7f7f7f; text-decoration-color: #7f7f7f\"> 0 </span>│ train_metrics │ MetricCollection          │      0 │<span style=\"color: #c0c0c0; text-decoration-color: #c0c0c0\">        ? </span>│<span style=\"color: #c0c0c0; text-decoration-color: #c0c0c0\">         ? </span>│\n",
       "│<span style=\"color: #7f7f7f; text-decoration-color: #7f7f7f\"> 1 </span>│ val_metrics   │ MetricCollection          │      0 │<span style=\"color: #c0c0c0; text-decoration-color: #c0c0c0\">        ? </span>│<span style=\"color: #c0c0c0; text-decoration-color: #c0c0c0\">         ? </span>│\n",
       "│<span style=\"color: #7f7f7f; text-decoration-color: #7f7f7f\"> 2 </span>│ test_metrics  │ MetricCollection          │      0 │<span style=\"color: #c0c0c0; text-decoration-color: #c0c0c0\">        ? </span>│<span style=\"color: #c0c0c0; text-decoration-color: #c0c0c0\">         ? </span>│\n",
       "│<span style=\"color: #7f7f7f; text-decoration-color: #7f7f7f\"> 3 </span>│ cm            │ MulticlassConfusionMatrix │      0 │<span style=\"color: #c0c0c0; text-decoration-color: #c0c0c0\">        ? </span>│<span style=\"color: #c0c0c0; text-decoration-color: #c0c0c0\">         ? </span>│\n",
       "│<span style=\"color: #7f7f7f; text-decoration-color: #7f7f7f\"> 4 </span>│ criterion     │ CrossEntropyLoss          │      0 │<span style=\"color: #c0c0c0; text-decoration-color: #c0c0c0\">        ? </span>│<span style=\"color: #c0c0c0; text-decoration-color: #c0c0c0\">         ? </span>│\n",
       "│<span style=\"color: #7f7f7f; text-decoration-color: #7f7f7f\"> 5 </span>│ l1            │ Linear                    │  200 K │<span style=\"color: #c0c0c0; text-decoration-color: #c0c0c0\"> [1, 784] </span>│<span style=\"color: #c0c0c0; text-decoration-color: #c0c0c0\">  [1, 256] </span>│\n",
       "│<span style=\"color: #7f7f7f; text-decoration-color: #7f7f7f\"> 6 </span>│ l2            │ Linear                    │ 32.9 K │<span style=\"color: #c0c0c0; text-decoration-color: #c0c0c0\"> [1, 256] </span>│<span style=\"color: #c0c0c0; text-decoration-color: #c0c0c0\">  [1, 128] </span>│\n",
       "│<span style=\"color: #7f7f7f; text-decoration-color: #7f7f7f\"> 7 </span>│ l3            │ Linear                    │  1.3 K │<span style=\"color: #c0c0c0; text-decoration-color: #c0c0c0\"> [1, 128] </span>│<span style=\"color: #c0c0c0; text-decoration-color: #c0c0c0\">   [1, 10] </span>│\n",
       "└───┴───────────────┴───────────────────────────┴────────┴──────────┴───────────┘\n",
       "</pre>\n"
      ],
      "text/plain": [
       "┏━━━┳━━━━━━━━━━━━━━━┳━━━━━━━━━━━━━━━━━━━━━━━━━━━┳━━━━━━━━┳━━━━━━━━━━┳━━━━━━━━━━━┓\n",
       "┃\u001b[1;35m \u001b[0m\u001b[1;35m \u001b[0m\u001b[1;35m \u001b[0m┃\u001b[1;35m \u001b[0m\u001b[1;35mName         \u001b[0m\u001b[1;35m \u001b[0m┃\u001b[1;35m \u001b[0m\u001b[1;35mType                     \u001b[0m\u001b[1;35m \u001b[0m┃\u001b[1;35m \u001b[0m\u001b[1;35mParams\u001b[0m\u001b[1;35m \u001b[0m┃\u001b[1;35m \u001b[0m\u001b[1;35mIn sizes\u001b[0m\u001b[1;35m \u001b[0m┃\u001b[1;35m \u001b[0m\u001b[1;35mOut sizes\u001b[0m\u001b[1;35m \u001b[0m┃\n",
       "┡━━━╇━━━━━━━━━━━━━━━╇━━━━━━━━━━━━━━━━━━━━━━━━━━━╇━━━━━━━━╇━━━━━━━━━━╇━━━━━━━━━━━┩\n",
       "│\u001b[2m \u001b[0m\u001b[2m0\u001b[0m\u001b[2m \u001b[0m│ train_metrics │ MetricCollection          │      0 │\u001b[37m \u001b[0m\u001b[37m       ?\u001b[0m\u001b[37m \u001b[0m│\u001b[37m \u001b[0m\u001b[37m        ?\u001b[0m\u001b[37m \u001b[0m│\n",
       "│\u001b[2m \u001b[0m\u001b[2m1\u001b[0m\u001b[2m \u001b[0m│ val_metrics   │ MetricCollection          │      0 │\u001b[37m \u001b[0m\u001b[37m       ?\u001b[0m\u001b[37m \u001b[0m│\u001b[37m \u001b[0m\u001b[37m        ?\u001b[0m\u001b[37m \u001b[0m│\n",
       "│\u001b[2m \u001b[0m\u001b[2m2\u001b[0m\u001b[2m \u001b[0m│ test_metrics  │ MetricCollection          │      0 │\u001b[37m \u001b[0m\u001b[37m       ?\u001b[0m\u001b[37m \u001b[0m│\u001b[37m \u001b[0m\u001b[37m        ?\u001b[0m\u001b[37m \u001b[0m│\n",
       "│\u001b[2m \u001b[0m\u001b[2m3\u001b[0m\u001b[2m \u001b[0m│ cm            │ MulticlassConfusionMatrix │      0 │\u001b[37m \u001b[0m\u001b[37m       ?\u001b[0m\u001b[37m \u001b[0m│\u001b[37m \u001b[0m\u001b[37m        ?\u001b[0m\u001b[37m \u001b[0m│\n",
       "│\u001b[2m \u001b[0m\u001b[2m4\u001b[0m\u001b[2m \u001b[0m│ criterion     │ CrossEntropyLoss          │      0 │\u001b[37m \u001b[0m\u001b[37m       ?\u001b[0m\u001b[37m \u001b[0m│\u001b[37m \u001b[0m\u001b[37m        ?\u001b[0m\u001b[37m \u001b[0m│\n",
       "│\u001b[2m \u001b[0m\u001b[2m5\u001b[0m\u001b[2m \u001b[0m│ l1            │ Linear                    │  200 K │\u001b[37m \u001b[0m\u001b[37m[1, 784]\u001b[0m\u001b[37m \u001b[0m│\u001b[37m \u001b[0m\u001b[37m [1, 256]\u001b[0m\u001b[37m \u001b[0m│\n",
       "│\u001b[2m \u001b[0m\u001b[2m6\u001b[0m\u001b[2m \u001b[0m│ l2            │ Linear                    │ 32.9 K │\u001b[37m \u001b[0m\u001b[37m[1, 256]\u001b[0m\u001b[37m \u001b[0m│\u001b[37m \u001b[0m\u001b[37m [1, 128]\u001b[0m\u001b[37m \u001b[0m│\n",
       "│\u001b[2m \u001b[0m\u001b[2m7\u001b[0m\u001b[2m \u001b[0m│ l3            │ Linear                    │  1.3 K │\u001b[37m \u001b[0m\u001b[37m[1, 128]\u001b[0m\u001b[37m \u001b[0m│\u001b[37m \u001b[0m\u001b[37m  [1, 10]\u001b[0m\u001b[37m \u001b[0m│\n",
       "└───┴───────────────┴───────────────────────────┴────────┴──────────┴───────────┘\n"
      ]
     },
     "metadata": {},
     "output_type": "display_data"
    },
    {
     "data": {
      "text/html": [
       "<pre style=\"white-space:pre;overflow-x:auto;line-height:normal;font-family:Menlo,'DejaVu Sans Mono',consolas,'Courier New',monospace\"><span style=\"font-weight: bold\">Trainable params</span>: 235 K                                                                                            \n",
       "<span style=\"font-weight: bold\">Non-trainable params</span>: 0                                                                                            \n",
       "<span style=\"font-weight: bold\">Total params</span>: 235 K                                                                                                \n",
       "<span style=\"font-weight: bold\">Total estimated model params size (MB)</span>: 0                                                                          \n",
       "</pre>\n"
      ],
      "text/plain": [
       "\u001b[1mTrainable params\u001b[0m: 235 K                                                                                            \n",
       "\u001b[1mNon-trainable params\u001b[0m: 0                                                                                            \n",
       "\u001b[1mTotal params\u001b[0m: 235 K                                                                                                \n",
       "\u001b[1mTotal estimated model params size (MB)\u001b[0m: 0                                                                          \n"
      ]
     },
     "metadata": {},
     "output_type": "display_data"
    },
    {
     "data": {
      "application/vnd.jupyter.widget-view+json": {
       "model_id": "094384c964c84ae2a30f7f0a886591d7",
       "version_major": 2,
       "version_minor": 0
      },
      "text/plain": [
       "Output()"
      ]
     },
     "metadata": {},
     "output_type": "display_data"
    },
    {
     "data": {
      "text/html": [
       "<pre style=\"white-space:pre;overflow-x:auto;line-height:normal;font-family:Menlo,'DejaVu Sans Mono',consolas,'Courier New',monospace\">Epoch end: Validation, epoch number: 0\n",
       "</pre>\n"
      ],
      "text/plain": [
       "Epoch end: Validation, epoch number: 0\n"
      ]
     },
     "metadata": {},
     "output_type": "display_data"
    },
    {
     "data": {
      "text/html": [
       "<pre style=\"white-space:pre;overflow-x:auto;line-height:normal;font-family:Menlo,'DejaVu Sans Mono',consolas,'Courier New',monospace\">Epoch end: Validation, epoch number: 1\n",
       "</pre>\n"
      ],
      "text/plain": [
       "Epoch end: Validation, epoch number: 1\n"
      ]
     },
     "metadata": {},
     "output_type": "display_data"
    },
    {
     "data": {
      "text/html": [
       "<pre style=\"white-space:pre;overflow-x:auto;line-height:normal;font-family:Menlo,'DejaVu Sans Mono',consolas,'Courier New',monospace\">Epoch end: Train, epoch number: 0\n",
       "</pre>\n"
      ],
      "text/plain": [
       "Epoch end: Train, epoch number: 0\n"
      ]
     },
     "metadata": {},
     "output_type": "display_data"
    },
    {
     "data": {
      "text/html": [
       "<pre style=\"white-space:pre;overflow-x:auto;line-height:normal;font-family:Menlo,'DejaVu Sans Mono',consolas,'Courier New',monospace\">Epoch end: Validation, epoch number: 2\n",
       "</pre>\n"
      ],
      "text/plain": [
       "Epoch end: Validation, epoch number: 2\n"
      ]
     },
     "metadata": {},
     "output_type": "display_data"
    },
    {
     "data": {
      "text/html": [
       "<pre style=\"white-space:pre;overflow-x:auto;line-height:normal;font-family:Menlo,'DejaVu Sans Mono',consolas,'Courier New',monospace\">Epoch end: Train, epoch number: 1\n",
       "</pre>\n"
      ],
      "text/plain": [
       "Epoch end: Train, epoch number: 1\n"
      ]
     },
     "metadata": {},
     "output_type": "display_data"
    },
    {
     "data": {
      "text/html": [
       "<pre style=\"white-space:pre;overflow-x:auto;line-height:normal;font-family:Menlo,'DejaVu Sans Mono',consolas,'Courier New',monospace\">Epoch end: Validation, epoch number: 3\n",
       "</pre>\n"
      ],
      "text/plain": [
       "Epoch end: Validation, epoch number: 3\n"
      ]
     },
     "metadata": {},
     "output_type": "display_data"
    },
    {
     "data": {
      "text/html": [
       "<pre style=\"white-space:pre;overflow-x:auto;line-height:normal;font-family:Menlo,'DejaVu Sans Mono',consolas,'Courier New',monospace\">Epoch end: Train, epoch number: 2\n",
       "</pre>\n"
      ],
      "text/plain": [
       "Epoch end: Train, epoch number: 2\n"
      ]
     },
     "metadata": {},
     "output_type": "display_data"
    },
    {
     "data": {
      "text/html": [
       "<pre style=\"white-space:pre;overflow-x:auto;line-height:normal;font-family:Menlo,'DejaVu Sans Mono',consolas,'Courier New',monospace\">Epoch end: Validation, epoch number: 4\n",
       "</pre>\n"
      ],
      "text/plain": [
       "Epoch end: Validation, epoch number: 4\n"
      ]
     },
     "metadata": {},
     "output_type": "display_data"
    },
    {
     "data": {
      "text/html": [
       "<pre style=\"white-space:pre;overflow-x:auto;line-height:normal;font-family:Menlo,'DejaVu Sans Mono',consolas,'Courier New',monospace\">Epoch end: Train, epoch number: 3\n",
       "</pre>\n"
      ],
      "text/plain": [
       "Epoch end: Train, epoch number: 3\n"
      ]
     },
     "metadata": {},
     "output_type": "display_data"
    },
    {
     "data": {
      "text/html": [
       "<pre style=\"white-space:pre;overflow-x:auto;line-height:normal;font-family:Menlo,'DejaVu Sans Mono',consolas,'Courier New',monospace\">Epoch end: Validation, epoch number: 5\n",
       "</pre>\n"
      ],
      "text/plain": [
       "Epoch end: Validation, epoch number: 5\n"
      ]
     },
     "metadata": {},
     "output_type": "display_data"
    },
    {
     "data": {
      "text/html": [
       "<pre style=\"white-space:pre;overflow-x:auto;line-height:normal;font-family:Menlo,'DejaVu Sans Mono',consolas,'Courier New',monospace\">Epoch end: Train, epoch number: 4\n",
       "</pre>\n"
      ],
      "text/plain": [
       "Epoch end: Train, epoch number: 4\n"
      ]
     },
     "metadata": {},
     "output_type": "display_data"
    },
    {
     "data": {
      "text/html": [
       "<pre style=\"white-space:pre;overflow-x:auto;line-height:normal;font-family:Menlo,'DejaVu Sans Mono',consolas,'Courier New',monospace\">Epoch end: Validation, epoch number: 6\n",
       "</pre>\n"
      ],
      "text/plain": [
       "Epoch end: Validation, epoch number: 6\n"
      ]
     },
     "metadata": {},
     "output_type": "display_data"
    },
    {
     "data": {
      "text/html": [
       "<pre style=\"white-space:pre;overflow-x:auto;line-height:normal;font-family:Menlo,'DejaVu Sans Mono',consolas,'Courier New',monospace\">Epoch end: Train, epoch number: 5\n",
       "</pre>\n"
      ],
      "text/plain": [
       "Epoch end: Train, epoch number: 5\n"
      ]
     },
     "metadata": {},
     "output_type": "display_data"
    },
    {
     "data": {
      "text/html": [
       "<pre style=\"white-space:pre;overflow-x:auto;line-height:normal;font-family:Menlo,'DejaVu Sans Mono',consolas,'Courier New',monospace\">Epoch end: Validation, epoch number: 7\n",
       "</pre>\n"
      ],
      "text/plain": [
       "Epoch end: Validation, epoch number: 7\n"
      ]
     },
     "metadata": {},
     "output_type": "display_data"
    },
    {
     "data": {
      "text/html": [
       "<pre style=\"white-space:pre;overflow-x:auto;line-height:normal;font-family:Menlo,'DejaVu Sans Mono',consolas,'Courier New',monospace\">Epoch end: Train, epoch number: 6\n",
       "</pre>\n"
      ],
      "text/plain": [
       "Epoch end: Train, epoch number: 6\n"
      ]
     },
     "metadata": {},
     "output_type": "display_data"
    },
    {
     "data": {
      "text/html": [
       "<pre style=\"white-space:pre;overflow-x:auto;line-height:normal;font-family:Menlo,'DejaVu Sans Mono',consolas,'Courier New',monospace\">Epoch end: Validation, epoch number: 8\n",
       "</pre>\n"
      ],
      "text/plain": [
       "Epoch end: Validation, epoch number: 8\n"
      ]
     },
     "metadata": {},
     "output_type": "display_data"
    },
    {
     "data": {
      "text/html": [
       "<pre style=\"white-space:pre;overflow-x:auto;line-height:normal;font-family:Menlo,'DejaVu Sans Mono',consolas,'Courier New',monospace\">Epoch end: Train, epoch number: 7\n",
       "</pre>\n"
      ],
      "text/plain": [
       "Epoch end: Train, epoch number: 7\n"
      ]
     },
     "metadata": {},
     "output_type": "display_data"
    },
    {
     "data": {
      "text/html": [
       "<pre style=\"white-space:pre;overflow-x:auto;line-height:normal;font-family:Menlo,'DejaVu Sans Mono',consolas,'Courier New',monospace\">Epoch end: Validation, epoch number: 9\n",
       "</pre>\n"
      ],
      "text/plain": [
       "Epoch end: Validation, epoch number: 9\n"
      ]
     },
     "metadata": {},
     "output_type": "display_data"
    },
    {
     "data": {
      "text/html": [
       "<pre style=\"white-space:pre;overflow-x:auto;line-height:normal;font-family:Menlo,'DejaVu Sans Mono',consolas,'Courier New',monospace\">Epoch end: Train, epoch number: 8\n",
       "</pre>\n"
      ],
      "text/plain": [
       "Epoch end: Train, epoch number: 8\n"
      ]
     },
     "metadata": {},
     "output_type": "display_data"
    },
    {
     "data": {
      "text/html": [
       "<pre style=\"white-space:pre;overflow-x:auto;line-height:normal;font-family:Menlo,'DejaVu Sans Mono',consolas,'Courier New',monospace\">Epoch end: Validation, epoch number: 10\n",
       "</pre>\n"
      ],
      "text/plain": [
       "Epoch end: Validation, epoch number: 10\n"
      ]
     },
     "metadata": {},
     "output_type": "display_data"
    },
    {
     "data": {
      "text/html": [
       "<pre style=\"white-space:pre;overflow-x:auto;line-height:normal;font-family:Menlo,'DejaVu Sans Mono',consolas,'Courier New',monospace\">Epoch end: Train, epoch number: 9\n",
       "</pre>\n"
      ],
      "text/plain": [
       "Epoch end: Train, epoch number: 9\n"
      ]
     },
     "metadata": {},
     "output_type": "display_data"
    },
    {
     "data": {
      "text/html": [
       "<pre style=\"white-space:pre;overflow-x:auto;line-height:normal;font-family:Menlo,'DejaVu Sans Mono',consolas,'Courier New',monospace\"></pre>\n"
      ],
      "text/plain": []
     },
     "metadata": {},
     "output_type": "display_data"
    },
    {
     "data": {
      "text/html": [
       "<pre style=\"white-space:pre;overflow-x:auto;line-height:normal;font-family:Menlo,'DejaVu Sans Mono',consolas,'Courier New',monospace\">\n",
       "</pre>\n"
      ],
      "text/plain": [
       "\n"
      ]
     },
     "metadata": {},
     "output_type": "display_data"
    },
    {
     "data": {
      "application/vnd.jupyter.widget-view+json": {
       "model_id": "46a19b00d7d848ac81097f7b4a69fefc",
       "version_major": 2,
       "version_minor": 0
      },
      "text/plain": [
       "Output()"
      ]
     },
     "metadata": {},
     "output_type": "display_data"
    },
    {
     "data": {
      "text/html": [
       "<pre style=\"white-space:pre;overflow-x:auto;line-height:normal;font-family:Menlo,'DejaVu Sans Mono',consolas,'Courier New',monospace\">Epoch end: Test, epoch number: 1\n",
       "</pre>\n"
      ],
      "text/plain": [
       "Epoch end: Test, epoch number: 1\n"
      ]
     },
     "metadata": {},
     "output_type": "display_data"
    },
    {
     "data": {
      "text/html": [
       "<pre style=\"white-space:pre;overflow-x:auto;line-height:normal;font-family:Menlo,'DejaVu Sans Mono',consolas,'Courier New',monospace\">┏━━━━━━━━━━━━━━━━━━━━━━━━━━━┳━━━━━━━━━━━━━━━━━━━━━━━━━━━┓\n",
       "┃<span style=\"font-weight: bold\">   Runningstage.testing    </span>┃<span style=\"font-weight: bold\">                           </span>┃\n",
       "┃<span style=\"font-weight: bold\">          metric           </span>┃<span style=\"font-weight: bold\">       DataLoader 0        </span>┃\n",
       "┡━━━━━━━━━━━━━━━━━━━━━━━━━━━╇━━━━━━━━━━━━━━━━━━━━━━━━━━━┩\n",
       "│<span style=\"color: #008080; text-decoration-color: #008080\">       Test/Accuracy       </span>│<span style=\"color: #800080; text-decoration-color: #800080\">    0.9026536345481873     </span>│\n",
       "│<span style=\"color: #008080; text-decoration-color: #008080\">       Test/F1Score        </span>│<span style=\"color: #800080; text-decoration-color: #800080\">    0.8922603726387024     </span>│\n",
       "│<span style=\"color: #008080; text-decoration-color: #008080\">         Test/Loss         </span>│<span style=\"color: #800080; text-decoration-color: #800080\">    0.2664109766483307     </span>│\n",
       "│<span style=\"color: #008080; text-decoration-color: #008080\">      Test/Precision       </span>│<span style=\"color: #800080; text-decoration-color: #800080\">    0.9067742228507996     </span>│\n",
       "│<span style=\"color: #008080; text-decoration-color: #008080\">        Test/Recall        </span>│<span style=\"color: #800080; text-decoration-color: #800080\">    0.9026536345481873     </span>│\n",
       "│<span style=\"color: #008080; text-decoration-color: #008080\">    TestEpoch/Accuracy     </span>│<span style=\"color: #800080; text-decoration-color: #800080\">    0.9199330806732178     </span>│\n",
       "│<span style=\"color: #008080; text-decoration-color: #008080\">     TestEpoch/F1Score     </span>│<span style=\"color: #800080; text-decoration-color: #800080\">    0.9202542304992676     </span>│\n",
       "│<span style=\"color: #008080; text-decoration-color: #008080\">    TestEpoch/Precision    </span>│<span style=\"color: #800080; text-decoration-color: #800080\">    0.9221217632293701     </span>│\n",
       "│<span style=\"color: #008080; text-decoration-color: #008080\">     TestEpoch/Recall      </span>│<span style=\"color: #800080; text-decoration-color: #800080\">    0.9199330806732178     </span>│\n",
       "└───────────────────────────┴───────────────────────────┘\n",
       "</pre>\n"
      ],
      "text/plain": [
       "┏━━━━━━━━━━━━━━━━━━━━━━━━━━━┳━━━━━━━━━━━━━━━━━━━━━━━━━━━┓\n",
       "┃\u001b[1m \u001b[0m\u001b[1m  Runningstage.testing   \u001b[0m\u001b[1m \u001b[0m┃\u001b[1m                           \u001b[0m┃\n",
       "┃\u001b[1m \u001b[0m\u001b[1m         metric          \u001b[0m\u001b[1m \u001b[0m┃\u001b[1m \u001b[0m\u001b[1m      DataLoader 0       \u001b[0m\u001b[1m \u001b[0m┃\n",
       "┡━━━━━━━━━━━━━━━━━━━━━━━━━━━╇━━━━━━━━━━━━━━━━━━━━━━━━━━━┩\n",
       "│\u001b[36m \u001b[0m\u001b[36m      Test/Accuracy      \u001b[0m\u001b[36m \u001b[0m│\u001b[35m \u001b[0m\u001b[35m   0.9026536345481873    \u001b[0m\u001b[35m \u001b[0m│\n",
       "│\u001b[36m \u001b[0m\u001b[36m      Test/F1Score       \u001b[0m\u001b[36m \u001b[0m│\u001b[35m \u001b[0m\u001b[35m   0.8922603726387024    \u001b[0m\u001b[35m \u001b[0m│\n",
       "│\u001b[36m \u001b[0m\u001b[36m        Test/Loss        \u001b[0m\u001b[36m \u001b[0m│\u001b[35m \u001b[0m\u001b[35m   0.2664109766483307    \u001b[0m\u001b[35m \u001b[0m│\n",
       "│\u001b[36m \u001b[0m\u001b[36m     Test/Precision      \u001b[0m\u001b[36m \u001b[0m│\u001b[35m \u001b[0m\u001b[35m   0.9067742228507996    \u001b[0m\u001b[35m \u001b[0m│\n",
       "│\u001b[36m \u001b[0m\u001b[36m       Test/Recall       \u001b[0m\u001b[36m \u001b[0m│\u001b[35m \u001b[0m\u001b[35m   0.9026536345481873    \u001b[0m\u001b[35m \u001b[0m│\n",
       "│\u001b[36m \u001b[0m\u001b[36m   TestEpoch/Accuracy    \u001b[0m\u001b[36m \u001b[0m│\u001b[35m \u001b[0m\u001b[35m   0.9199330806732178    \u001b[0m\u001b[35m \u001b[0m│\n",
       "│\u001b[36m \u001b[0m\u001b[36m    TestEpoch/F1Score    \u001b[0m\u001b[36m \u001b[0m│\u001b[35m \u001b[0m\u001b[35m   0.9202542304992676    \u001b[0m\u001b[35m \u001b[0m│\n",
       "│\u001b[36m \u001b[0m\u001b[36m   TestEpoch/Precision   \u001b[0m\u001b[36m \u001b[0m│\u001b[35m \u001b[0m\u001b[35m   0.9221217632293701    \u001b[0m\u001b[35m \u001b[0m│\n",
       "│\u001b[36m \u001b[0m\u001b[36m    TestEpoch/Recall     \u001b[0m\u001b[36m \u001b[0m│\u001b[35m \u001b[0m\u001b[35m   0.9199330806732178    \u001b[0m\u001b[35m \u001b[0m│\n",
       "└───────────────────────────┴───────────────────────────┘\n"
      ]
     },
     "metadata": {},
     "output_type": "display_data"
    },
    {
     "data": {
      "text/html": [
       "<pre style=\"white-space:pre;overflow-x:auto;line-height:normal;font-family:Menlo,'DejaVu Sans Mono',consolas,'Courier New',monospace\"></pre>\n"
      ],
      "text/plain": []
     },
     "metadata": {},
     "output_type": "display_data"
    },
    {
     "data": {
      "text/html": [
       "<pre style=\"white-space:pre;overflow-x:auto;line-height:normal;font-family:Menlo,'DejaVu Sans Mono',consolas,'Courier New',monospace\">\n",
       "</pre>\n"
      ],
      "text/plain": [
       "\n"
      ]
     },
     "metadata": {},
     "output_type": "display_data"
    },
    {
     "name": "stderr",
     "output_type": "stream",
     "text": [
      "--- Logging error ---\n",
      "Traceback (most recent call last):\n",
      "  File \"C:\\Users\\luke-\\AppData\\Local\\Programs\\Python\\Python311\\Lib\\logging\\__init__.py\", line 1113, in emit\n",
      "    stream.write(msg + self.terminator)\n",
      "UnicodeEncodeError: 'gbk' codec can't encode character '\\u2022' in position 769: illegal multibyte sequence\n",
      "Call stack:\n",
      "  File \"<frozen runpy>\", line 198, in _run_module_as_main\n",
      "  File \"<frozen runpy>\", line 88, in _run_code\n",
      "  File \"d:\\git\\FedStellar-topo-manipulation\\venv\\Lib\\site-packages\\ipykernel_launcher.py\", line 17, in <module>\n",
      "    app.launch_new_instance()\n",
      "  File \"d:\\git\\FedStellar-topo-manipulation\\venv\\Lib\\site-packages\\traitlets\\config\\application.py\", line 1046, in launch_instance\n",
      "    app.start()\n",
      "  File \"d:\\git\\FedStellar-topo-manipulation\\venv\\Lib\\site-packages\\ipykernel\\kernelapp.py\", line 736, in start\n",
      "    self.io_loop.start()\n",
      "  File \"d:\\git\\FedStellar-topo-manipulation\\venv\\Lib\\site-packages\\tornado\\platform\\asyncio.py\", line 195, in start\n",
      "    self.asyncio_loop.run_forever()\n",
      "  File \"C:\\Users\\luke-\\AppData\\Local\\Programs\\Python\\Python311\\Lib\\asyncio\\base_events.py\", line 607, in run_forever\n",
      "    self._run_once()\n",
      "  File \"C:\\Users\\luke-\\AppData\\Local\\Programs\\Python\\Python311\\Lib\\asyncio\\base_events.py\", line 1922, in _run_once\n",
      "    handle._run()\n",
      "  File \"C:\\Users\\luke-\\AppData\\Local\\Programs\\Python\\Python311\\Lib\\asyncio\\events.py\", line 80, in _run\n",
      "    self._context.run(self._callback, *self._args)\n",
      "  File \"d:\\git\\FedStellar-topo-manipulation\\venv\\Lib\\site-packages\\ipykernel\\kernelbase.py\", line 516, in dispatch_queue\n",
      "    await self.process_one()\n",
      "  File \"d:\\git\\FedStellar-topo-manipulation\\venv\\Lib\\site-packages\\ipykernel\\kernelbase.py\", line 505, in process_one\n",
      "    await dispatch(*args)\n",
      "  File \"d:\\git\\FedStellar-topo-manipulation\\venv\\Lib\\site-packages\\ipykernel\\kernelbase.py\", line 410, in dispatch_shell\n",
      "    result = handler(self.shell_stream, idents, msg)\n",
      "  File \"d:\\git\\FedStellar-topo-manipulation\\venv\\Lib\\site-packages\\comm\\base_comm.py\", line 261, in comm_msg\n",
      "    comm.handle_msg(msg)\n",
      "  File \"d:\\git\\FedStellar-topo-manipulation\\venv\\Lib\\site-packages\\comm\\base_comm.py\", line 150, in handle_msg\n",
      "    logger.debug(\"handle_msg[%s](%s)\", self.comm_id, msg)\n",
      "Message: 'handle_msg[%s](%s)'\n",
      "Arguments: ('6824802bc9a540d1a2385864f992828b', {'header': {'date': datetime.datetime(2023, 9, 28, 13, 34, 3, 38000, tzinfo=tzutc()), 'msg_id': 'dcd398e4-627b-4abc-8b97-7ba4dadb2942', 'msg_type': 'comm_msg', 'session': 'e204dc96-42f2-43b6-ab7a-f0587e1221ba', 'username': '3532d832-869a-498b-a7c0-abb8e9c39b32', 'version': '5.2'}, 'msg_id': 'dcd398e4-627b-4abc-8b97-7ba4dadb2942', 'msg_type': 'comm_msg', 'parent_header': {}, 'metadata': {}, 'content': {'comm_id': '6824802bc9a540d1a2385864f992828b', 'data': {'method': 'update', 'state': {'outputs': [{'output_type': 'display_data', 'data': {'text/plain': '\\x1b[38;5;154mTesting\\x1b[0m \\x1b[38;5;46m━━━━━━━━━━━━━━━━━━━━━━━━━━━━━━━━━━━━━━━━\\x1b[0m \\x1b[38;5;154m31/31\\x1b[0m \\x1b[38;5;252m0:00:00 • 0:00:00\\x1b[0m \\x1b[38;5;252m44.64it/s\\x1b[0m  \\n', 'text/html': '<pre style=\"white-space:pre;overflow-x:auto;line-height:normal;font-family:Menlo,\\'DejaVu Sans Mono\\',consolas,\\'Courier New\\',monospace\"><span style=\"color: #afff00; text-decoration-color: #afff00\">Testing</span> <span style=\"color: #00ff00; text-decoration-color: #00ff00\">━━━━━━━━━━━━━━━━━━━━━━━━━━━━━━━━━━━━━━━━</span> <span style=\"color: #afff00; text-decoration-color: #afff00\">31/31</span> <span style=\"color: #d0d0d0; text-decoration-color: #d0d0d0\">0:00:00 • 0:00:00</span> <span style=\"color: #d0d0d0; text-decoration-color: #d0d0d0\">44.64it/s</span>  \\n</pre>\\n'}, 'metadata': {}}]}, 'buffer_paths': []}}, 'buffers': []})\n",
      "--- Logging error ---\n",
      "Traceback (most recent call last):\n",
      "  File \"C:\\Users\\luke-\\AppData\\Local\\Programs\\Python\\Python311\\Lib\\logging\\__init__.py\", line 1113, in emit\n",
      "    stream.write(msg + self.terminator)\n",
      "UnicodeEncodeError: 'gbk' codec can't encode character '\\u2022' in position 769: illegal multibyte sequence\n",
      "Call stack:\n",
      "  File \"<frozen runpy>\", line 198, in _run_module_as_main\n",
      "  File \"<frozen runpy>\", line 88, in _run_code\n",
      "  File \"d:\\git\\FedStellar-topo-manipulation\\venv\\Lib\\site-packages\\ipykernel_launcher.py\", line 17, in <module>\n",
      "    app.launch_new_instance()\n",
      "  File \"d:\\git\\FedStellar-topo-manipulation\\venv\\Lib\\site-packages\\traitlets\\config\\application.py\", line 1046, in launch_instance\n",
      "    app.start()\n",
      "  File \"d:\\git\\FedStellar-topo-manipulation\\venv\\Lib\\site-packages\\ipykernel\\kernelapp.py\", line 736, in start\n",
      "    self.io_loop.start()\n",
      "  File \"d:\\git\\FedStellar-topo-manipulation\\venv\\Lib\\site-packages\\tornado\\platform\\asyncio.py\", line 195, in start\n",
      "    self.asyncio_loop.run_forever()\n",
      "  File \"C:\\Users\\luke-\\AppData\\Local\\Programs\\Python\\Python311\\Lib\\asyncio\\base_events.py\", line 607, in run_forever\n",
      "    self._run_once()\n",
      "  File \"C:\\Users\\luke-\\AppData\\Local\\Programs\\Python\\Python311\\Lib\\asyncio\\base_events.py\", line 1922, in _run_once\n",
      "    handle._run()\n",
      "  File \"C:\\Users\\luke-\\AppData\\Local\\Programs\\Python\\Python311\\Lib\\asyncio\\events.py\", line 80, in _run\n",
      "    self._context.run(self._callback, *self._args)\n",
      "  File \"d:\\git\\FedStellar-topo-manipulation\\venv\\Lib\\site-packages\\ipykernel\\kernelbase.py\", line 516, in dispatch_queue\n",
      "    await self.process_one()\n",
      "  File \"d:\\git\\FedStellar-topo-manipulation\\venv\\Lib\\site-packages\\ipykernel\\kernelbase.py\", line 505, in process_one\n",
      "    await dispatch(*args)\n",
      "  File \"d:\\git\\FedStellar-topo-manipulation\\venv\\Lib\\site-packages\\ipykernel\\kernelbase.py\", line 410, in dispatch_shell\n",
      "    result = handler(self.shell_stream, idents, msg)\n",
      "  File \"d:\\git\\FedStellar-topo-manipulation\\venv\\Lib\\site-packages\\comm\\base_comm.py\", line 261, in comm_msg\n",
      "    comm.handle_msg(msg)\n",
      "  File \"d:\\git\\FedStellar-topo-manipulation\\venv\\Lib\\site-packages\\comm\\base_comm.py\", line 150, in handle_msg\n",
      "    logger.debug(\"handle_msg[%s](%s)\", self.comm_id, msg)\n",
      "Message: 'handle_msg[%s](%s)'\n",
      "Arguments: ('6824802bc9a540d1a2385864f992828b', {'header': {'date': datetime.datetime(2023, 9, 28, 13, 34, 3, 38000, tzinfo=tzutc()), 'msg_id': 'dcd398e4-627b-4abc-8b97-7ba4dadb2942', 'msg_type': 'comm_msg', 'session': 'e204dc96-42f2-43b6-ab7a-f0587e1221ba', 'username': '3532d832-869a-498b-a7c0-abb8e9c39b32', 'version': '5.2'}, 'msg_id': 'dcd398e4-627b-4abc-8b97-7ba4dadb2942', 'msg_type': 'comm_msg', 'parent_header': {}, 'metadata': {}, 'content': {'comm_id': '6824802bc9a540d1a2385864f992828b', 'data': {'method': 'update', 'state': {'outputs': [{'output_type': 'display_data', 'data': {'text/plain': '\\x1b[38;5;154mTesting\\x1b[0m \\x1b[38;5;46m━━━━━━━━━━━━━━━━━━━━━━━━━━━━━━━━━━━━━━━━\\x1b[0m \\x1b[38;5;154m31/31\\x1b[0m \\x1b[38;5;252m0:00:00 • 0:00:00\\x1b[0m \\x1b[38;5;252m44.64it/s\\x1b[0m  \\n', 'text/html': '<pre style=\"white-space:pre;overflow-x:auto;line-height:normal;font-family:Menlo,\\'DejaVu Sans Mono\\',consolas,\\'Courier New\\',monospace\"><span style=\"color: #afff00; text-decoration-color: #afff00\">Testing</span> <span style=\"color: #00ff00; text-decoration-color: #00ff00\">━━━━━━━━━━━━━━━━━━━━━━━━━━━━━━━━━━━━━━━━</span> <span style=\"color: #afff00; text-decoration-color: #afff00\">31/31</span> <span style=\"color: #d0d0d0; text-decoration-color: #d0d0d0\">0:00:00 • 0:00:00</span> <span style=\"color: #d0d0d0; text-decoration-color: #d0d0d0\">44.64it/s</span>  \\n</pre>\\n'}, 'metadata': {}}]}, 'buffer_paths': []}}, 'buffers': []})\n",
      "--- Logging error ---\n",
      "Traceback (most recent call last):\n",
      "  File \"C:\\Users\\luke-\\AppData\\Local\\Programs\\Python\\Python311\\Lib\\logging\\__init__.py\", line 1113, in emit\n",
      "    stream.write(msg + self.terminator)\n",
      "UnicodeEncodeError: 'gbk' codec can't encode character '\\u2022' in position 769: illegal multibyte sequence\n",
      "Call stack:\n",
      "  File \"<frozen runpy>\", line 198, in _run_module_as_main\n",
      "  File \"<frozen runpy>\", line 88, in _run_code\n",
      "  File \"d:\\git\\FedStellar-topo-manipulation\\venv\\Lib\\site-packages\\ipykernel_launcher.py\", line 17, in <module>\n",
      "    app.launch_new_instance()\n",
      "  File \"d:\\git\\FedStellar-topo-manipulation\\venv\\Lib\\site-packages\\traitlets\\config\\application.py\", line 1046, in launch_instance\n",
      "    app.start()\n",
      "  File \"d:\\git\\FedStellar-topo-manipulation\\venv\\Lib\\site-packages\\ipykernel\\kernelapp.py\", line 736, in start\n",
      "    self.io_loop.start()\n",
      "  File \"d:\\git\\FedStellar-topo-manipulation\\venv\\Lib\\site-packages\\tornado\\platform\\asyncio.py\", line 195, in start\n",
      "    self.asyncio_loop.run_forever()\n",
      "  File \"C:\\Users\\luke-\\AppData\\Local\\Programs\\Python\\Python311\\Lib\\asyncio\\base_events.py\", line 607, in run_forever\n",
      "    self._run_once()\n",
      "  File \"C:\\Users\\luke-\\AppData\\Local\\Programs\\Python\\Python311\\Lib\\asyncio\\base_events.py\", line 1922, in _run_once\n",
      "    handle._run()\n",
      "  File \"C:\\Users\\luke-\\AppData\\Local\\Programs\\Python\\Python311\\Lib\\asyncio\\events.py\", line 80, in _run\n",
      "    self._context.run(self._callback, *self._args)\n",
      "  File \"d:\\git\\FedStellar-topo-manipulation\\venv\\Lib\\site-packages\\ipykernel\\kernelbase.py\", line 516, in dispatch_queue\n",
      "    await self.process_one()\n",
      "  File \"d:\\git\\FedStellar-topo-manipulation\\venv\\Lib\\site-packages\\ipykernel\\kernelbase.py\", line 505, in process_one\n",
      "    await dispatch(*args)\n",
      "  File \"d:\\git\\FedStellar-topo-manipulation\\venv\\Lib\\site-packages\\ipykernel\\kernelbase.py\", line 410, in dispatch_shell\n",
      "    result = handler(self.shell_stream, idents, msg)\n",
      "  File \"d:\\git\\FedStellar-topo-manipulation\\venv\\Lib\\site-packages\\comm\\base_comm.py\", line 261, in comm_msg\n",
      "    comm.handle_msg(msg)\n",
      "  File \"d:\\git\\FedStellar-topo-manipulation\\venv\\Lib\\site-packages\\comm\\base_comm.py\", line 150, in handle_msg\n",
      "    logger.debug(\"handle_msg[%s](%s)\", self.comm_id, msg)\n",
      "Message: 'handle_msg[%s](%s)'\n",
      "Arguments: ('6824802bc9a540d1a2385864f992828b', {'header': {'date': datetime.datetime(2023, 9, 28, 13, 34, 3, 38000, tzinfo=tzutc()), 'msg_id': 'dcd398e4-627b-4abc-8b97-7ba4dadb2942', 'msg_type': 'comm_msg', 'session': 'e204dc96-42f2-43b6-ab7a-f0587e1221ba', 'username': '3532d832-869a-498b-a7c0-abb8e9c39b32', 'version': '5.2'}, 'msg_id': 'dcd398e4-627b-4abc-8b97-7ba4dadb2942', 'msg_type': 'comm_msg', 'parent_header': {}, 'metadata': {}, 'content': {'comm_id': '6824802bc9a540d1a2385864f992828b', 'data': {'method': 'update', 'state': {'outputs': [{'output_type': 'display_data', 'data': {'text/plain': '\\x1b[38;5;154mTesting\\x1b[0m \\x1b[38;5;46m━━━━━━━━━━━━━━━━━━━━━━━━━━━━━━━━━━━━━━━━\\x1b[0m \\x1b[38;5;154m31/31\\x1b[0m \\x1b[38;5;252m0:00:00 • 0:00:00\\x1b[0m \\x1b[38;5;252m44.64it/s\\x1b[0m  \\n', 'text/html': '<pre style=\"white-space:pre;overflow-x:auto;line-height:normal;font-family:Menlo,\\'DejaVu Sans Mono\\',consolas,\\'Courier New\\',monospace\"><span style=\"color: #afff00; text-decoration-color: #afff00\">Testing</span> <span style=\"color: #00ff00; text-decoration-color: #00ff00\">━━━━━━━━━━━━━━━━━━━━━━━━━━━━━━━━━━━━━━━━</span> <span style=\"color: #afff00; text-decoration-color: #afff00\">31/31</span> <span style=\"color: #d0d0d0; text-decoration-color: #d0d0d0\">0:00:00 • 0:00:00</span> <span style=\"color: #d0d0d0; text-decoration-color: #d0d0d0\">44.64it/s</span>  \\n</pre>\\n'}, 'metadata': {}}]}, 'buffer_paths': []}}, 'buffers': []})\n",
      "--- Logging error ---\n",
      "Traceback (most recent call last):\n",
      "  File \"C:\\Users\\luke-\\AppData\\Local\\Programs\\Python\\Python311\\Lib\\logging\\__init__.py\", line 1113, in emit\n",
      "    stream.write(msg + self.terminator)\n",
      "UnicodeEncodeError: 'gbk' codec can't encode character '\\u2022' in position 746: illegal multibyte sequence\n",
      "Call stack:\n",
      "  File \"<frozen runpy>\", line 198, in _run_module_as_main\n",
      "  File \"<frozen runpy>\", line 88, in _run_code\n",
      "  File \"d:\\git\\FedStellar-topo-manipulation\\venv\\Lib\\site-packages\\ipykernel_launcher.py\", line 17, in <module>\n",
      "    app.launch_new_instance()\n",
      "  File \"d:\\git\\FedStellar-topo-manipulation\\venv\\Lib\\site-packages\\traitlets\\config\\application.py\", line 1046, in launch_instance\n",
      "    app.start()\n",
      "  File \"d:\\git\\FedStellar-topo-manipulation\\venv\\Lib\\site-packages\\ipykernel\\kernelapp.py\", line 736, in start\n",
      "    self.io_loop.start()\n",
      "  File \"d:\\git\\FedStellar-topo-manipulation\\venv\\Lib\\site-packages\\tornado\\platform\\asyncio.py\", line 195, in start\n",
      "    self.asyncio_loop.run_forever()\n",
      "  File \"C:\\Users\\luke-\\AppData\\Local\\Programs\\Python\\Python311\\Lib\\asyncio\\base_events.py\", line 607, in run_forever\n",
      "    self._run_once()\n",
      "  File \"C:\\Users\\luke-\\AppData\\Local\\Programs\\Python\\Python311\\Lib\\asyncio\\base_events.py\", line 1922, in _run_once\n",
      "    handle._run()\n",
      "  File \"C:\\Users\\luke-\\AppData\\Local\\Programs\\Python\\Python311\\Lib\\asyncio\\events.py\", line 80, in _run\n",
      "    self._context.run(self._callback, *self._args)\n",
      "  File \"d:\\git\\FedStellar-topo-manipulation\\venv\\Lib\\site-packages\\ipykernel\\kernelbase.py\", line 516, in dispatch_queue\n",
      "    await self.process_one()\n",
      "  File \"d:\\git\\FedStellar-topo-manipulation\\venv\\Lib\\site-packages\\ipykernel\\kernelbase.py\", line 505, in process_one\n",
      "    await dispatch(*args)\n",
      "  File \"d:\\git\\FedStellar-topo-manipulation\\venv\\Lib\\site-packages\\ipykernel\\kernelbase.py\", line 410, in dispatch_shell\n",
      "    result = handler(self.shell_stream, idents, msg)\n",
      "  File \"d:\\git\\FedStellar-topo-manipulation\\venv\\Lib\\site-packages\\comm\\base_comm.py\", line 261, in comm_msg\n",
      "    comm.handle_msg(msg)\n",
      "  File \"d:\\git\\FedStellar-topo-manipulation\\venv\\Lib\\site-packages\\comm\\base_comm.py\", line 150, in handle_msg\n",
      "    logger.debug(\"handle_msg[%s](%s)\", self.comm_id, msg)\n",
      "Message: 'handle_msg[%s](%s)'\n",
      "Arguments: ('094384c964c84ae2a30f7f0a886591d7', {'header': {'date': datetime.datetime(2023, 9, 28, 13, 34, 3, 48000, tzinfo=tzutc()), 'msg_id': 'd406e069-afc9-4803-9181-9e76005ffb74', 'msg_type': 'comm_msg', 'session': 'e204dc96-42f2-43b6-ab7a-f0587e1221ba', 'username': '3532d832-869a-498b-a7c0-abb8e9c39b32', 'version': '5.2'}, 'msg_id': 'd406e069-afc9-4803-9181-9e76005ffb74', 'msg_type': 'comm_msg', 'parent_header': {}, 'metadata': {}, 'content': {'comm_id': '094384c964c84ae2a30f7f0a886591d7', 'data': {'method': 'update', 'state': {'outputs': [{'output_type': 'display_data', 'data': {'text/plain': 'Epoch 9/9  \\x1b[38;5;46m━━━━━━━━━━━━━━━━━━━━━━━━━━━━━━━━━\\x1b[0m \\x1b[38;5;154m168/168\\x1b[0m \\x1b[38;5;252m0:00:06 • 0:00:00\\x1b[0m \\x1b[38;5;252m45.10it/s\\x1b[0m \\x1b[38;5;252mv_num: nt83 Train/Loss: 0.022     \\x1b[0m\\n                                                                                 \\x1b[38;5;252mTrain/Accuracy: 1.0               \\x1b[0m\\n                                                                                 \\x1b[38;5;252mTrain/Precision: 1.0 Train/Recall:\\x1b[0m\\n                                                                                 \\x1b[38;5;252m1.0 Train/F1Score: 1.0            \\x1b[0m\\n                                                                                 \\x1b[38;5;252mValidation/Loss: 0.319            \\x1b[0m\\n                                                                                 \\x1b[38;5;252mValidation/Accuracy: 0.894        \\x1b[0m\\n                                                                                 \\x1b[38;5;252mValidation/Precision: 0.891       \\x1b[0m\\n                                                                                 \\x1b[38;5;252mValidation/Recall: 0.894          \\x1b[0m\\n                                                                                 \\x1b[38;5;252mValidation/F1Score: 0.884         \\x1b[0m\\n                                                                                 \\x1b[38;5;252mValidationEpoch/Accuracy: 0.931   \\x1b[0m\\n                                                                                 \\x1b[38;5;252mValidationEpoch/Precision: 0.929  \\x1b[0m\\n                                                                                 \\x1b[38;5;252mValidationEpoch/Recall: 0.931     \\x1b[0m\\n                                                                                 \\x1b[38;5;252mValidationEpoch/F1Score: 0.929    \\x1b[0m\\n                                                                                 \\x1b[38;5;252mTrainEpoch/Accuracy: 0.996        \\x1b[0m\\n                                                                                 \\x1b[38;5;252mTrainEpoch/Precision: 0.996       \\x1b[0m\\n                                                                                 \\x1b[38;5;252mTrainEpoch/Recall: 0.996          \\x1b[0m\\n                                                                                 \\x1b[38;5;252mTrainEpoch/F1Score: 0.996         \\x1b[0m\\n', 'text/html': '<pre style=\"white-space:pre;overflow-x:auto;line-height:normal;font-family:Menlo,\\'DejaVu Sans Mono\\',consolas,\\'Courier New\\',monospace\">Epoch 9/9  <span style=\"color: #00ff00; text-decoration-color: #00ff00\">━━━━━━━━━━━━━━━━━━━━━━━━━━━━━━━━━</span> <span style=\"color: #afff00; text-decoration-color: #afff00\">168/168</span> <span style=\"color: #d0d0d0; text-decoration-color: #d0d0d0\">0:00:06 • 0:00:00</span> <span style=\"color: #d0d0d0; text-decoration-color: #d0d0d0\">45.10it/s</span> <span style=\"color: #d0d0d0; text-decoration-color: #d0d0d0\">v_num: nt83 Train/Loss: 0.022     </span>\\n                                                                                 <span style=\"color: #d0d0d0; text-decoration-color: #d0d0d0\">Train/Accuracy: 1.0               </span>\\n                                                                                 <span style=\"color: #d0d0d0; text-decoration-color: #d0d0d0\">Train/Precision: 1.0 Train/Recall:</span>\\n                                                                                 <span style=\"color: #d0d0d0; text-decoration-color: #d0d0d0\">1.0 Train/F1Score: 1.0            </span>\\n                                                                                 <span style=\"color: #d0d0d0; text-decoration-color: #d0d0d0\">Validation/Loss: 0.319            </span>\\n                                                                                 <span style=\"color: #d0d0d0; text-decoration-color: #d0d0d0\">Validation/Accuracy: 0.894        </span>\\n                                                                                 <span style=\"color: #d0d0d0; text-decoration-color: #d0d0d0\">Validation/Precision: 0.891       </span>\\n                                                                                 <span style=\"color: #d0d0d0; text-decoration-color: #d0d0d0\">Validation/Recall: 0.894          </span>\\n                                                                                 <span style=\"color: #d0d0d0; text-decoration-color: #d0d0d0\">Validation/F1Score: 0.884         </span>\\n                                                                                 <span style=\"color: #d0d0d0; text-decoration-color: #d0d0d0\">ValidationEpoch/Accuracy: 0.931   </span>\\n                                                                                 <span style=\"color: #d0d0d0; text-decoration-color: #d0d0d0\">ValidationEpoch/Precision: 0.929  </span>\\n                                                                                 <span style=\"color: #d0d0d0; text-decoration-color: #d0d0d0\">ValidationEpoch/Recall: 0.931     </span>\\n                                                                                 <span style=\"color: #d0d0d0; text-decoration-color: #d0d0d0\">ValidationEpoch/F1Score: 0.929    </span>\\n                                                                                 <span style=\"color: #d0d0d0; text-decoration-color: #d0d0d0\">TrainEpoch/Accuracy: 0.996        </span>\\n                                                                                 <span style=\"color: #d0d0d0; text-decoration-color: #d0d0d0\">TrainEpoch/Precision: 0.996       </span>\\n                                                                                 <span style=\"color: #d0d0d0; text-decoration-color: #d0d0d0\">TrainEpoch/Recall: 0.996          </span>\\n                                                                                 <span style=\"color: #d0d0d0; text-decoration-color: #d0d0d0\">TrainEpoch/F1Score: 0.996         </span>\\n</pre>\\n'}, 'metadata': {}}]}, 'buffer_paths': []}}, 'buffers': []})\n",
      "--- Logging error ---\n",
      "Traceback (most recent call last):\n",
      "  File \"C:\\Users\\luke-\\AppData\\Local\\Programs\\Python\\Python311\\Lib\\logging\\__init__.py\", line 1113, in emit\n",
      "    stream.write(msg + self.terminator)\n",
      "UnicodeEncodeError: 'gbk' codec can't encode character '\\u2022' in position 746: illegal multibyte sequence\n",
      "Call stack:\n",
      "  File \"<frozen runpy>\", line 198, in _run_module_as_main\n",
      "  File \"<frozen runpy>\", line 88, in _run_code\n",
      "  File \"d:\\git\\FedStellar-topo-manipulation\\venv\\Lib\\site-packages\\ipykernel_launcher.py\", line 17, in <module>\n",
      "    app.launch_new_instance()\n",
      "  File \"d:\\git\\FedStellar-topo-manipulation\\venv\\Lib\\site-packages\\traitlets\\config\\application.py\", line 1046, in launch_instance\n",
      "    app.start()\n",
      "  File \"d:\\git\\FedStellar-topo-manipulation\\venv\\Lib\\site-packages\\ipykernel\\kernelapp.py\", line 736, in start\n",
      "    self.io_loop.start()\n",
      "  File \"d:\\git\\FedStellar-topo-manipulation\\venv\\Lib\\site-packages\\tornado\\platform\\asyncio.py\", line 195, in start\n",
      "    self.asyncio_loop.run_forever()\n",
      "  File \"C:\\Users\\luke-\\AppData\\Local\\Programs\\Python\\Python311\\Lib\\asyncio\\base_events.py\", line 607, in run_forever\n",
      "    self._run_once()\n",
      "  File \"C:\\Users\\luke-\\AppData\\Local\\Programs\\Python\\Python311\\Lib\\asyncio\\base_events.py\", line 1922, in _run_once\n",
      "    handle._run()\n",
      "  File \"C:\\Users\\luke-\\AppData\\Local\\Programs\\Python\\Python311\\Lib\\asyncio\\events.py\", line 80, in _run\n",
      "    self._context.run(self._callback, *self._args)\n",
      "  File \"d:\\git\\FedStellar-topo-manipulation\\venv\\Lib\\site-packages\\ipykernel\\kernelbase.py\", line 516, in dispatch_queue\n",
      "    await self.process_one()\n",
      "  File \"d:\\git\\FedStellar-topo-manipulation\\venv\\Lib\\site-packages\\ipykernel\\kernelbase.py\", line 505, in process_one\n",
      "    await dispatch(*args)\n",
      "  File \"d:\\git\\FedStellar-topo-manipulation\\venv\\Lib\\site-packages\\ipykernel\\kernelbase.py\", line 410, in dispatch_shell\n",
      "    result = handler(self.shell_stream, idents, msg)\n",
      "  File \"d:\\git\\FedStellar-topo-manipulation\\venv\\Lib\\site-packages\\comm\\base_comm.py\", line 261, in comm_msg\n",
      "    comm.handle_msg(msg)\n",
      "  File \"d:\\git\\FedStellar-topo-manipulation\\venv\\Lib\\site-packages\\comm\\base_comm.py\", line 150, in handle_msg\n",
      "    logger.debug(\"handle_msg[%s](%s)\", self.comm_id, msg)\n",
      "Message: 'handle_msg[%s](%s)'\n",
      "Arguments: ('094384c964c84ae2a30f7f0a886591d7', {'header': {'date': datetime.datetime(2023, 9, 28, 13, 34, 3, 48000, tzinfo=tzutc()), 'msg_id': 'd406e069-afc9-4803-9181-9e76005ffb74', 'msg_type': 'comm_msg', 'session': 'e204dc96-42f2-43b6-ab7a-f0587e1221ba', 'username': '3532d832-869a-498b-a7c0-abb8e9c39b32', 'version': '5.2'}, 'msg_id': 'd406e069-afc9-4803-9181-9e76005ffb74', 'msg_type': 'comm_msg', 'parent_header': {}, 'metadata': {}, 'content': {'comm_id': '094384c964c84ae2a30f7f0a886591d7', 'data': {'method': 'update', 'state': {'outputs': [{'output_type': 'display_data', 'data': {'text/plain': 'Epoch 9/9  \\x1b[38;5;46m━━━━━━━━━━━━━━━━━━━━━━━━━━━━━━━━━\\x1b[0m \\x1b[38;5;154m168/168\\x1b[0m \\x1b[38;5;252m0:00:06 • 0:00:00\\x1b[0m \\x1b[38;5;252m45.10it/s\\x1b[0m \\x1b[38;5;252mv_num: nt83 Train/Loss: 0.022     \\x1b[0m\\n                                                                                 \\x1b[38;5;252mTrain/Accuracy: 1.0               \\x1b[0m\\n                                                                                 \\x1b[38;5;252mTrain/Precision: 1.0 Train/Recall:\\x1b[0m\\n                                                                                 \\x1b[38;5;252m1.0 Train/F1Score: 1.0            \\x1b[0m\\n                                                                                 \\x1b[38;5;252mValidation/Loss: 0.319            \\x1b[0m\\n                                                                                 \\x1b[38;5;252mValidation/Accuracy: 0.894        \\x1b[0m\\n                                                                                 \\x1b[38;5;252mValidation/Precision: 0.891       \\x1b[0m\\n                                                                                 \\x1b[38;5;252mValidation/Recall: 0.894          \\x1b[0m\\n                                                                                 \\x1b[38;5;252mValidation/F1Score: 0.884         \\x1b[0m\\n                                                                                 \\x1b[38;5;252mValidationEpoch/Accuracy: 0.931   \\x1b[0m\\n                                                                                 \\x1b[38;5;252mValidationEpoch/Precision: 0.929  \\x1b[0m\\n                                                                                 \\x1b[38;5;252mValidationEpoch/Recall: 0.931     \\x1b[0m\\n                                                                                 \\x1b[38;5;252mValidationEpoch/F1Score: 0.929    \\x1b[0m\\n                                                                                 \\x1b[38;5;252mTrainEpoch/Accuracy: 0.996        \\x1b[0m\\n                                                                                 \\x1b[38;5;252mTrainEpoch/Precision: 0.996       \\x1b[0m\\n                                                                                 \\x1b[38;5;252mTrainEpoch/Recall: 0.996          \\x1b[0m\\n                                                                                 \\x1b[38;5;252mTrainEpoch/F1Score: 0.996         \\x1b[0m\\n', 'text/html': '<pre style=\"white-space:pre;overflow-x:auto;line-height:normal;font-family:Menlo,\\'DejaVu Sans Mono\\',consolas,\\'Courier New\\',monospace\">Epoch 9/9  <span style=\"color: #00ff00; text-decoration-color: #00ff00\">━━━━━━━━━━━━━━━━━━━━━━━━━━━━━━━━━</span> <span style=\"color: #afff00; text-decoration-color: #afff00\">168/168</span> <span style=\"color: #d0d0d0; text-decoration-color: #d0d0d0\">0:00:06 • 0:00:00</span> <span style=\"color: #d0d0d0; text-decoration-color: #d0d0d0\">45.10it/s</span> <span style=\"color: #d0d0d0; text-decoration-color: #d0d0d0\">v_num: nt83 Train/Loss: 0.022     </span>\\n                                                                                 <span style=\"color: #d0d0d0; text-decoration-color: #d0d0d0\">Train/Accuracy: 1.0               </span>\\n                                                                                 <span style=\"color: #d0d0d0; text-decoration-color: #d0d0d0\">Train/Precision: 1.0 Train/Recall:</span>\\n                                                                                 <span style=\"color: #d0d0d0; text-decoration-color: #d0d0d0\">1.0 Train/F1Score: 1.0            </span>\\n                                                                                 <span style=\"color: #d0d0d0; text-decoration-color: #d0d0d0\">Validation/Loss: 0.319            </span>\\n                                                                                 <span style=\"color: #d0d0d0; text-decoration-color: #d0d0d0\">Validation/Accuracy: 0.894        </span>\\n                                                                                 <span style=\"color: #d0d0d0; text-decoration-color: #d0d0d0\">Validation/Precision: 0.891       </span>\\n                                                                                 <span style=\"color: #d0d0d0; text-decoration-color: #d0d0d0\">Validation/Recall: 0.894          </span>\\n                                                                                 <span style=\"color: #d0d0d0; text-decoration-color: #d0d0d0\">Validation/F1Score: 0.884         </span>\\n                                                                                 <span style=\"color: #d0d0d0; text-decoration-color: #d0d0d0\">ValidationEpoch/Accuracy: 0.931   </span>\\n                                                                                 <span style=\"color: #d0d0d0; text-decoration-color: #d0d0d0\">ValidationEpoch/Precision: 0.929  </span>\\n                                                                                 <span style=\"color: #d0d0d0; text-decoration-color: #d0d0d0\">ValidationEpoch/Recall: 0.931     </span>\\n                                                                                 <span style=\"color: #d0d0d0; text-decoration-color: #d0d0d0\">ValidationEpoch/F1Score: 0.929    </span>\\n                                                                                 <span style=\"color: #d0d0d0; text-decoration-color: #d0d0d0\">TrainEpoch/Accuracy: 0.996        </span>\\n                                                                                 <span style=\"color: #d0d0d0; text-decoration-color: #d0d0d0\">TrainEpoch/Precision: 0.996       </span>\\n                                                                                 <span style=\"color: #d0d0d0; text-decoration-color: #d0d0d0\">TrainEpoch/Recall: 0.996          </span>\\n                                                                                 <span style=\"color: #d0d0d0; text-decoration-color: #d0d0d0\">TrainEpoch/F1Score: 0.996         </span>\\n</pre>\\n'}, 'metadata': {}}]}, 'buffer_paths': []}}, 'buffers': []})\n",
      "--- Logging error ---\n",
      "Traceback (most recent call last):\n",
      "  File \"C:\\Users\\luke-\\AppData\\Local\\Programs\\Python\\Python311\\Lib\\logging\\__init__.py\", line 1113, in emit\n",
      "    stream.write(msg + self.terminator)\n",
      "UnicodeEncodeError: 'gbk' codec can't encode character '\\u2022' in position 746: illegal multibyte sequence\n",
      "Call stack:\n",
      "  File \"<frozen runpy>\", line 198, in _run_module_as_main\n",
      "  File \"<frozen runpy>\", line 88, in _run_code\n",
      "  File \"d:\\git\\FedStellar-topo-manipulation\\venv\\Lib\\site-packages\\ipykernel_launcher.py\", line 17, in <module>\n",
      "    app.launch_new_instance()\n",
      "  File \"d:\\git\\FedStellar-topo-manipulation\\venv\\Lib\\site-packages\\traitlets\\config\\application.py\", line 1046, in launch_instance\n",
      "    app.start()\n",
      "  File \"d:\\git\\FedStellar-topo-manipulation\\venv\\Lib\\site-packages\\ipykernel\\kernelapp.py\", line 736, in start\n",
      "    self.io_loop.start()\n",
      "  File \"d:\\git\\FedStellar-topo-manipulation\\venv\\Lib\\site-packages\\tornado\\platform\\asyncio.py\", line 195, in start\n",
      "    self.asyncio_loop.run_forever()\n",
      "  File \"C:\\Users\\luke-\\AppData\\Local\\Programs\\Python\\Python311\\Lib\\asyncio\\base_events.py\", line 607, in run_forever\n",
      "    self._run_once()\n",
      "  File \"C:\\Users\\luke-\\AppData\\Local\\Programs\\Python\\Python311\\Lib\\asyncio\\base_events.py\", line 1922, in _run_once\n",
      "    handle._run()\n",
      "  File \"C:\\Users\\luke-\\AppData\\Local\\Programs\\Python\\Python311\\Lib\\asyncio\\events.py\", line 80, in _run\n",
      "    self._context.run(self._callback, *self._args)\n",
      "  File \"d:\\git\\FedStellar-topo-manipulation\\venv\\Lib\\site-packages\\ipykernel\\kernelbase.py\", line 516, in dispatch_queue\n",
      "    await self.process_one()\n",
      "  File \"d:\\git\\FedStellar-topo-manipulation\\venv\\Lib\\site-packages\\ipykernel\\kernelbase.py\", line 505, in process_one\n",
      "    await dispatch(*args)\n",
      "  File \"d:\\git\\FedStellar-topo-manipulation\\venv\\Lib\\site-packages\\ipykernel\\kernelbase.py\", line 410, in dispatch_shell\n",
      "    result = handler(self.shell_stream, idents, msg)\n",
      "  File \"d:\\git\\FedStellar-topo-manipulation\\venv\\Lib\\site-packages\\comm\\base_comm.py\", line 261, in comm_msg\n",
      "    comm.handle_msg(msg)\n",
      "  File \"d:\\git\\FedStellar-topo-manipulation\\venv\\Lib\\site-packages\\comm\\base_comm.py\", line 150, in handle_msg\n",
      "    logger.debug(\"handle_msg[%s](%s)\", self.comm_id, msg)\n",
      "Message: 'handle_msg[%s](%s)'\n",
      "Arguments: ('094384c964c84ae2a30f7f0a886591d7', {'header': {'date': datetime.datetime(2023, 9, 28, 13, 34, 3, 48000, tzinfo=tzutc()), 'msg_id': 'd406e069-afc9-4803-9181-9e76005ffb74', 'msg_type': 'comm_msg', 'session': 'e204dc96-42f2-43b6-ab7a-f0587e1221ba', 'username': '3532d832-869a-498b-a7c0-abb8e9c39b32', 'version': '5.2'}, 'msg_id': 'd406e069-afc9-4803-9181-9e76005ffb74', 'msg_type': 'comm_msg', 'parent_header': {}, 'metadata': {}, 'content': {'comm_id': '094384c964c84ae2a30f7f0a886591d7', 'data': {'method': 'update', 'state': {'outputs': [{'output_type': 'display_data', 'data': {'text/plain': 'Epoch 9/9  \\x1b[38;5;46m━━━━━━━━━━━━━━━━━━━━━━━━━━━━━━━━━\\x1b[0m \\x1b[38;5;154m168/168\\x1b[0m \\x1b[38;5;252m0:00:06 • 0:00:00\\x1b[0m \\x1b[38;5;252m45.10it/s\\x1b[0m \\x1b[38;5;252mv_num: nt83 Train/Loss: 0.022     \\x1b[0m\\n                                                                                 \\x1b[38;5;252mTrain/Accuracy: 1.0               \\x1b[0m\\n                                                                                 \\x1b[38;5;252mTrain/Precision: 1.0 Train/Recall:\\x1b[0m\\n                                                                                 \\x1b[38;5;252m1.0 Train/F1Score: 1.0            \\x1b[0m\\n                                                                                 \\x1b[38;5;252mValidation/Loss: 0.319            \\x1b[0m\\n                                                                                 \\x1b[38;5;252mValidation/Accuracy: 0.894        \\x1b[0m\\n                                                                                 \\x1b[38;5;252mValidation/Precision: 0.891       \\x1b[0m\\n                                                                                 \\x1b[38;5;252mValidation/Recall: 0.894          \\x1b[0m\\n                                                                                 \\x1b[38;5;252mValidation/F1Score: 0.884         \\x1b[0m\\n                                                                                 \\x1b[38;5;252mValidationEpoch/Accuracy: 0.931   \\x1b[0m\\n                                                                                 \\x1b[38;5;252mValidationEpoch/Precision: 0.929  \\x1b[0m\\n                                                                                 \\x1b[38;5;252mValidationEpoch/Recall: 0.931     \\x1b[0m\\n                                                                                 \\x1b[38;5;252mValidationEpoch/F1Score: 0.929    \\x1b[0m\\n                                                                                 \\x1b[38;5;252mTrainEpoch/Accuracy: 0.996        \\x1b[0m\\n                                                                                 \\x1b[38;5;252mTrainEpoch/Precision: 0.996       \\x1b[0m\\n                                                                                 \\x1b[38;5;252mTrainEpoch/Recall: 0.996          \\x1b[0m\\n                                                                                 \\x1b[38;5;252mTrainEpoch/F1Score: 0.996         \\x1b[0m\\n', 'text/html': '<pre style=\"white-space:pre;overflow-x:auto;line-height:normal;font-family:Menlo,\\'DejaVu Sans Mono\\',consolas,\\'Courier New\\',monospace\">Epoch 9/9  <span style=\"color: #00ff00; text-decoration-color: #00ff00\">━━━━━━━━━━━━━━━━━━━━━━━━━━━━━━━━━</span> <span style=\"color: #afff00; text-decoration-color: #afff00\">168/168</span> <span style=\"color: #d0d0d0; text-decoration-color: #d0d0d0\">0:00:06 • 0:00:00</span> <span style=\"color: #d0d0d0; text-decoration-color: #d0d0d0\">45.10it/s</span> <span style=\"color: #d0d0d0; text-decoration-color: #d0d0d0\">v_num: nt83 Train/Loss: 0.022     </span>\\n                                                                                 <span style=\"color: #d0d0d0; text-decoration-color: #d0d0d0\">Train/Accuracy: 1.0               </span>\\n                                                                                 <span style=\"color: #d0d0d0; text-decoration-color: #d0d0d0\">Train/Precision: 1.0 Train/Recall:</span>\\n                                                                                 <span style=\"color: #d0d0d0; text-decoration-color: #d0d0d0\">1.0 Train/F1Score: 1.0            </span>\\n                                                                                 <span style=\"color: #d0d0d0; text-decoration-color: #d0d0d0\">Validation/Loss: 0.319            </span>\\n                                                                                 <span style=\"color: #d0d0d0; text-decoration-color: #d0d0d0\">Validation/Accuracy: 0.894        </span>\\n                                                                                 <span style=\"color: #d0d0d0; text-decoration-color: #d0d0d0\">Validation/Precision: 0.891       </span>\\n                                                                                 <span style=\"color: #d0d0d0; text-decoration-color: #d0d0d0\">Validation/Recall: 0.894          </span>\\n                                                                                 <span style=\"color: #d0d0d0; text-decoration-color: #d0d0d0\">Validation/F1Score: 0.884         </span>\\n                                                                                 <span style=\"color: #d0d0d0; text-decoration-color: #d0d0d0\">ValidationEpoch/Accuracy: 0.931   </span>\\n                                                                                 <span style=\"color: #d0d0d0; text-decoration-color: #d0d0d0\">ValidationEpoch/Precision: 0.929  </span>\\n                                                                                 <span style=\"color: #d0d0d0; text-decoration-color: #d0d0d0\">ValidationEpoch/Recall: 0.931     </span>\\n                                                                                 <span style=\"color: #d0d0d0; text-decoration-color: #d0d0d0\">ValidationEpoch/F1Score: 0.929    </span>\\n                                                                                 <span style=\"color: #d0d0d0; text-decoration-color: #d0d0d0\">TrainEpoch/Accuracy: 0.996        </span>\\n                                                                                 <span style=\"color: #d0d0d0; text-decoration-color: #d0d0d0\">TrainEpoch/Precision: 0.996       </span>\\n                                                                                 <span style=\"color: #d0d0d0; text-decoration-color: #d0d0d0\">TrainEpoch/Recall: 0.996          </span>\\n                                                                                 <span style=\"color: #d0d0d0; text-decoration-color: #d0d0d0\">TrainEpoch/F1Score: 0.996         </span>\\n</pre>\\n'}, 'metadata': {}}]}, 'buffer_paths': []}}, 'buffers': []})\n",
      "--- Logging error ---\n",
      "Traceback (most recent call last):\n",
      "  File \"C:\\Users\\luke-\\AppData\\Local\\Programs\\Python\\Python311\\Lib\\logging\\__init__.py\", line 1113, in emit\n",
      "    stream.write(msg + self.terminator)\n",
      "UnicodeEncodeError: 'gbk' codec can't encode character '\\u2022' in position 769: illegal multibyte sequence\n",
      "Call stack:\n",
      "  File \"<frozen runpy>\", line 198, in _run_module_as_main\n",
      "  File \"<frozen runpy>\", line 88, in _run_code\n",
      "  File \"d:\\git\\FedStellar-topo-manipulation\\venv\\Lib\\site-packages\\ipykernel_launcher.py\", line 17, in <module>\n",
      "    app.launch_new_instance()\n",
      "  File \"d:\\git\\FedStellar-topo-manipulation\\venv\\Lib\\site-packages\\traitlets\\config\\application.py\", line 1046, in launch_instance\n",
      "    app.start()\n",
      "  File \"d:\\git\\FedStellar-topo-manipulation\\venv\\Lib\\site-packages\\ipykernel\\kernelapp.py\", line 736, in start\n",
      "    self.io_loop.start()\n",
      "  File \"d:\\git\\FedStellar-topo-manipulation\\venv\\Lib\\site-packages\\tornado\\platform\\asyncio.py\", line 195, in start\n",
      "    self.asyncio_loop.run_forever()\n",
      "  File \"C:\\Users\\luke-\\AppData\\Local\\Programs\\Python\\Python311\\Lib\\asyncio\\base_events.py\", line 607, in run_forever\n",
      "    self._run_once()\n",
      "  File \"C:\\Users\\luke-\\AppData\\Local\\Programs\\Python\\Python311\\Lib\\asyncio\\base_events.py\", line 1922, in _run_once\n",
      "    handle._run()\n",
      "  File \"C:\\Users\\luke-\\AppData\\Local\\Programs\\Python\\Python311\\Lib\\asyncio\\events.py\", line 80, in _run\n",
      "    self._context.run(self._callback, *self._args)\n",
      "  File \"d:\\git\\FedStellar-topo-manipulation\\venv\\Lib\\site-packages\\ipykernel\\kernelbase.py\", line 516, in dispatch_queue\n",
      "    await self.process_one()\n",
      "  File \"d:\\git\\FedStellar-topo-manipulation\\venv\\Lib\\site-packages\\ipykernel\\kernelbase.py\", line 505, in process_one\n",
      "    await dispatch(*args)\n",
      "  File \"d:\\git\\FedStellar-topo-manipulation\\venv\\Lib\\site-packages\\ipykernel\\kernelbase.py\", line 410, in dispatch_shell\n",
      "    result = handler(self.shell_stream, idents, msg)\n",
      "  File \"d:\\git\\FedStellar-topo-manipulation\\venv\\Lib\\site-packages\\comm\\base_comm.py\", line 261, in comm_msg\n",
      "    comm.handle_msg(msg)\n",
      "  File \"d:\\git\\FedStellar-topo-manipulation\\venv\\Lib\\site-packages\\comm\\base_comm.py\", line 150, in handle_msg\n",
      "    logger.debug(\"handle_msg[%s](%s)\", self.comm_id, msg)\n",
      "Message: 'handle_msg[%s](%s)'\n",
      "Arguments: ('46a19b00d7d848ac81097f7b4a69fefc', {'header': {'date': datetime.datetime(2023, 9, 28, 13, 34, 3, 57000, tzinfo=tzutc()), 'msg_id': '4e038c72-3ce5-4d70-ba10-26516a043dde', 'msg_type': 'comm_msg', 'session': 'e204dc96-42f2-43b6-ab7a-f0587e1221ba', 'username': '3532d832-869a-498b-a7c0-abb8e9c39b32', 'version': '5.2'}, 'msg_id': '4e038c72-3ce5-4d70-ba10-26516a043dde', 'msg_type': 'comm_msg', 'parent_header': {}, 'metadata': {}, 'content': {'comm_id': '46a19b00d7d848ac81097f7b4a69fefc', 'data': {'method': 'update', 'state': {'outputs': [{'output_type': 'display_data', 'data': {'text/plain': '\\x1b[38;5;154mTesting\\x1b[0m \\x1b[38;5;46m━━━━━━━━━━━━━━━━━━━━━━━━━━━━━━━━━━━━━━━━\\x1b[0m \\x1b[38;5;154m31/31\\x1b[0m \\x1b[38;5;252m0:00:00 • 0:00:00\\x1b[0m \\x1b[38;5;252m53.38it/s\\x1b[0m  \\n', 'text/html': '<pre style=\"white-space:pre;overflow-x:auto;line-height:normal;font-family:Menlo,\\'DejaVu Sans Mono\\',consolas,\\'Courier New\\',monospace\"><span style=\"color: #afff00; text-decoration-color: #afff00\">Testing</span> <span style=\"color: #00ff00; text-decoration-color: #00ff00\">━━━━━━━━━━━━━━━━━━━━━━━━━━━━━━━━━━━━━━━━</span> <span style=\"color: #afff00; text-decoration-color: #afff00\">31/31</span> <span style=\"color: #d0d0d0; text-decoration-color: #d0d0d0\">0:00:00 • 0:00:00</span> <span style=\"color: #d0d0d0; text-decoration-color: #d0d0d0\">53.38it/s</span>  \\n</pre>\\n'}, 'metadata': {}}]}, 'buffer_paths': []}}, 'buffers': []})\n",
      "--- Logging error ---\n",
      "Traceback (most recent call last):\n",
      "  File \"C:\\Users\\luke-\\AppData\\Local\\Programs\\Python\\Python311\\Lib\\logging\\__init__.py\", line 1113, in emit\n",
      "    stream.write(msg + self.terminator)\n",
      "UnicodeEncodeError: 'gbk' codec can't encode character '\\u2022' in position 769: illegal multibyte sequence\n",
      "Call stack:\n",
      "  File \"<frozen runpy>\", line 198, in _run_module_as_main\n",
      "  File \"<frozen runpy>\", line 88, in _run_code\n",
      "  File \"d:\\git\\FedStellar-topo-manipulation\\venv\\Lib\\site-packages\\ipykernel_launcher.py\", line 17, in <module>\n",
      "    app.launch_new_instance()\n",
      "  File \"d:\\git\\FedStellar-topo-manipulation\\venv\\Lib\\site-packages\\traitlets\\config\\application.py\", line 1046, in launch_instance\n",
      "    app.start()\n",
      "  File \"d:\\git\\FedStellar-topo-manipulation\\venv\\Lib\\site-packages\\ipykernel\\kernelapp.py\", line 736, in start\n",
      "    self.io_loop.start()\n",
      "  File \"d:\\git\\FedStellar-topo-manipulation\\venv\\Lib\\site-packages\\tornado\\platform\\asyncio.py\", line 195, in start\n",
      "    self.asyncio_loop.run_forever()\n",
      "  File \"C:\\Users\\luke-\\AppData\\Local\\Programs\\Python\\Python311\\Lib\\asyncio\\base_events.py\", line 607, in run_forever\n",
      "    self._run_once()\n",
      "  File \"C:\\Users\\luke-\\AppData\\Local\\Programs\\Python\\Python311\\Lib\\asyncio\\base_events.py\", line 1922, in _run_once\n",
      "    handle._run()\n",
      "  File \"C:\\Users\\luke-\\AppData\\Local\\Programs\\Python\\Python311\\Lib\\asyncio\\events.py\", line 80, in _run\n",
      "    self._context.run(self._callback, *self._args)\n",
      "  File \"d:\\git\\FedStellar-topo-manipulation\\venv\\Lib\\site-packages\\ipykernel\\kernelbase.py\", line 516, in dispatch_queue\n",
      "    await self.process_one()\n",
      "  File \"d:\\git\\FedStellar-topo-manipulation\\venv\\Lib\\site-packages\\ipykernel\\kernelbase.py\", line 505, in process_one\n",
      "    await dispatch(*args)\n",
      "  File \"d:\\git\\FedStellar-topo-manipulation\\venv\\Lib\\site-packages\\ipykernel\\kernelbase.py\", line 410, in dispatch_shell\n",
      "    result = handler(self.shell_stream, idents, msg)\n",
      "  File \"d:\\git\\FedStellar-topo-manipulation\\venv\\Lib\\site-packages\\comm\\base_comm.py\", line 261, in comm_msg\n",
      "    comm.handle_msg(msg)\n",
      "  File \"d:\\git\\FedStellar-topo-manipulation\\venv\\Lib\\site-packages\\comm\\base_comm.py\", line 150, in handle_msg\n",
      "    logger.debug(\"handle_msg[%s](%s)\", self.comm_id, msg)\n",
      "Message: 'handle_msg[%s](%s)'\n",
      "Arguments: ('46a19b00d7d848ac81097f7b4a69fefc', {'header': {'date': datetime.datetime(2023, 9, 28, 13, 34, 3, 57000, tzinfo=tzutc()), 'msg_id': '4e038c72-3ce5-4d70-ba10-26516a043dde', 'msg_type': 'comm_msg', 'session': 'e204dc96-42f2-43b6-ab7a-f0587e1221ba', 'username': '3532d832-869a-498b-a7c0-abb8e9c39b32', 'version': '5.2'}, 'msg_id': '4e038c72-3ce5-4d70-ba10-26516a043dde', 'msg_type': 'comm_msg', 'parent_header': {}, 'metadata': {}, 'content': {'comm_id': '46a19b00d7d848ac81097f7b4a69fefc', 'data': {'method': 'update', 'state': {'outputs': [{'output_type': 'display_data', 'data': {'text/plain': '\\x1b[38;5;154mTesting\\x1b[0m \\x1b[38;5;46m━━━━━━━━━━━━━━━━━━━━━━━━━━━━━━━━━━━━━━━━\\x1b[0m \\x1b[38;5;154m31/31\\x1b[0m \\x1b[38;5;252m0:00:00 • 0:00:00\\x1b[0m \\x1b[38;5;252m53.38it/s\\x1b[0m  \\n', 'text/html': '<pre style=\"white-space:pre;overflow-x:auto;line-height:normal;font-family:Menlo,\\'DejaVu Sans Mono\\',consolas,\\'Courier New\\',monospace\"><span style=\"color: #afff00; text-decoration-color: #afff00\">Testing</span> <span style=\"color: #00ff00; text-decoration-color: #00ff00\">━━━━━━━━━━━━━━━━━━━━━━━━━━━━━━━━━━━━━━━━</span> <span style=\"color: #afff00; text-decoration-color: #afff00\">31/31</span> <span style=\"color: #d0d0d0; text-decoration-color: #d0d0d0\">0:00:00 • 0:00:00</span> <span style=\"color: #d0d0d0; text-decoration-color: #d0d0d0\">53.38it/s</span>  \\n</pre>\\n'}, 'metadata': {}}]}, 'buffer_paths': []}}, 'buffers': []})\n",
      "--- Logging error ---\n",
      "Traceback (most recent call last):\n",
      "  File \"C:\\Users\\luke-\\AppData\\Local\\Programs\\Python\\Python311\\Lib\\logging\\__init__.py\", line 1113, in emit\n",
      "    stream.write(msg + self.terminator)\n",
      "UnicodeEncodeError: 'gbk' codec can't encode character '\\u2022' in position 769: illegal multibyte sequence\n",
      "Call stack:\n",
      "  File \"<frozen runpy>\", line 198, in _run_module_as_main\n",
      "  File \"<frozen runpy>\", line 88, in _run_code\n",
      "  File \"d:\\git\\FedStellar-topo-manipulation\\venv\\Lib\\site-packages\\ipykernel_launcher.py\", line 17, in <module>\n",
      "    app.launch_new_instance()\n",
      "  File \"d:\\git\\FedStellar-topo-manipulation\\venv\\Lib\\site-packages\\traitlets\\config\\application.py\", line 1046, in launch_instance\n",
      "    app.start()\n",
      "  File \"d:\\git\\FedStellar-topo-manipulation\\venv\\Lib\\site-packages\\ipykernel\\kernelapp.py\", line 736, in start\n",
      "    self.io_loop.start()\n",
      "  File \"d:\\git\\FedStellar-topo-manipulation\\venv\\Lib\\site-packages\\tornado\\platform\\asyncio.py\", line 195, in start\n",
      "    self.asyncio_loop.run_forever()\n",
      "  File \"C:\\Users\\luke-\\AppData\\Local\\Programs\\Python\\Python311\\Lib\\asyncio\\base_events.py\", line 607, in run_forever\n",
      "    self._run_once()\n",
      "  File \"C:\\Users\\luke-\\AppData\\Local\\Programs\\Python\\Python311\\Lib\\asyncio\\base_events.py\", line 1922, in _run_once\n",
      "    handle._run()\n",
      "  File \"C:\\Users\\luke-\\AppData\\Local\\Programs\\Python\\Python311\\Lib\\asyncio\\events.py\", line 80, in _run\n",
      "    self._context.run(self._callback, *self._args)\n",
      "  File \"d:\\git\\FedStellar-topo-manipulation\\venv\\Lib\\site-packages\\ipykernel\\kernelbase.py\", line 516, in dispatch_queue\n",
      "    await self.process_one()\n",
      "  File \"d:\\git\\FedStellar-topo-manipulation\\venv\\Lib\\site-packages\\ipykernel\\kernelbase.py\", line 505, in process_one\n",
      "    await dispatch(*args)\n",
      "  File \"d:\\git\\FedStellar-topo-manipulation\\venv\\Lib\\site-packages\\ipykernel\\kernelbase.py\", line 410, in dispatch_shell\n",
      "    result = handler(self.shell_stream, idents, msg)\n",
      "  File \"d:\\git\\FedStellar-topo-manipulation\\venv\\Lib\\site-packages\\comm\\base_comm.py\", line 261, in comm_msg\n",
      "    comm.handle_msg(msg)\n",
      "  File \"d:\\git\\FedStellar-topo-manipulation\\venv\\Lib\\site-packages\\comm\\base_comm.py\", line 150, in handle_msg\n",
      "    logger.debug(\"handle_msg[%s](%s)\", self.comm_id, msg)\n",
      "Message: 'handle_msg[%s](%s)'\n",
      "Arguments: ('46a19b00d7d848ac81097f7b4a69fefc', {'header': {'date': datetime.datetime(2023, 9, 28, 13, 34, 3, 57000, tzinfo=tzutc()), 'msg_id': '4e038c72-3ce5-4d70-ba10-26516a043dde', 'msg_type': 'comm_msg', 'session': 'e204dc96-42f2-43b6-ab7a-f0587e1221ba', 'username': '3532d832-869a-498b-a7c0-abb8e9c39b32', 'version': '5.2'}, 'msg_id': '4e038c72-3ce5-4d70-ba10-26516a043dde', 'msg_type': 'comm_msg', 'parent_header': {}, 'metadata': {}, 'content': {'comm_id': '46a19b00d7d848ac81097f7b4a69fefc', 'data': {'method': 'update', 'state': {'outputs': [{'output_type': 'display_data', 'data': {'text/plain': '\\x1b[38;5;154mTesting\\x1b[0m \\x1b[38;5;46m━━━━━━━━━━━━━━━━━━━━━━━━━━━━━━━━━━━━━━━━\\x1b[0m \\x1b[38;5;154m31/31\\x1b[0m \\x1b[38;5;252m0:00:00 • 0:00:00\\x1b[0m \\x1b[38;5;252m53.38it/s\\x1b[0m  \\n', 'text/html': '<pre style=\"white-space:pre;overflow-x:auto;line-height:normal;font-family:Menlo,\\'DejaVu Sans Mono\\',consolas,\\'Courier New\\',monospace\"><span style=\"color: #afff00; text-decoration-color: #afff00\">Testing</span> <span style=\"color: #00ff00; text-decoration-color: #00ff00\">━━━━━━━━━━━━━━━━━━━━━━━━━━━━━━━━━━━━━━━━</span> <span style=\"color: #afff00; text-decoration-color: #afff00\">31/31</span> <span style=\"color: #d0d0d0; text-decoration-color: #d0d0d0\">0:00:00 • 0:00:00</span> <span style=\"color: #d0d0d0; text-decoration-color: #d0d0d0\">53.38it/s</span>  \\n</pre>\\n'}, 'metadata': {}}]}, 'buffer_paths': []}}, 'buffers': []})\n"
     ]
    }
   ],
   "source": [
    "benign_mnist_node = Node(\n",
    "        idx=0,\n",
    "        experiment_name=\"Single_Node_Test\",\n",
    "        model=benign_mnist_model,\n",
    "        data=benign_mnist_dataset,\n",
    "        hostdemo=True,\n",
    "        host=host,\n",
    "        port=port,\n",
    "        config=config,\n",
    "        encrypt=False,\n",
    "        model_poisoning=model_poisoning,\n",
    "        poisoned_ratio=poisoned_ratio,\n",
    "        noise_type=noise_type,\n",
    "    )\n",
    "benign_mnist_node.start()\n",
    "time.sleep(5)\n",
    "benign_mnist_node.set_start_learning(rounds=1, epochs=10)\n",
    "while True:\n",
    "        time.sleep(1)\n",
    "        finish = True\n",
    "        for f in [n.round is None for n in [benign_mnist_node]]:\n",
    "            finish = finish and f\n",
    "\n",
    "        if finish:\n",
    "            break\n",
    "\n",
    "for n in [benign_mnist_node]:\n",
    "    n.stop()"
   ]
  },
  {
   "cell_type": "markdown",
   "metadata": {},
   "source": [
    "Config for labelflipping node - MNIST"
   ]
  },
  {
   "cell_type": "code",
   "execution_count": 6,
   "metadata": {},
   "outputs": [
    {
     "name": "stdout",
     "output_type": "stream",
     "text": [
      "datamodule: targeted is False\n",
      "[labelFlipping]: Untargeted label-flipping!\n",
      "[labelFlipping]: 600000 number of labels will be flipped!\n",
      "Datapoisoning: generating watermarked samples for testing (all classes)\n",
      "Train: 5400 Val:600 Test:1000\n"
     ]
    },
    {
     "name": "stderr",
     "output_type": "stream",
     "text": [
      "d:\\git\\FedStellar-topo-manipulation\\fedstellar\\..\\fedstellar\\attacks\\poisoning\\labelflipping.py:17: UserWarning: To copy construct from a tensor, it is recommended to use sourceTensor.clone().detach() or sourceTensor.clone().detach().requires_grad_(True), rather than torch.tensor(sourceTensor).\n",
      "  targets = torch.tensor(new_dataset.targets).detach().clone()\n",
      "d:\\git\\FedStellar-topo-manipulation\\fedstellar\\..\\fedstellar\\attacks\\poisoning\\labelflipping.py:18: UserWarning: To copy construct from a tensor, it is recommended to use sourceTensor.clone().detach() or sourceTensor.clone().detach().requires_grad_(True), rather than torch.tensor(sourceTensor).\n",
      "  class_list = set(torch.tensor(targets).tolist())\n",
      "d:\\git\\FedStellar-topo-manipulation\\fedstellar\\..\\fedstellar\\attacks\\poisoning\\datapoison.py:72: UserWarning: To copy construct from a tensor, it is recommended to use sourceTensor.clone().detach() or sourceTensor.clone().detach().requires_grad_(True), rather than torch.tensor(sourceTensor).\n",
      "  return torch.tensor(img).clone().detach()\n"
     ]
    }
   ],
   "source": [
    "label_flipping = True\n",
    "data_poisoning = False\n",
    "model_poisoning = False\n",
    "poisoned_percent = 100\n",
    "poisoned_ratio = 100\n",
    "targeted = False\n",
    "target_label = 0\n",
    "target_changed_label = 0\n",
    "noise_type = \"salt\"\n",
    "port = 45603\n",
    "label_flipping_mnist_dataset = MNISTDataset(iid=is_iid)\n",
    "label_flipping_mnist_model = MNISTModelMLP()\n",
    "\n",
    "label_flipping_mnist_dataset = DataModule(label_flipping_mnist_dataset.train_set, label_flipping_mnist_dataset.test_set, sub_id=idx, number_sub=n_nodes, indices_dir=indices_dir,\n",
    "                        label_flipping=label_flipping, data_poisoning=data_poisoning,\n",
    "                        poisoned_percent=poisoned_percent,\n",
    "                        poisoned_ratio=poisoned_ratio, targeted=targeted, target_label=target_label,\n",
    "                        target_changed_label=target_changed_label, noise_type=noise_type)"
   ]
  },
  {
   "cell_type": "code",
   "execution_count": 7,
   "metadata": {},
   "outputs": [
    {
     "name": "stdout",
     "output_type": "stream",
     "text": [
      "[BASENODE] Trying to bind to 127.0.0.1:45603\n"
     ]
    },
    {
     "data": {
      "application/vnd.jupyter.widget-view+json": {
       "model_id": "8049bb9baa8941de8248563bfd2c31a4",
       "version_major": 2,
       "version_minor": 0
      },
      "text/plain": [
       "Output()"
      ]
     },
     "metadata": {},
     "output_type": "display_data"
    },
    {
     "data": {
      "text/html": [
       "<pre style=\"white-space:pre;overflow-x:auto;line-height:normal;font-family:Menlo,'DejaVu Sans Mono',consolas,'Courier New',monospace\">Epoch end: Test, epoch number: 0\n",
       "</pre>\n"
      ],
      "text/plain": [
       "Epoch end: Test, epoch number: 0\n"
      ]
     },
     "metadata": {},
     "output_type": "display_data"
    },
    {
     "data": {
      "text/html": [
       "<pre style=\"white-space:pre;overflow-x:auto;line-height:normal;font-family:Menlo,'DejaVu Sans Mono',consolas,'Courier New',monospace\">┏━━━━━━━━━━━━━━━━━━━━━━━━━━━┳━━━━━━━━━━━━━━━━━━━━━━━━━━━┓\n",
       "┃<span style=\"font-weight: bold\">   Runningstage.testing    </span>┃<span style=\"font-weight: bold\">                           </span>┃\n",
       "┃<span style=\"font-weight: bold\">          metric           </span>┃<span style=\"font-weight: bold\">       DataLoader 0        </span>┃\n",
       "┡━━━━━━━━━━━━━━━━━━━━━━━━━━━╇━━━━━━━━━━━━━━━━━━━━━━━━━━━┩\n",
       "│<span style=\"color: #008080; text-decoration-color: #008080\">       Test/Accuracy       </span>│<span style=\"color: #800080; text-decoration-color: #800080\">    0.0901612862944603     </span>│\n",
       "│<span style=\"color: #008080; text-decoration-color: #008080\">       Test/F1Score        </span>│<span style=\"color: #800080; text-decoration-color: #800080\">   0.016637280583381653    </span>│\n",
       "│<span style=\"color: #008080; text-decoration-color: #008080\">         Test/Loss         </span>│<span style=\"color: #800080; text-decoration-color: #800080\">    2.3033435344696045     </span>│\n",
       "│<span style=\"color: #008080; text-decoration-color: #008080\">      Test/Precision       </span>│<span style=\"color: #800080; text-decoration-color: #800080\">   0.010722099803388119    </span>│\n",
       "│<span style=\"color: #008080; text-decoration-color: #008080\">        Test/Recall        </span>│<span style=\"color: #800080; text-decoration-color: #800080\">    0.0901612862944603     </span>│\n",
       "│<span style=\"color: #008080; text-decoration-color: #008080\">    TestEpoch/Accuracy     </span>│<span style=\"color: #800080; text-decoration-color: #800080\">    0.09223060309886932    </span>│\n",
       "│<span style=\"color: #008080; text-decoration-color: #008080\">     TestEpoch/F1Score     </span>│<span style=\"color: #800080; text-decoration-color: #800080\">   0.017755862325429916    </span>│\n",
       "│<span style=\"color: #008080; text-decoration-color: #008080\">    TestEpoch/Precision    </span>│<span style=\"color: #800080; text-decoration-color: #800080\">   0.015198711305856705    </span>│\n",
       "│<span style=\"color: #008080; text-decoration-color: #008080\">     TestEpoch/Recall      </span>│<span style=\"color: #800080; text-decoration-color: #800080\">    0.09223060309886932    </span>│\n",
       "└───────────────────────────┴───────────────────────────┘\n",
       "</pre>\n"
      ],
      "text/plain": [
       "┏━━━━━━━━━━━━━━━━━━━━━━━━━━━┳━━━━━━━━━━━━━━━━━━━━━━━━━━━┓\n",
       "┃\u001b[1m \u001b[0m\u001b[1m  Runningstage.testing   \u001b[0m\u001b[1m \u001b[0m┃\u001b[1m                           \u001b[0m┃\n",
       "┃\u001b[1m \u001b[0m\u001b[1m         metric          \u001b[0m\u001b[1m \u001b[0m┃\u001b[1m \u001b[0m\u001b[1m      DataLoader 0       \u001b[0m\u001b[1m \u001b[0m┃\n",
       "┡━━━━━━━━━━━━━━━━━━━━━━━━━━━╇━━━━━━━━━━━━━━━━━━━━━━━━━━━┩\n",
       "│\u001b[36m \u001b[0m\u001b[36m      Test/Accuracy      \u001b[0m\u001b[36m \u001b[0m│\u001b[35m \u001b[0m\u001b[35m   0.0901612862944603    \u001b[0m\u001b[35m \u001b[0m│\n",
       "│\u001b[36m \u001b[0m\u001b[36m      Test/F1Score       \u001b[0m\u001b[36m \u001b[0m│\u001b[35m \u001b[0m\u001b[35m  0.016637280583381653   \u001b[0m\u001b[35m \u001b[0m│\n",
       "│\u001b[36m \u001b[0m\u001b[36m        Test/Loss        \u001b[0m\u001b[36m \u001b[0m│\u001b[35m \u001b[0m\u001b[35m   2.3033435344696045    \u001b[0m\u001b[35m \u001b[0m│\n",
       "│\u001b[36m \u001b[0m\u001b[36m     Test/Precision      \u001b[0m\u001b[36m \u001b[0m│\u001b[35m \u001b[0m\u001b[35m  0.010722099803388119   \u001b[0m\u001b[35m \u001b[0m│\n",
       "│\u001b[36m \u001b[0m\u001b[36m       Test/Recall       \u001b[0m\u001b[36m \u001b[0m│\u001b[35m \u001b[0m\u001b[35m   0.0901612862944603    \u001b[0m\u001b[35m \u001b[0m│\n",
       "│\u001b[36m \u001b[0m\u001b[36m   TestEpoch/Accuracy    \u001b[0m\u001b[36m \u001b[0m│\u001b[35m \u001b[0m\u001b[35m   0.09223060309886932   \u001b[0m\u001b[35m \u001b[0m│\n",
       "│\u001b[36m \u001b[0m\u001b[36m    TestEpoch/F1Score    \u001b[0m\u001b[36m \u001b[0m│\u001b[35m \u001b[0m\u001b[35m  0.017755862325429916   \u001b[0m\u001b[35m \u001b[0m│\n",
       "│\u001b[36m \u001b[0m\u001b[36m   TestEpoch/Precision   \u001b[0m\u001b[36m \u001b[0m│\u001b[35m \u001b[0m\u001b[35m  0.015198711305856705   \u001b[0m\u001b[35m \u001b[0m│\n",
       "│\u001b[36m \u001b[0m\u001b[36m    TestEpoch/Recall     \u001b[0m\u001b[36m \u001b[0m│\u001b[35m \u001b[0m\u001b[35m   0.09223060309886932   \u001b[0m\u001b[35m \u001b[0m│\n",
       "└───────────────────────────┴───────────────────────────┘\n"
      ]
     },
     "metadata": {},
     "output_type": "display_data"
    },
    {
     "data": {
      "text/html": [
       "<pre style=\"white-space:pre;overflow-x:auto;line-height:normal;font-family:Menlo,'DejaVu Sans Mono',consolas,'Courier New',monospace\"></pre>\n"
      ],
      "text/plain": []
     },
     "metadata": {},
     "output_type": "display_data"
    },
    {
     "data": {
      "text/html": [
       "<pre style=\"white-space:pre;overflow-x:auto;line-height:normal;font-family:Menlo,'DejaVu Sans Mono',consolas,'Courier New',monospace\">\n",
       "</pre>\n"
      ],
      "text/plain": [
       "\n"
      ]
     },
     "metadata": {},
     "output_type": "display_data"
    },
    {
     "data": {
      "text/html": [
       "<pre style=\"white-space:pre;overflow-x:auto;line-height:normal;font-family:Menlo,'DejaVu Sans Mono',consolas,'Courier New',monospace\">┏━━━┳━━━━━━━━━━━━━━━┳━━━━━━━━━━━━━━━━━━━━━━━━━━━┳━━━━━━━━┳━━━━━━━━━━┳━━━━━━━━━━━┓\n",
       "┃<span style=\"color: #800080; text-decoration-color: #800080; font-weight: bold\">   </span>┃<span style=\"color: #800080; text-decoration-color: #800080; font-weight: bold\"> Name          </span>┃<span style=\"color: #800080; text-decoration-color: #800080; font-weight: bold\"> Type                      </span>┃<span style=\"color: #800080; text-decoration-color: #800080; font-weight: bold\"> Params </span>┃<span style=\"color: #800080; text-decoration-color: #800080; font-weight: bold\"> In sizes </span>┃<span style=\"color: #800080; text-decoration-color: #800080; font-weight: bold\"> Out sizes </span>┃\n",
       "┡━━━╇━━━━━━━━━━━━━━━╇━━━━━━━━━━━━━━━━━━━━━━━━━━━╇━━━━━━━━╇━━━━━━━━━━╇━━━━━━━━━━━┩\n",
       "│<span style=\"color: #7f7f7f; text-decoration-color: #7f7f7f\"> 0 </span>│ train_metrics │ MetricCollection          │      0 │<span style=\"color: #c0c0c0; text-decoration-color: #c0c0c0\">        ? </span>│<span style=\"color: #c0c0c0; text-decoration-color: #c0c0c0\">         ? </span>│\n",
       "│<span style=\"color: #7f7f7f; text-decoration-color: #7f7f7f\"> 1 </span>│ val_metrics   │ MetricCollection          │      0 │<span style=\"color: #c0c0c0; text-decoration-color: #c0c0c0\">        ? </span>│<span style=\"color: #c0c0c0; text-decoration-color: #c0c0c0\">         ? </span>│\n",
       "│<span style=\"color: #7f7f7f; text-decoration-color: #7f7f7f\"> 2 </span>│ test_metrics  │ MetricCollection          │      0 │<span style=\"color: #c0c0c0; text-decoration-color: #c0c0c0\">        ? </span>│<span style=\"color: #c0c0c0; text-decoration-color: #c0c0c0\">         ? </span>│\n",
       "│<span style=\"color: #7f7f7f; text-decoration-color: #7f7f7f\"> 3 </span>│ cm            │ MulticlassConfusionMatrix │      0 │<span style=\"color: #c0c0c0; text-decoration-color: #c0c0c0\">        ? </span>│<span style=\"color: #c0c0c0; text-decoration-color: #c0c0c0\">         ? </span>│\n",
       "│<span style=\"color: #7f7f7f; text-decoration-color: #7f7f7f\"> 4 </span>│ criterion     │ CrossEntropyLoss          │      0 │<span style=\"color: #c0c0c0; text-decoration-color: #c0c0c0\">        ? </span>│<span style=\"color: #c0c0c0; text-decoration-color: #c0c0c0\">         ? </span>│\n",
       "│<span style=\"color: #7f7f7f; text-decoration-color: #7f7f7f\"> 5 </span>│ l1            │ Linear                    │  200 K │<span style=\"color: #c0c0c0; text-decoration-color: #c0c0c0\"> [1, 784] </span>│<span style=\"color: #c0c0c0; text-decoration-color: #c0c0c0\">  [1, 256] </span>│\n",
       "│<span style=\"color: #7f7f7f; text-decoration-color: #7f7f7f\"> 6 </span>│ l2            │ Linear                    │ 32.9 K │<span style=\"color: #c0c0c0; text-decoration-color: #c0c0c0\"> [1, 256] </span>│<span style=\"color: #c0c0c0; text-decoration-color: #c0c0c0\">  [1, 128] </span>│\n",
       "│<span style=\"color: #7f7f7f; text-decoration-color: #7f7f7f\"> 7 </span>│ l3            │ Linear                    │  1.3 K │<span style=\"color: #c0c0c0; text-decoration-color: #c0c0c0\"> [1, 128] </span>│<span style=\"color: #c0c0c0; text-decoration-color: #c0c0c0\">   [1, 10] </span>│\n",
       "└───┴───────────────┴───────────────────────────┴────────┴──────────┴───────────┘\n",
       "</pre>\n"
      ],
      "text/plain": [
       "┏━━━┳━━━━━━━━━━━━━━━┳━━━━━━━━━━━━━━━━━━━━━━━━━━━┳━━━━━━━━┳━━━━━━━━━━┳━━━━━━━━━━━┓\n",
       "┃\u001b[1;35m \u001b[0m\u001b[1;35m \u001b[0m\u001b[1;35m \u001b[0m┃\u001b[1;35m \u001b[0m\u001b[1;35mName         \u001b[0m\u001b[1;35m \u001b[0m┃\u001b[1;35m \u001b[0m\u001b[1;35mType                     \u001b[0m\u001b[1;35m \u001b[0m┃\u001b[1;35m \u001b[0m\u001b[1;35mParams\u001b[0m\u001b[1;35m \u001b[0m┃\u001b[1;35m \u001b[0m\u001b[1;35mIn sizes\u001b[0m\u001b[1;35m \u001b[0m┃\u001b[1;35m \u001b[0m\u001b[1;35mOut sizes\u001b[0m\u001b[1;35m \u001b[0m┃\n",
       "┡━━━╇━━━━━━━━━━━━━━━╇━━━━━━━━━━━━━━━━━━━━━━━━━━━╇━━━━━━━━╇━━━━━━━━━━╇━━━━━━━━━━━┩\n",
       "│\u001b[2m \u001b[0m\u001b[2m0\u001b[0m\u001b[2m \u001b[0m│ train_metrics │ MetricCollection          │      0 │\u001b[37m \u001b[0m\u001b[37m       ?\u001b[0m\u001b[37m \u001b[0m│\u001b[37m \u001b[0m\u001b[37m        ?\u001b[0m\u001b[37m \u001b[0m│\n",
       "│\u001b[2m \u001b[0m\u001b[2m1\u001b[0m\u001b[2m \u001b[0m│ val_metrics   │ MetricCollection          │      0 │\u001b[37m \u001b[0m\u001b[37m       ?\u001b[0m\u001b[37m \u001b[0m│\u001b[37m \u001b[0m\u001b[37m        ?\u001b[0m\u001b[37m \u001b[0m│\n",
       "│\u001b[2m \u001b[0m\u001b[2m2\u001b[0m\u001b[2m \u001b[0m│ test_metrics  │ MetricCollection          │      0 │\u001b[37m \u001b[0m\u001b[37m       ?\u001b[0m\u001b[37m \u001b[0m│\u001b[37m \u001b[0m\u001b[37m        ?\u001b[0m\u001b[37m \u001b[0m│\n",
       "│\u001b[2m \u001b[0m\u001b[2m3\u001b[0m\u001b[2m \u001b[0m│ cm            │ MulticlassConfusionMatrix │      0 │\u001b[37m \u001b[0m\u001b[37m       ?\u001b[0m\u001b[37m \u001b[0m│\u001b[37m \u001b[0m\u001b[37m        ?\u001b[0m\u001b[37m \u001b[0m│\n",
       "│\u001b[2m \u001b[0m\u001b[2m4\u001b[0m\u001b[2m \u001b[0m│ criterion     │ CrossEntropyLoss          │      0 │\u001b[37m \u001b[0m\u001b[37m       ?\u001b[0m\u001b[37m \u001b[0m│\u001b[37m \u001b[0m\u001b[37m        ?\u001b[0m\u001b[37m \u001b[0m│\n",
       "│\u001b[2m \u001b[0m\u001b[2m5\u001b[0m\u001b[2m \u001b[0m│ l1            │ Linear                    │  200 K │\u001b[37m \u001b[0m\u001b[37m[1, 784]\u001b[0m\u001b[37m \u001b[0m│\u001b[37m \u001b[0m\u001b[37m [1, 256]\u001b[0m\u001b[37m \u001b[0m│\n",
       "│\u001b[2m \u001b[0m\u001b[2m6\u001b[0m\u001b[2m \u001b[0m│ l2            │ Linear                    │ 32.9 K │\u001b[37m \u001b[0m\u001b[37m[1, 256]\u001b[0m\u001b[37m \u001b[0m│\u001b[37m \u001b[0m\u001b[37m [1, 128]\u001b[0m\u001b[37m \u001b[0m│\n",
       "│\u001b[2m \u001b[0m\u001b[2m7\u001b[0m\u001b[2m \u001b[0m│ l3            │ Linear                    │  1.3 K │\u001b[37m \u001b[0m\u001b[37m[1, 128]\u001b[0m\u001b[37m \u001b[0m│\u001b[37m \u001b[0m\u001b[37m  [1, 10]\u001b[0m\u001b[37m \u001b[0m│\n",
       "└───┴───────────────┴───────────────────────────┴────────┴──────────┴───────────┘\n"
      ]
     },
     "metadata": {},
     "output_type": "display_data"
    },
    {
     "data": {
      "text/html": [
       "<pre style=\"white-space:pre;overflow-x:auto;line-height:normal;font-family:Menlo,'DejaVu Sans Mono',consolas,'Courier New',monospace\"><span style=\"font-weight: bold\">Trainable params</span>: 235 K                                                                                            \n",
       "<span style=\"font-weight: bold\">Non-trainable params</span>: 0                                                                                            \n",
       "<span style=\"font-weight: bold\">Total params</span>: 235 K                                                                                                \n",
       "<span style=\"font-weight: bold\">Total estimated model params size (MB)</span>: 0                                                                          \n",
       "</pre>\n"
      ],
      "text/plain": [
       "\u001b[1mTrainable params\u001b[0m: 235 K                                                                                            \n",
       "\u001b[1mNon-trainable params\u001b[0m: 0                                                                                            \n",
       "\u001b[1mTotal params\u001b[0m: 235 K                                                                                                \n",
       "\u001b[1mTotal estimated model params size (MB)\u001b[0m: 0                                                                          \n"
      ]
     },
     "metadata": {},
     "output_type": "display_data"
    },
    {
     "data": {
      "application/vnd.jupyter.widget-view+json": {
       "model_id": "8ee07faba1c546a382fb1370b09cca60",
       "version_major": 2,
       "version_minor": 0
      },
      "text/plain": [
       "Output()"
      ]
     },
     "metadata": {},
     "output_type": "display_data"
    },
    {
     "data": {
      "text/html": [
       "<pre style=\"white-space:pre;overflow-x:auto;line-height:normal;font-family:Menlo,'DejaVu Sans Mono',consolas,'Courier New',monospace\">Epoch end: Validation, epoch number: 0\n",
       "</pre>\n"
      ],
      "text/plain": [
       "Epoch end: Validation, epoch number: 0\n"
      ]
     },
     "metadata": {},
     "output_type": "display_data"
    },
    {
     "data": {
      "text/html": [
       "<pre style=\"white-space:pre;overflow-x:auto;line-height:normal;font-family:Menlo,'DejaVu Sans Mono',consolas,'Courier New',monospace\">Epoch end: Validation, epoch number: 1\n",
       "</pre>\n"
      ],
      "text/plain": [
       "Epoch end: Validation, epoch number: 1\n"
      ]
     },
     "metadata": {},
     "output_type": "display_data"
    },
    {
     "data": {
      "text/html": [
       "<pre style=\"white-space:pre;overflow-x:auto;line-height:normal;font-family:Menlo,'DejaVu Sans Mono',consolas,'Courier New',monospace\">Epoch end: Train, epoch number: 0\n",
       "</pre>\n"
      ],
      "text/plain": [
       "Epoch end: Train, epoch number: 0\n"
      ]
     },
     "metadata": {},
     "output_type": "display_data"
    },
    {
     "data": {
      "text/html": [
       "<pre style=\"white-space:pre;overflow-x:auto;line-height:normal;font-family:Menlo,'DejaVu Sans Mono',consolas,'Courier New',monospace\">Epoch end: Validation, epoch number: 2\n",
       "</pre>\n"
      ],
      "text/plain": [
       "Epoch end: Validation, epoch number: 2\n"
      ]
     },
     "metadata": {},
     "output_type": "display_data"
    },
    {
     "data": {
      "text/html": [
       "<pre style=\"white-space:pre;overflow-x:auto;line-height:normal;font-family:Menlo,'DejaVu Sans Mono',consolas,'Courier New',monospace\">Epoch end: Train, epoch number: 1\n",
       "</pre>\n"
      ],
      "text/plain": [
       "Epoch end: Train, epoch number: 1\n"
      ]
     },
     "metadata": {},
     "output_type": "display_data"
    },
    {
     "data": {
      "text/html": [
       "<pre style=\"white-space:pre;overflow-x:auto;line-height:normal;font-family:Menlo,'DejaVu Sans Mono',consolas,'Courier New',monospace\">Epoch end: Validation, epoch number: 3\n",
       "</pre>\n"
      ],
      "text/plain": [
       "Epoch end: Validation, epoch number: 3\n"
      ]
     },
     "metadata": {},
     "output_type": "display_data"
    },
    {
     "data": {
      "text/html": [
       "<pre style=\"white-space:pre;overflow-x:auto;line-height:normal;font-family:Menlo,'DejaVu Sans Mono',consolas,'Courier New',monospace\">Epoch end: Train, epoch number: 2\n",
       "</pre>\n"
      ],
      "text/plain": [
       "Epoch end: Train, epoch number: 2\n"
      ]
     },
     "metadata": {},
     "output_type": "display_data"
    },
    {
     "data": {
      "text/html": [
       "<pre style=\"white-space:pre;overflow-x:auto;line-height:normal;font-family:Menlo,'DejaVu Sans Mono',consolas,'Courier New',monospace\">Epoch end: Validation, epoch number: 4\n",
       "</pre>\n"
      ],
      "text/plain": [
       "Epoch end: Validation, epoch number: 4\n"
      ]
     },
     "metadata": {},
     "output_type": "display_data"
    },
    {
     "data": {
      "text/html": [
       "<pre style=\"white-space:pre;overflow-x:auto;line-height:normal;font-family:Menlo,'DejaVu Sans Mono',consolas,'Courier New',monospace\">Epoch end: Train, epoch number: 3\n",
       "</pre>\n"
      ],
      "text/plain": [
       "Epoch end: Train, epoch number: 3\n"
      ]
     },
     "metadata": {},
     "output_type": "display_data"
    },
    {
     "data": {
      "text/html": [
       "<pre style=\"white-space:pre;overflow-x:auto;line-height:normal;font-family:Menlo,'DejaVu Sans Mono',consolas,'Courier New',monospace\">Epoch end: Validation, epoch number: 5\n",
       "</pre>\n"
      ],
      "text/plain": [
       "Epoch end: Validation, epoch number: 5\n"
      ]
     },
     "metadata": {},
     "output_type": "display_data"
    },
    {
     "data": {
      "text/html": [
       "<pre style=\"white-space:pre;overflow-x:auto;line-height:normal;font-family:Menlo,'DejaVu Sans Mono',consolas,'Courier New',monospace\">Epoch end: Train, epoch number: 4\n",
       "</pre>\n"
      ],
      "text/plain": [
       "Epoch end: Train, epoch number: 4\n"
      ]
     },
     "metadata": {},
     "output_type": "display_data"
    },
    {
     "data": {
      "text/html": [
       "<pre style=\"white-space:pre;overflow-x:auto;line-height:normal;font-family:Menlo,'DejaVu Sans Mono',consolas,'Courier New',monospace\">Epoch end: Validation, epoch number: 6\n",
       "</pre>\n"
      ],
      "text/plain": [
       "Epoch end: Validation, epoch number: 6\n"
      ]
     },
     "metadata": {},
     "output_type": "display_data"
    },
    {
     "data": {
      "text/html": [
       "<pre style=\"white-space:pre;overflow-x:auto;line-height:normal;font-family:Menlo,'DejaVu Sans Mono',consolas,'Courier New',monospace\">Epoch end: Train, epoch number: 5\n",
       "</pre>\n"
      ],
      "text/plain": [
       "Epoch end: Train, epoch number: 5\n"
      ]
     },
     "metadata": {},
     "output_type": "display_data"
    },
    {
     "data": {
      "text/html": [
       "<pre style=\"white-space:pre;overflow-x:auto;line-height:normal;font-family:Menlo,'DejaVu Sans Mono',consolas,'Courier New',monospace\">Epoch end: Validation, epoch number: 7\n",
       "</pre>\n"
      ],
      "text/plain": [
       "Epoch end: Validation, epoch number: 7\n"
      ]
     },
     "metadata": {},
     "output_type": "display_data"
    },
    {
     "data": {
      "text/html": [
       "<pre style=\"white-space:pre;overflow-x:auto;line-height:normal;font-family:Menlo,'DejaVu Sans Mono',consolas,'Courier New',monospace\">Epoch end: Train, epoch number: 6\n",
       "</pre>\n"
      ],
      "text/plain": [
       "Epoch end: Train, epoch number: 6\n"
      ]
     },
     "metadata": {},
     "output_type": "display_data"
    },
    {
     "data": {
      "text/html": [
       "<pre style=\"white-space:pre;overflow-x:auto;line-height:normal;font-family:Menlo,'DejaVu Sans Mono',consolas,'Courier New',monospace\">Epoch end: Validation, epoch number: 8\n",
       "</pre>\n"
      ],
      "text/plain": [
       "Epoch end: Validation, epoch number: 8\n"
      ]
     },
     "metadata": {},
     "output_type": "display_data"
    },
    {
     "data": {
      "text/html": [
       "<pre style=\"white-space:pre;overflow-x:auto;line-height:normal;font-family:Menlo,'DejaVu Sans Mono',consolas,'Courier New',monospace\">Epoch end: Train, epoch number: 7\n",
       "</pre>\n"
      ],
      "text/plain": [
       "Epoch end: Train, epoch number: 7\n"
      ]
     },
     "metadata": {},
     "output_type": "display_data"
    },
    {
     "data": {
      "text/html": [
       "<pre style=\"white-space:pre;overflow-x:auto;line-height:normal;font-family:Menlo,'DejaVu Sans Mono',consolas,'Courier New',monospace\">Epoch end: Validation, epoch number: 9\n",
       "</pre>\n"
      ],
      "text/plain": [
       "Epoch end: Validation, epoch number: 9\n"
      ]
     },
     "metadata": {},
     "output_type": "display_data"
    },
    {
     "data": {
      "text/html": [
       "<pre style=\"white-space:pre;overflow-x:auto;line-height:normal;font-family:Menlo,'DejaVu Sans Mono',consolas,'Courier New',monospace\">Epoch end: Train, epoch number: 8\n",
       "</pre>\n"
      ],
      "text/plain": [
       "Epoch end: Train, epoch number: 8\n"
      ]
     },
     "metadata": {},
     "output_type": "display_data"
    },
    {
     "data": {
      "text/html": [
       "<pre style=\"white-space:pre;overflow-x:auto;line-height:normal;font-family:Menlo,'DejaVu Sans Mono',consolas,'Courier New',monospace\">Epoch end: Validation, epoch number: 10\n",
       "</pre>\n"
      ],
      "text/plain": [
       "Epoch end: Validation, epoch number: 10\n"
      ]
     },
     "metadata": {},
     "output_type": "display_data"
    },
    {
     "data": {
      "text/html": [
       "<pre style=\"white-space:pre;overflow-x:auto;line-height:normal;font-family:Menlo,'DejaVu Sans Mono',consolas,'Courier New',monospace\">Epoch end: Train, epoch number: 9\n",
       "</pre>\n"
      ],
      "text/plain": [
       "Epoch end: Train, epoch number: 9\n"
      ]
     },
     "metadata": {},
     "output_type": "display_data"
    },
    {
     "data": {
      "text/html": [
       "<pre style=\"white-space:pre;overflow-x:auto;line-height:normal;font-family:Menlo,'DejaVu Sans Mono',consolas,'Courier New',monospace\"></pre>\n"
      ],
      "text/plain": []
     },
     "metadata": {},
     "output_type": "display_data"
    },
    {
     "data": {
      "text/html": [
       "<pre style=\"white-space:pre;overflow-x:auto;line-height:normal;font-family:Menlo,'DejaVu Sans Mono',consolas,'Courier New',monospace\">\n",
       "</pre>\n"
      ],
      "text/plain": [
       "\n"
      ]
     },
     "metadata": {},
     "output_type": "display_data"
    },
    {
     "data": {
      "application/vnd.jupyter.widget-view+json": {
       "model_id": "6566eacbb5d44352ba589fd3ae0e3190",
       "version_major": 2,
       "version_minor": 0
      },
      "text/plain": [
       "Output()"
      ]
     },
     "metadata": {},
     "output_type": "display_data"
    },
    {
     "data": {
      "text/html": [
       "<pre style=\"white-space:pre;overflow-x:auto;line-height:normal;font-family:Menlo,'DejaVu Sans Mono',consolas,'Courier New',monospace\">Epoch end: Test, epoch number: 1\n",
       "</pre>\n"
      ],
      "text/plain": [
       "Epoch end: Test, epoch number: 1\n"
      ]
     },
     "metadata": {},
     "output_type": "display_data"
    },
    {
     "data": {
      "text/html": [
       "<pre style=\"white-space:pre;overflow-x:auto;line-height:normal;font-family:Menlo,'DejaVu Sans Mono',consolas,'Courier New',monospace\">┏━━━━━━━━━━━━━━━━━━━━━━━━━━━┳━━━━━━━━━━━━━━━━━━━━━━━━━━━┓\n",
       "┃<span style=\"font-weight: bold\">   Runningstage.testing    </span>┃<span style=\"font-weight: bold\">                           </span>┃\n",
       "┃<span style=\"font-weight: bold\">          metric           </span>┃<span style=\"font-weight: bold\">       DataLoader 0        </span>┃\n",
       "┡━━━━━━━━━━━━━━━━━━━━━━━━━━━╇━━━━━━━━━━━━━━━━━━━━━━━━━━━┩\n",
       "│<span style=\"color: #008080; text-decoration-color: #008080\">       Test/Accuracy       </span>│<span style=\"color: #800080; text-decoration-color: #800080\">    0.9263056516647339     </span>│\n",
       "│<span style=\"color: #008080; text-decoration-color: #008080\">       Test/F1Score        </span>│<span style=\"color: #800080; text-decoration-color: #800080\">    0.9203307628631592     </span>│\n",
       "│<span style=\"color: #008080; text-decoration-color: #008080\">         Test/Loss         </span>│<span style=\"color: #800080; text-decoration-color: #800080\">    0.22175036370754242    </span>│\n",
       "│<span style=\"color: #008080; text-decoration-color: #008080\">      Test/Precision       </span>│<span style=\"color: #800080; text-decoration-color: #800080\">    0.9299616813659668     </span>│\n",
       "│<span style=\"color: #008080; text-decoration-color: #008080\">        Test/Recall        </span>│<span style=\"color: #800080; text-decoration-color: #800080\">    0.9263056516647339     </span>│\n",
       "│<span style=\"color: #008080; text-decoration-color: #008080\">    TestEpoch/Accuracy     </span>│<span style=\"color: #800080; text-decoration-color: #800080\">    0.9439323544502258     </span>│\n",
       "│<span style=\"color: #008080; text-decoration-color: #008080\">     TestEpoch/F1Score     </span>│<span style=\"color: #800080; text-decoration-color: #800080\">     0.944196343421936     </span>│\n",
       "│<span style=\"color: #008080; text-decoration-color: #008080\">    TestEpoch/Precision    </span>│<span style=\"color: #800080; text-decoration-color: #800080\">    0.9450737237930298     </span>│\n",
       "│<span style=\"color: #008080; text-decoration-color: #008080\">     TestEpoch/Recall      </span>│<span style=\"color: #800080; text-decoration-color: #800080\">    0.9439323544502258     </span>│\n",
       "└───────────────────────────┴───────────────────────────┘\n",
       "</pre>\n"
      ],
      "text/plain": [
       "┏━━━━━━━━━━━━━━━━━━━━━━━━━━━┳━━━━━━━━━━━━━━━━━━━━━━━━━━━┓\n",
       "┃\u001b[1m \u001b[0m\u001b[1m  Runningstage.testing   \u001b[0m\u001b[1m \u001b[0m┃\u001b[1m                           \u001b[0m┃\n",
       "┃\u001b[1m \u001b[0m\u001b[1m         metric          \u001b[0m\u001b[1m \u001b[0m┃\u001b[1m \u001b[0m\u001b[1m      DataLoader 0       \u001b[0m\u001b[1m \u001b[0m┃\n",
       "┡━━━━━━━━━━━━━━━━━━━━━━━━━━━╇━━━━━━━━━━━━━━━━━━━━━━━━━━━┩\n",
       "│\u001b[36m \u001b[0m\u001b[36m      Test/Accuracy      \u001b[0m\u001b[36m \u001b[0m│\u001b[35m \u001b[0m\u001b[35m   0.9263056516647339    \u001b[0m\u001b[35m \u001b[0m│\n",
       "│\u001b[36m \u001b[0m\u001b[36m      Test/F1Score       \u001b[0m\u001b[36m \u001b[0m│\u001b[35m \u001b[0m\u001b[35m   0.9203307628631592    \u001b[0m\u001b[35m \u001b[0m│\n",
       "│\u001b[36m \u001b[0m\u001b[36m        Test/Loss        \u001b[0m\u001b[36m \u001b[0m│\u001b[35m \u001b[0m\u001b[35m   0.22175036370754242   \u001b[0m\u001b[35m \u001b[0m│\n",
       "│\u001b[36m \u001b[0m\u001b[36m     Test/Precision      \u001b[0m\u001b[36m \u001b[0m│\u001b[35m \u001b[0m\u001b[35m   0.9299616813659668    \u001b[0m\u001b[35m \u001b[0m│\n",
       "│\u001b[36m \u001b[0m\u001b[36m       Test/Recall       \u001b[0m\u001b[36m \u001b[0m│\u001b[35m \u001b[0m\u001b[35m   0.9263056516647339    \u001b[0m\u001b[35m \u001b[0m│\n",
       "│\u001b[36m \u001b[0m\u001b[36m   TestEpoch/Accuracy    \u001b[0m\u001b[36m \u001b[0m│\u001b[35m \u001b[0m\u001b[35m   0.9439323544502258    \u001b[0m\u001b[35m \u001b[0m│\n",
       "│\u001b[36m \u001b[0m\u001b[36m    TestEpoch/F1Score    \u001b[0m\u001b[36m \u001b[0m│\u001b[35m \u001b[0m\u001b[35m    0.944196343421936    \u001b[0m\u001b[35m \u001b[0m│\n",
       "│\u001b[36m \u001b[0m\u001b[36m   TestEpoch/Precision   \u001b[0m\u001b[36m \u001b[0m│\u001b[35m \u001b[0m\u001b[35m   0.9450737237930298    \u001b[0m\u001b[35m \u001b[0m│\n",
       "│\u001b[36m \u001b[0m\u001b[36m    TestEpoch/Recall     \u001b[0m\u001b[36m \u001b[0m│\u001b[35m \u001b[0m\u001b[35m   0.9439323544502258    \u001b[0m\u001b[35m \u001b[0m│\n",
       "└───────────────────────────┴───────────────────────────┘\n"
      ]
     },
     "metadata": {},
     "output_type": "display_data"
    },
    {
     "data": {
      "text/html": [
       "<pre style=\"white-space:pre;overflow-x:auto;line-height:normal;font-family:Menlo,'DejaVu Sans Mono',consolas,'Courier New',monospace\"></pre>\n"
      ],
      "text/plain": []
     },
     "metadata": {},
     "output_type": "display_data"
    },
    {
     "data": {
      "text/html": [
       "<pre style=\"white-space:pre;overflow-x:auto;line-height:normal;font-family:Menlo,'DejaVu Sans Mono',consolas,'Courier New',monospace\">\n",
       "</pre>\n"
      ],
      "text/plain": [
       "\n"
      ]
     },
     "metadata": {},
     "output_type": "display_data"
    },
    {
     "name": "stderr",
     "output_type": "stream",
     "text": [
      "--- Logging error ---\n",
      "Traceback (most recent call last):\n",
      "  File \"C:\\Users\\luke-\\AppData\\Local\\Programs\\Python\\Python311\\Lib\\logging\\__init__.py\", line 1113, in emit\n",
      "    stream.write(msg + self.terminator)\n",
      "UnicodeEncodeError: 'gbk' codec can't encode character '\\u2022' in position 771: illegal multibyte sequence\n",
      "Call stack:\n",
      "  File \"<frozen runpy>\", line 198, in _run_module_as_main\n",
      "  File \"<frozen runpy>\", line 88, in _run_code\n",
      "  File \"d:\\git\\FedStellar-topo-manipulation\\venv\\Lib\\site-packages\\ipykernel_launcher.py\", line 17, in <module>\n",
      "    app.launch_new_instance()\n",
      "  File \"d:\\git\\FedStellar-topo-manipulation\\venv\\Lib\\site-packages\\traitlets\\config\\application.py\", line 1046, in launch_instance\n",
      "    app.start()\n",
      "  File \"d:\\git\\FedStellar-topo-manipulation\\venv\\Lib\\site-packages\\ipykernel\\kernelapp.py\", line 736, in start\n",
      "    self.io_loop.start()\n",
      "  File \"d:\\git\\FedStellar-topo-manipulation\\venv\\Lib\\site-packages\\tornado\\platform\\asyncio.py\", line 195, in start\n",
      "    self.asyncio_loop.run_forever()\n",
      "  File \"C:\\Users\\luke-\\AppData\\Local\\Programs\\Python\\Python311\\Lib\\asyncio\\base_events.py\", line 607, in run_forever\n",
      "    self._run_once()\n",
      "  File \"C:\\Users\\luke-\\AppData\\Local\\Programs\\Python\\Python311\\Lib\\asyncio\\base_events.py\", line 1922, in _run_once\n",
      "    handle._run()\n",
      "  File \"C:\\Users\\luke-\\AppData\\Local\\Programs\\Python\\Python311\\Lib\\asyncio\\events.py\", line 80, in _run\n",
      "    self._context.run(self._callback, *self._args)\n",
      "  File \"d:\\git\\FedStellar-topo-manipulation\\venv\\Lib\\site-packages\\ipykernel\\kernelbase.py\", line 516, in dispatch_queue\n",
      "    await self.process_one()\n",
      "  File \"d:\\git\\FedStellar-topo-manipulation\\venv\\Lib\\site-packages\\ipykernel\\kernelbase.py\", line 505, in process_one\n",
      "    await dispatch(*args)\n",
      "  File \"d:\\git\\FedStellar-topo-manipulation\\venv\\Lib\\site-packages\\ipykernel\\kernelbase.py\", line 410, in dispatch_shell\n",
      "    result = handler(self.shell_stream, idents, msg)\n",
      "  File \"d:\\git\\FedStellar-topo-manipulation\\venv\\Lib\\site-packages\\comm\\base_comm.py\", line 261, in comm_msg\n",
      "    comm.handle_msg(msg)\n",
      "  File \"d:\\git\\FedStellar-topo-manipulation\\venv\\Lib\\site-packages\\comm\\base_comm.py\", line 150, in handle_msg\n",
      "    logger.debug(\"handle_msg[%s](%s)\", self.comm_id, msg)\n",
      "Message: 'handle_msg[%s](%s)'\n",
      "Arguments: ('8049bb9baa8941de8248563bfd2c31a4', {'header': {'date': datetime.datetime(2023, 9, 28, 13, 59, 31, 113000, tzinfo=tzutc()), 'msg_id': '2b4c4cbe-1e97-4677-966e-8d58cc59fd22', 'msg_type': 'comm_msg', 'session': 'e204dc96-42f2-43b6-ab7a-f0587e1221ba', 'username': '3532d832-869a-498b-a7c0-abb8e9c39b32', 'version': '5.2'}, 'msg_id': '2b4c4cbe-1e97-4677-966e-8d58cc59fd22', 'msg_type': 'comm_msg', 'parent_header': {}, 'metadata': {}, 'content': {'comm_id': '8049bb9baa8941de8248563bfd2c31a4', 'data': {'method': 'update', 'state': {'outputs': [{'output_type': 'display_data', 'data': {'text/plain': '\\x1b[38;5;154mTesting\\x1b[0m \\x1b[38;5;46m━━━━━━━━━━━━━━━━━━━━━━━━━━━━━━━━━━━━━━━━\\x1b[0m \\x1b[38;5;154m31/31\\x1b[0m \\x1b[38;5;252m0:00:01 • 0:00:00\\x1b[0m \\x1b[38;5;252m63.97it/s\\x1b[0m  \\n', 'text/html': '<pre style=\"white-space:pre;overflow-x:auto;line-height:normal;font-family:Menlo,\\'DejaVu Sans Mono\\',consolas,\\'Courier New\\',monospace\"><span style=\"color: #afff00; text-decoration-color: #afff00\">Testing</span> <span style=\"color: #00ff00; text-decoration-color: #00ff00\">━━━━━━━━━━━━━━━━━━━━━━━━━━━━━━━━━━━━━━━━</span> <span style=\"color: #afff00; text-decoration-color: #afff00\">31/31</span> <span style=\"color: #d0d0d0; text-decoration-color: #d0d0d0\">0:00:01 • 0:00:00</span> <span style=\"color: #d0d0d0; text-decoration-color: #d0d0d0\">63.97it/s</span>  \\n</pre>\\n'}, 'metadata': {}}]}, 'buffer_paths': []}}, 'buffers': []})\n",
      "--- Logging error ---\n",
      "Traceback (most recent call last):\n",
      "  File \"C:\\Users\\luke-\\AppData\\Local\\Programs\\Python\\Python311\\Lib\\logging\\__init__.py\", line 1113, in emit\n",
      "    stream.write(msg + self.terminator)\n",
      "UnicodeEncodeError: 'gbk' codec can't encode character '\\u2022' in position 771: illegal multibyte sequence\n",
      "Call stack:\n",
      "  File \"<frozen runpy>\", line 198, in _run_module_as_main\n",
      "  File \"<frozen runpy>\", line 88, in _run_code\n",
      "  File \"d:\\git\\FedStellar-topo-manipulation\\venv\\Lib\\site-packages\\ipykernel_launcher.py\", line 17, in <module>\n",
      "    app.launch_new_instance()\n",
      "  File \"d:\\git\\FedStellar-topo-manipulation\\venv\\Lib\\site-packages\\traitlets\\config\\application.py\", line 1046, in launch_instance\n",
      "    app.start()\n",
      "  File \"d:\\git\\FedStellar-topo-manipulation\\venv\\Lib\\site-packages\\ipykernel\\kernelapp.py\", line 736, in start\n",
      "    self.io_loop.start()\n",
      "  File \"d:\\git\\FedStellar-topo-manipulation\\venv\\Lib\\site-packages\\tornado\\platform\\asyncio.py\", line 195, in start\n",
      "    self.asyncio_loop.run_forever()\n",
      "  File \"C:\\Users\\luke-\\AppData\\Local\\Programs\\Python\\Python311\\Lib\\asyncio\\base_events.py\", line 607, in run_forever\n",
      "    self._run_once()\n",
      "  File \"C:\\Users\\luke-\\AppData\\Local\\Programs\\Python\\Python311\\Lib\\asyncio\\base_events.py\", line 1922, in _run_once\n",
      "    handle._run()\n",
      "  File \"C:\\Users\\luke-\\AppData\\Local\\Programs\\Python\\Python311\\Lib\\asyncio\\events.py\", line 80, in _run\n",
      "    self._context.run(self._callback, *self._args)\n",
      "  File \"d:\\git\\FedStellar-topo-manipulation\\venv\\Lib\\site-packages\\ipykernel\\kernelbase.py\", line 516, in dispatch_queue\n",
      "    await self.process_one()\n",
      "  File \"d:\\git\\FedStellar-topo-manipulation\\venv\\Lib\\site-packages\\ipykernel\\kernelbase.py\", line 505, in process_one\n",
      "    await dispatch(*args)\n",
      "  File \"d:\\git\\FedStellar-topo-manipulation\\venv\\Lib\\site-packages\\ipykernel\\kernelbase.py\", line 410, in dispatch_shell\n",
      "    result = handler(self.shell_stream, idents, msg)\n",
      "  File \"d:\\git\\FedStellar-topo-manipulation\\venv\\Lib\\site-packages\\comm\\base_comm.py\", line 261, in comm_msg\n",
      "    comm.handle_msg(msg)\n",
      "  File \"d:\\git\\FedStellar-topo-manipulation\\venv\\Lib\\site-packages\\comm\\base_comm.py\", line 150, in handle_msg\n",
      "    logger.debug(\"handle_msg[%s](%s)\", self.comm_id, msg)\n",
      "Message: 'handle_msg[%s](%s)'\n",
      "Arguments: ('8049bb9baa8941de8248563bfd2c31a4', {'header': {'date': datetime.datetime(2023, 9, 28, 13, 59, 31, 113000, tzinfo=tzutc()), 'msg_id': '2b4c4cbe-1e97-4677-966e-8d58cc59fd22', 'msg_type': 'comm_msg', 'session': 'e204dc96-42f2-43b6-ab7a-f0587e1221ba', 'username': '3532d832-869a-498b-a7c0-abb8e9c39b32', 'version': '5.2'}, 'msg_id': '2b4c4cbe-1e97-4677-966e-8d58cc59fd22', 'msg_type': 'comm_msg', 'parent_header': {}, 'metadata': {}, 'content': {'comm_id': '8049bb9baa8941de8248563bfd2c31a4', 'data': {'method': 'update', 'state': {'outputs': [{'output_type': 'display_data', 'data': {'text/plain': '\\x1b[38;5;154mTesting\\x1b[0m \\x1b[38;5;46m━━━━━━━━━━━━━━━━━━━━━━━━━━━━━━━━━━━━━━━━\\x1b[0m \\x1b[38;5;154m31/31\\x1b[0m \\x1b[38;5;252m0:00:01 • 0:00:00\\x1b[0m \\x1b[38;5;252m63.97it/s\\x1b[0m  \\n', 'text/html': '<pre style=\"white-space:pre;overflow-x:auto;line-height:normal;font-family:Menlo,\\'DejaVu Sans Mono\\',consolas,\\'Courier New\\',monospace\"><span style=\"color: #afff00; text-decoration-color: #afff00\">Testing</span> <span style=\"color: #00ff00; text-decoration-color: #00ff00\">━━━━━━━━━━━━━━━━━━━━━━━━━━━━━━━━━━━━━━━━</span> <span style=\"color: #afff00; text-decoration-color: #afff00\">31/31</span> <span style=\"color: #d0d0d0; text-decoration-color: #d0d0d0\">0:00:01 • 0:00:00</span> <span style=\"color: #d0d0d0; text-decoration-color: #d0d0d0\">63.97it/s</span>  \\n</pre>\\n'}, 'metadata': {}}]}, 'buffer_paths': []}}, 'buffers': []})\n",
      "--- Logging error ---\n",
      "Traceback (most recent call last):\n",
      "  File \"C:\\Users\\luke-\\AppData\\Local\\Programs\\Python\\Python311\\Lib\\logging\\__init__.py\", line 1113, in emit\n",
      "    stream.write(msg + self.terminator)\n",
      "UnicodeEncodeError: 'gbk' codec can't encode character '\\u2022' in position 771: illegal multibyte sequence\n",
      "Call stack:\n",
      "  File \"<frozen runpy>\", line 198, in _run_module_as_main\n",
      "  File \"<frozen runpy>\", line 88, in _run_code\n",
      "  File \"d:\\git\\FedStellar-topo-manipulation\\venv\\Lib\\site-packages\\ipykernel_launcher.py\", line 17, in <module>\n",
      "    app.launch_new_instance()\n",
      "  File \"d:\\git\\FedStellar-topo-manipulation\\venv\\Lib\\site-packages\\traitlets\\config\\application.py\", line 1046, in launch_instance\n",
      "    app.start()\n",
      "  File \"d:\\git\\FedStellar-topo-manipulation\\venv\\Lib\\site-packages\\ipykernel\\kernelapp.py\", line 736, in start\n",
      "    self.io_loop.start()\n",
      "  File \"d:\\git\\FedStellar-topo-manipulation\\venv\\Lib\\site-packages\\tornado\\platform\\asyncio.py\", line 195, in start\n",
      "    self.asyncio_loop.run_forever()\n",
      "  File \"C:\\Users\\luke-\\AppData\\Local\\Programs\\Python\\Python311\\Lib\\asyncio\\base_events.py\", line 607, in run_forever\n",
      "    self._run_once()\n",
      "  File \"C:\\Users\\luke-\\AppData\\Local\\Programs\\Python\\Python311\\Lib\\asyncio\\base_events.py\", line 1922, in _run_once\n",
      "    handle._run()\n",
      "  File \"C:\\Users\\luke-\\AppData\\Local\\Programs\\Python\\Python311\\Lib\\asyncio\\events.py\", line 80, in _run\n",
      "    self._context.run(self._callback, *self._args)\n",
      "  File \"d:\\git\\FedStellar-topo-manipulation\\venv\\Lib\\site-packages\\ipykernel\\kernelbase.py\", line 516, in dispatch_queue\n",
      "    await self.process_one()\n",
      "  File \"d:\\git\\FedStellar-topo-manipulation\\venv\\Lib\\site-packages\\ipykernel\\kernelbase.py\", line 505, in process_one\n",
      "    await dispatch(*args)\n",
      "  File \"d:\\git\\FedStellar-topo-manipulation\\venv\\Lib\\site-packages\\ipykernel\\kernelbase.py\", line 410, in dispatch_shell\n",
      "    result = handler(self.shell_stream, idents, msg)\n",
      "  File \"d:\\git\\FedStellar-topo-manipulation\\venv\\Lib\\site-packages\\comm\\base_comm.py\", line 261, in comm_msg\n",
      "    comm.handle_msg(msg)\n",
      "  File \"d:\\git\\FedStellar-topo-manipulation\\venv\\Lib\\site-packages\\comm\\base_comm.py\", line 150, in handle_msg\n",
      "    logger.debug(\"handle_msg[%s](%s)\", self.comm_id, msg)\n",
      "Message: 'handle_msg[%s](%s)'\n",
      "Arguments: ('8049bb9baa8941de8248563bfd2c31a4', {'header': {'date': datetime.datetime(2023, 9, 28, 13, 59, 31, 113000, tzinfo=tzutc()), 'msg_id': '2b4c4cbe-1e97-4677-966e-8d58cc59fd22', 'msg_type': 'comm_msg', 'session': 'e204dc96-42f2-43b6-ab7a-f0587e1221ba', 'username': '3532d832-869a-498b-a7c0-abb8e9c39b32', 'version': '5.2'}, 'msg_id': '2b4c4cbe-1e97-4677-966e-8d58cc59fd22', 'msg_type': 'comm_msg', 'parent_header': {}, 'metadata': {}, 'content': {'comm_id': '8049bb9baa8941de8248563bfd2c31a4', 'data': {'method': 'update', 'state': {'outputs': [{'output_type': 'display_data', 'data': {'text/plain': '\\x1b[38;5;154mTesting\\x1b[0m \\x1b[38;5;46m━━━━━━━━━━━━━━━━━━━━━━━━━━━━━━━━━━━━━━━━\\x1b[0m \\x1b[38;5;154m31/31\\x1b[0m \\x1b[38;5;252m0:00:01 • 0:00:00\\x1b[0m \\x1b[38;5;252m63.97it/s\\x1b[0m  \\n', 'text/html': '<pre style=\"white-space:pre;overflow-x:auto;line-height:normal;font-family:Menlo,\\'DejaVu Sans Mono\\',consolas,\\'Courier New\\',monospace\"><span style=\"color: #afff00; text-decoration-color: #afff00\">Testing</span> <span style=\"color: #00ff00; text-decoration-color: #00ff00\">━━━━━━━━━━━━━━━━━━━━━━━━━━━━━━━━━━━━━━━━</span> <span style=\"color: #afff00; text-decoration-color: #afff00\">31/31</span> <span style=\"color: #d0d0d0; text-decoration-color: #d0d0d0\">0:00:01 • 0:00:00</span> <span style=\"color: #d0d0d0; text-decoration-color: #d0d0d0\">63.97it/s</span>  \\n</pre>\\n'}, 'metadata': {}}]}, 'buffer_paths': []}}, 'buffers': []})\n",
      "--- Logging error ---\n",
      "Traceback (most recent call last):\n",
      "  File \"C:\\Users\\luke-\\AppData\\Local\\Programs\\Python\\Python311\\Lib\\logging\\__init__.py\", line 1113, in emit\n",
      "    stream.write(msg + self.terminator)\n",
      "UnicodeEncodeError: 'gbk' codec can't encode character '\\u2022' in position 748: illegal multibyte sequence\n",
      "Call stack:\n",
      "  File \"<frozen runpy>\", line 198, in _run_module_as_main\n",
      "  File \"<frozen runpy>\", line 88, in _run_code\n",
      "  File \"d:\\git\\FedStellar-topo-manipulation\\venv\\Lib\\site-packages\\ipykernel_launcher.py\", line 17, in <module>\n",
      "    app.launch_new_instance()\n",
      "  File \"d:\\git\\FedStellar-topo-manipulation\\venv\\Lib\\site-packages\\traitlets\\config\\application.py\", line 1046, in launch_instance\n",
      "    app.start()\n",
      "  File \"d:\\git\\FedStellar-topo-manipulation\\venv\\Lib\\site-packages\\ipykernel\\kernelapp.py\", line 736, in start\n",
      "    self.io_loop.start()\n",
      "  File \"d:\\git\\FedStellar-topo-manipulation\\venv\\Lib\\site-packages\\tornado\\platform\\asyncio.py\", line 195, in start\n",
      "    self.asyncio_loop.run_forever()\n",
      "  File \"C:\\Users\\luke-\\AppData\\Local\\Programs\\Python\\Python311\\Lib\\asyncio\\base_events.py\", line 607, in run_forever\n",
      "    self._run_once()\n",
      "  File \"C:\\Users\\luke-\\AppData\\Local\\Programs\\Python\\Python311\\Lib\\asyncio\\base_events.py\", line 1922, in _run_once\n",
      "    handle._run()\n",
      "  File \"C:\\Users\\luke-\\AppData\\Local\\Programs\\Python\\Python311\\Lib\\asyncio\\events.py\", line 80, in _run\n",
      "    self._context.run(self._callback, *self._args)\n",
      "  File \"d:\\git\\FedStellar-topo-manipulation\\venv\\Lib\\site-packages\\ipykernel\\kernelbase.py\", line 516, in dispatch_queue\n",
      "    await self.process_one()\n",
      "  File \"d:\\git\\FedStellar-topo-manipulation\\venv\\Lib\\site-packages\\ipykernel\\kernelbase.py\", line 505, in process_one\n",
      "    await dispatch(*args)\n",
      "  File \"d:\\git\\FedStellar-topo-manipulation\\venv\\Lib\\site-packages\\ipykernel\\kernelbase.py\", line 410, in dispatch_shell\n",
      "    result = handler(self.shell_stream, idents, msg)\n",
      "  File \"d:\\git\\FedStellar-topo-manipulation\\venv\\Lib\\site-packages\\comm\\base_comm.py\", line 261, in comm_msg\n",
      "    comm.handle_msg(msg)\n",
      "  File \"d:\\git\\FedStellar-topo-manipulation\\venv\\Lib\\site-packages\\comm\\base_comm.py\", line 150, in handle_msg\n",
      "    logger.debug(\"handle_msg[%s](%s)\", self.comm_id, msg)\n",
      "Message: 'handle_msg[%s](%s)'\n",
      "Arguments: ('8ee07faba1c546a382fb1370b09cca60', {'header': {'date': datetime.datetime(2023, 9, 28, 13, 59, 31, 113000, tzinfo=tzutc()), 'msg_id': '118ffa44-63f8-418e-8eac-257c82245919', 'msg_type': 'comm_msg', 'session': 'e204dc96-42f2-43b6-ab7a-f0587e1221ba', 'username': '3532d832-869a-498b-a7c0-abb8e9c39b32', 'version': '5.2'}, 'msg_id': '118ffa44-63f8-418e-8eac-257c82245919', 'msg_type': 'comm_msg', 'parent_header': {}, 'metadata': {}, 'content': {'comm_id': '8ee07faba1c546a382fb1370b09cca60', 'data': {'method': 'update', 'state': {'outputs': [{'output_type': 'display_data', 'data': {'text/plain': 'Epoch 9/9  \\x1b[38;5;46m━━━━━━━━━━━━━━━━━━━━━━━━━━━━━━━━━\\x1b[0m \\x1b[38;5;154m168/168\\x1b[0m \\x1b[38;5;252m0:00:08 • 0:00:00\\x1b[0m \\x1b[38;5;252m31.07it/s\\x1b[0m \\x1b[38;5;252mv_num: ui10 Train/Loss: 0.012     \\x1b[0m\\n                                                                                 \\x1b[38;5;252mTrain/Accuracy: 1.0               \\x1b[0m\\n                                                                                 \\x1b[38;5;252mTrain/Precision: 1.0 Train/Recall:\\x1b[0m\\n                                                                                 \\x1b[38;5;252m1.0 Train/F1Score: 1.0            \\x1b[0m\\n                                                                                 \\x1b[38;5;252mValidation/Loss: 0.228            \\x1b[0m\\n                                                                                 \\x1b[38;5;252mValidation/Accuracy: 0.906        \\x1b[0m\\n                                                                                 \\x1b[38;5;252mValidation/Precision: 0.914       \\x1b[0m\\n                                                                                 \\x1b[38;5;252mValidation/Recall: 0.906          \\x1b[0m\\n                                                                                 \\x1b[38;5;252mValidation/F1Score: 0.9           \\x1b[0m\\n                                                                                 \\x1b[38;5;252mValidationEpoch/Accuracy: 0.943   \\x1b[0m\\n                                                                                 \\x1b[38;5;252mValidationEpoch/Precision: 0.942  \\x1b[0m\\n                                                                                 \\x1b[38;5;252mValidationEpoch/Recall: 0.943     \\x1b[0m\\n                                                                                 \\x1b[38;5;252mValidationEpoch/F1Score: 0.942    \\x1b[0m\\n                                                                                 \\x1b[38;5;252mTrainEpoch/Accuracy: 0.992        \\x1b[0m\\n                                                                                 \\x1b[38;5;252mTrainEpoch/Precision: 0.992       \\x1b[0m\\n                                                                                 \\x1b[38;5;252mTrainEpoch/Recall: 0.992          \\x1b[0m\\n                                                                                 \\x1b[38;5;252mTrainEpoch/F1Score: 0.992         \\x1b[0m\\n', 'text/html': '<pre style=\"white-space:pre;overflow-x:auto;line-height:normal;font-family:Menlo,\\'DejaVu Sans Mono\\',consolas,\\'Courier New\\',monospace\">Epoch 9/9  <span style=\"color: #00ff00; text-decoration-color: #00ff00\">━━━━━━━━━━━━━━━━━━━━━━━━━━━━━━━━━</span> <span style=\"color: #afff00; text-decoration-color: #afff00\">168/168</span> <span style=\"color: #d0d0d0; text-decoration-color: #d0d0d0\">0:00:08 • 0:00:00</span> <span style=\"color: #d0d0d0; text-decoration-color: #d0d0d0\">31.07it/s</span> <span style=\"color: #d0d0d0; text-decoration-color: #d0d0d0\">v_num: ui10 Train/Loss: 0.012     </span>\\n                                                                                 <span style=\"color: #d0d0d0; text-decoration-color: #d0d0d0\">Train/Accuracy: 1.0               </span>\\n                                                                                 <span style=\"color: #d0d0d0; text-decoration-color: #d0d0d0\">Train/Precision: 1.0 Train/Recall:</span>\\n                                                                                 <span style=\"color: #d0d0d0; text-decoration-color: #d0d0d0\">1.0 Train/F1Score: 1.0            </span>\\n                                                                                 <span style=\"color: #d0d0d0; text-decoration-color: #d0d0d0\">Validation/Loss: 0.228            </span>\\n                                                                                 <span style=\"color: #d0d0d0; text-decoration-color: #d0d0d0\">Validation/Accuracy: 0.906        </span>\\n                                                                                 <span style=\"color: #d0d0d0; text-decoration-color: #d0d0d0\">Validation/Precision: 0.914       </span>\\n                                                                                 <span style=\"color: #d0d0d0; text-decoration-color: #d0d0d0\">Validation/Recall: 0.906          </span>\\n                                                                                 <span style=\"color: #d0d0d0; text-decoration-color: #d0d0d0\">Validation/F1Score: 0.9           </span>\\n                                                                                 <span style=\"color: #d0d0d0; text-decoration-color: #d0d0d0\">ValidationEpoch/Accuracy: 0.943   </span>\\n                                                                                 <span style=\"color: #d0d0d0; text-decoration-color: #d0d0d0\">ValidationEpoch/Precision: 0.942  </span>\\n                                                                                 <span style=\"color: #d0d0d0; text-decoration-color: #d0d0d0\">ValidationEpoch/Recall: 0.943     </span>\\n                                                                                 <span style=\"color: #d0d0d0; text-decoration-color: #d0d0d0\">ValidationEpoch/F1Score: 0.942    </span>\\n                                                                                 <span style=\"color: #d0d0d0; text-decoration-color: #d0d0d0\">TrainEpoch/Accuracy: 0.992        </span>\\n                                                                                 <span style=\"color: #d0d0d0; text-decoration-color: #d0d0d0\">TrainEpoch/Precision: 0.992       </span>\\n                                                                                 <span style=\"color: #d0d0d0; text-decoration-color: #d0d0d0\">TrainEpoch/Recall: 0.992          </span>\\n                                                                                 <span style=\"color: #d0d0d0; text-decoration-color: #d0d0d0\">TrainEpoch/F1Score: 0.992         </span>\\n</pre>\\n'}, 'metadata': {}}]}, 'buffer_paths': []}}, 'buffers': []})\n",
      "--- Logging error ---\n",
      "Traceback (most recent call last):\n",
      "  File \"C:\\Users\\luke-\\AppData\\Local\\Programs\\Python\\Python311\\Lib\\logging\\__init__.py\", line 1113, in emit\n",
      "    stream.write(msg + self.terminator)\n",
      "UnicodeEncodeError: 'gbk' codec can't encode character '\\u2022' in position 748: illegal multibyte sequence\n",
      "Call stack:\n",
      "  File \"<frozen runpy>\", line 198, in _run_module_as_main\n",
      "  File \"<frozen runpy>\", line 88, in _run_code\n",
      "  File \"d:\\git\\FedStellar-topo-manipulation\\venv\\Lib\\site-packages\\ipykernel_launcher.py\", line 17, in <module>\n",
      "    app.launch_new_instance()\n",
      "  File \"d:\\git\\FedStellar-topo-manipulation\\venv\\Lib\\site-packages\\traitlets\\config\\application.py\", line 1046, in launch_instance\n",
      "    app.start()\n",
      "  File \"d:\\git\\FedStellar-topo-manipulation\\venv\\Lib\\site-packages\\ipykernel\\kernelapp.py\", line 736, in start\n",
      "    self.io_loop.start()\n",
      "  File \"d:\\git\\FedStellar-topo-manipulation\\venv\\Lib\\site-packages\\tornado\\platform\\asyncio.py\", line 195, in start\n",
      "    self.asyncio_loop.run_forever()\n",
      "  File \"C:\\Users\\luke-\\AppData\\Local\\Programs\\Python\\Python311\\Lib\\asyncio\\base_events.py\", line 607, in run_forever\n",
      "    self._run_once()\n",
      "  File \"C:\\Users\\luke-\\AppData\\Local\\Programs\\Python\\Python311\\Lib\\asyncio\\base_events.py\", line 1922, in _run_once\n",
      "    handle._run()\n",
      "  File \"C:\\Users\\luke-\\AppData\\Local\\Programs\\Python\\Python311\\Lib\\asyncio\\events.py\", line 80, in _run\n",
      "    self._context.run(self._callback, *self._args)\n",
      "  File \"d:\\git\\FedStellar-topo-manipulation\\venv\\Lib\\site-packages\\ipykernel\\kernelbase.py\", line 516, in dispatch_queue\n",
      "    await self.process_one()\n",
      "  File \"d:\\git\\FedStellar-topo-manipulation\\venv\\Lib\\site-packages\\ipykernel\\kernelbase.py\", line 505, in process_one\n",
      "    await dispatch(*args)\n",
      "  File \"d:\\git\\FedStellar-topo-manipulation\\venv\\Lib\\site-packages\\ipykernel\\kernelbase.py\", line 410, in dispatch_shell\n",
      "    result = handler(self.shell_stream, idents, msg)\n",
      "  File \"d:\\git\\FedStellar-topo-manipulation\\venv\\Lib\\site-packages\\comm\\base_comm.py\", line 261, in comm_msg\n",
      "    comm.handle_msg(msg)\n",
      "  File \"d:\\git\\FedStellar-topo-manipulation\\venv\\Lib\\site-packages\\comm\\base_comm.py\", line 150, in handle_msg\n",
      "    logger.debug(\"handle_msg[%s](%s)\", self.comm_id, msg)\n",
      "Message: 'handle_msg[%s](%s)'\n",
      "Arguments: ('8ee07faba1c546a382fb1370b09cca60', {'header': {'date': datetime.datetime(2023, 9, 28, 13, 59, 31, 113000, tzinfo=tzutc()), 'msg_id': '118ffa44-63f8-418e-8eac-257c82245919', 'msg_type': 'comm_msg', 'session': 'e204dc96-42f2-43b6-ab7a-f0587e1221ba', 'username': '3532d832-869a-498b-a7c0-abb8e9c39b32', 'version': '5.2'}, 'msg_id': '118ffa44-63f8-418e-8eac-257c82245919', 'msg_type': 'comm_msg', 'parent_header': {}, 'metadata': {}, 'content': {'comm_id': '8ee07faba1c546a382fb1370b09cca60', 'data': {'method': 'update', 'state': {'outputs': [{'output_type': 'display_data', 'data': {'text/plain': 'Epoch 9/9  \\x1b[38;5;46m━━━━━━━━━━━━━━━━━━━━━━━━━━━━━━━━━\\x1b[0m \\x1b[38;5;154m168/168\\x1b[0m \\x1b[38;5;252m0:00:08 • 0:00:00\\x1b[0m \\x1b[38;5;252m31.07it/s\\x1b[0m \\x1b[38;5;252mv_num: ui10 Train/Loss: 0.012     \\x1b[0m\\n                                                                                 \\x1b[38;5;252mTrain/Accuracy: 1.0               \\x1b[0m\\n                                                                                 \\x1b[38;5;252mTrain/Precision: 1.0 Train/Recall:\\x1b[0m\\n                                                                                 \\x1b[38;5;252m1.0 Train/F1Score: 1.0            \\x1b[0m\\n                                                                                 \\x1b[38;5;252mValidation/Loss: 0.228            \\x1b[0m\\n                                                                                 \\x1b[38;5;252mValidation/Accuracy: 0.906        \\x1b[0m\\n                                                                                 \\x1b[38;5;252mValidation/Precision: 0.914       \\x1b[0m\\n                                                                                 \\x1b[38;5;252mValidation/Recall: 0.906          \\x1b[0m\\n                                                                                 \\x1b[38;5;252mValidation/F1Score: 0.9           \\x1b[0m\\n                                                                                 \\x1b[38;5;252mValidationEpoch/Accuracy: 0.943   \\x1b[0m\\n                                                                                 \\x1b[38;5;252mValidationEpoch/Precision: 0.942  \\x1b[0m\\n                                                                                 \\x1b[38;5;252mValidationEpoch/Recall: 0.943     \\x1b[0m\\n                                                                                 \\x1b[38;5;252mValidationEpoch/F1Score: 0.942    \\x1b[0m\\n                                                                                 \\x1b[38;5;252mTrainEpoch/Accuracy: 0.992        \\x1b[0m\\n                                                                                 \\x1b[38;5;252mTrainEpoch/Precision: 0.992       \\x1b[0m\\n                                                                                 \\x1b[38;5;252mTrainEpoch/Recall: 0.992          \\x1b[0m\\n                                                                                 \\x1b[38;5;252mTrainEpoch/F1Score: 0.992         \\x1b[0m\\n', 'text/html': '<pre style=\"white-space:pre;overflow-x:auto;line-height:normal;font-family:Menlo,\\'DejaVu Sans Mono\\',consolas,\\'Courier New\\',monospace\">Epoch 9/9  <span style=\"color: #00ff00; text-decoration-color: #00ff00\">━━━━━━━━━━━━━━━━━━━━━━━━━━━━━━━━━</span> <span style=\"color: #afff00; text-decoration-color: #afff00\">168/168</span> <span style=\"color: #d0d0d0; text-decoration-color: #d0d0d0\">0:00:08 • 0:00:00</span> <span style=\"color: #d0d0d0; text-decoration-color: #d0d0d0\">31.07it/s</span> <span style=\"color: #d0d0d0; text-decoration-color: #d0d0d0\">v_num: ui10 Train/Loss: 0.012     </span>\\n                                                                                 <span style=\"color: #d0d0d0; text-decoration-color: #d0d0d0\">Train/Accuracy: 1.0               </span>\\n                                                                                 <span style=\"color: #d0d0d0; text-decoration-color: #d0d0d0\">Train/Precision: 1.0 Train/Recall:</span>\\n                                                                                 <span style=\"color: #d0d0d0; text-decoration-color: #d0d0d0\">1.0 Train/F1Score: 1.0            </span>\\n                                                                                 <span style=\"color: #d0d0d0; text-decoration-color: #d0d0d0\">Validation/Loss: 0.228            </span>\\n                                                                                 <span style=\"color: #d0d0d0; text-decoration-color: #d0d0d0\">Validation/Accuracy: 0.906        </span>\\n                                                                                 <span style=\"color: #d0d0d0; text-decoration-color: #d0d0d0\">Validation/Precision: 0.914       </span>\\n                                                                                 <span style=\"color: #d0d0d0; text-decoration-color: #d0d0d0\">Validation/Recall: 0.906          </span>\\n                                                                                 <span style=\"color: #d0d0d0; text-decoration-color: #d0d0d0\">Validation/F1Score: 0.9           </span>\\n                                                                                 <span style=\"color: #d0d0d0; text-decoration-color: #d0d0d0\">ValidationEpoch/Accuracy: 0.943   </span>\\n                                                                                 <span style=\"color: #d0d0d0; text-decoration-color: #d0d0d0\">ValidationEpoch/Precision: 0.942  </span>\\n                                                                                 <span style=\"color: #d0d0d0; text-decoration-color: #d0d0d0\">ValidationEpoch/Recall: 0.943     </span>\\n                                                                                 <span style=\"color: #d0d0d0; text-decoration-color: #d0d0d0\">ValidationEpoch/F1Score: 0.942    </span>\\n                                                                                 <span style=\"color: #d0d0d0; text-decoration-color: #d0d0d0\">TrainEpoch/Accuracy: 0.992        </span>\\n                                                                                 <span style=\"color: #d0d0d0; text-decoration-color: #d0d0d0\">TrainEpoch/Precision: 0.992       </span>\\n                                                                                 <span style=\"color: #d0d0d0; text-decoration-color: #d0d0d0\">TrainEpoch/Recall: 0.992          </span>\\n                                                                                 <span style=\"color: #d0d0d0; text-decoration-color: #d0d0d0\">TrainEpoch/F1Score: 0.992         </span>\\n</pre>\\n'}, 'metadata': {}}]}, 'buffer_paths': []}}, 'buffers': []})\n",
      "--- Logging error ---\n",
      "Traceback (most recent call last):\n",
      "  File \"C:\\Users\\luke-\\AppData\\Local\\Programs\\Python\\Python311\\Lib\\logging\\__init__.py\", line 1113, in emit\n",
      "    stream.write(msg + self.terminator)\n",
      "UnicodeEncodeError: 'gbk' codec can't encode character '\\u2022' in position 748: illegal multibyte sequence\n",
      "Call stack:\n",
      "  File \"<frozen runpy>\", line 198, in _run_module_as_main\n",
      "  File \"<frozen runpy>\", line 88, in _run_code\n",
      "  File \"d:\\git\\FedStellar-topo-manipulation\\venv\\Lib\\site-packages\\ipykernel_launcher.py\", line 17, in <module>\n",
      "    app.launch_new_instance()\n",
      "  File \"d:\\git\\FedStellar-topo-manipulation\\venv\\Lib\\site-packages\\traitlets\\config\\application.py\", line 1046, in launch_instance\n",
      "    app.start()\n",
      "  File \"d:\\git\\FedStellar-topo-manipulation\\venv\\Lib\\site-packages\\ipykernel\\kernelapp.py\", line 736, in start\n",
      "    self.io_loop.start()\n",
      "  File \"d:\\git\\FedStellar-topo-manipulation\\venv\\Lib\\site-packages\\tornado\\platform\\asyncio.py\", line 195, in start\n",
      "    self.asyncio_loop.run_forever()\n",
      "  File \"C:\\Users\\luke-\\AppData\\Local\\Programs\\Python\\Python311\\Lib\\asyncio\\base_events.py\", line 607, in run_forever\n",
      "    self._run_once()\n",
      "  File \"C:\\Users\\luke-\\AppData\\Local\\Programs\\Python\\Python311\\Lib\\asyncio\\base_events.py\", line 1922, in _run_once\n",
      "    handle._run()\n",
      "  File \"C:\\Users\\luke-\\AppData\\Local\\Programs\\Python\\Python311\\Lib\\asyncio\\events.py\", line 80, in _run\n",
      "    self._context.run(self._callback, *self._args)\n",
      "  File \"d:\\git\\FedStellar-topo-manipulation\\venv\\Lib\\site-packages\\ipykernel\\kernelbase.py\", line 516, in dispatch_queue\n",
      "    await self.process_one()\n",
      "  File \"d:\\git\\FedStellar-topo-manipulation\\venv\\Lib\\site-packages\\ipykernel\\kernelbase.py\", line 505, in process_one\n",
      "    await dispatch(*args)\n",
      "  File \"d:\\git\\FedStellar-topo-manipulation\\venv\\Lib\\site-packages\\ipykernel\\kernelbase.py\", line 410, in dispatch_shell\n",
      "    result = handler(self.shell_stream, idents, msg)\n",
      "  File \"d:\\git\\FedStellar-topo-manipulation\\venv\\Lib\\site-packages\\comm\\base_comm.py\", line 261, in comm_msg\n",
      "    comm.handle_msg(msg)\n",
      "  File \"d:\\git\\FedStellar-topo-manipulation\\venv\\Lib\\site-packages\\comm\\base_comm.py\", line 150, in handle_msg\n",
      "    logger.debug(\"handle_msg[%s](%s)\", self.comm_id, msg)\n",
      "Message: 'handle_msg[%s](%s)'\n",
      "Arguments: ('8ee07faba1c546a382fb1370b09cca60', {'header': {'date': datetime.datetime(2023, 9, 28, 13, 59, 31, 113000, tzinfo=tzutc()), 'msg_id': '118ffa44-63f8-418e-8eac-257c82245919', 'msg_type': 'comm_msg', 'session': 'e204dc96-42f2-43b6-ab7a-f0587e1221ba', 'username': '3532d832-869a-498b-a7c0-abb8e9c39b32', 'version': '5.2'}, 'msg_id': '118ffa44-63f8-418e-8eac-257c82245919', 'msg_type': 'comm_msg', 'parent_header': {}, 'metadata': {}, 'content': {'comm_id': '8ee07faba1c546a382fb1370b09cca60', 'data': {'method': 'update', 'state': {'outputs': [{'output_type': 'display_data', 'data': {'text/plain': 'Epoch 9/9  \\x1b[38;5;46m━━━━━━━━━━━━━━━━━━━━━━━━━━━━━━━━━\\x1b[0m \\x1b[38;5;154m168/168\\x1b[0m \\x1b[38;5;252m0:00:08 • 0:00:00\\x1b[0m \\x1b[38;5;252m31.07it/s\\x1b[0m \\x1b[38;5;252mv_num: ui10 Train/Loss: 0.012     \\x1b[0m\\n                                                                                 \\x1b[38;5;252mTrain/Accuracy: 1.0               \\x1b[0m\\n                                                                                 \\x1b[38;5;252mTrain/Precision: 1.0 Train/Recall:\\x1b[0m\\n                                                                                 \\x1b[38;5;252m1.0 Train/F1Score: 1.0            \\x1b[0m\\n                                                                                 \\x1b[38;5;252mValidation/Loss: 0.228            \\x1b[0m\\n                                                                                 \\x1b[38;5;252mValidation/Accuracy: 0.906        \\x1b[0m\\n                                                                                 \\x1b[38;5;252mValidation/Precision: 0.914       \\x1b[0m\\n                                                                                 \\x1b[38;5;252mValidation/Recall: 0.906          \\x1b[0m\\n                                                                                 \\x1b[38;5;252mValidation/F1Score: 0.9           \\x1b[0m\\n                                                                                 \\x1b[38;5;252mValidationEpoch/Accuracy: 0.943   \\x1b[0m\\n                                                                                 \\x1b[38;5;252mValidationEpoch/Precision: 0.942  \\x1b[0m\\n                                                                                 \\x1b[38;5;252mValidationEpoch/Recall: 0.943     \\x1b[0m\\n                                                                                 \\x1b[38;5;252mValidationEpoch/F1Score: 0.942    \\x1b[0m\\n                                                                                 \\x1b[38;5;252mTrainEpoch/Accuracy: 0.992        \\x1b[0m\\n                                                                                 \\x1b[38;5;252mTrainEpoch/Precision: 0.992       \\x1b[0m\\n                                                                                 \\x1b[38;5;252mTrainEpoch/Recall: 0.992          \\x1b[0m\\n                                                                                 \\x1b[38;5;252mTrainEpoch/F1Score: 0.992         \\x1b[0m\\n', 'text/html': '<pre style=\"white-space:pre;overflow-x:auto;line-height:normal;font-family:Menlo,\\'DejaVu Sans Mono\\',consolas,\\'Courier New\\',monospace\">Epoch 9/9  <span style=\"color: #00ff00; text-decoration-color: #00ff00\">━━━━━━━━━━━━━━━━━━━━━━━━━━━━━━━━━</span> <span style=\"color: #afff00; text-decoration-color: #afff00\">168/168</span> <span style=\"color: #d0d0d0; text-decoration-color: #d0d0d0\">0:00:08 • 0:00:00</span> <span style=\"color: #d0d0d0; text-decoration-color: #d0d0d0\">31.07it/s</span> <span style=\"color: #d0d0d0; text-decoration-color: #d0d0d0\">v_num: ui10 Train/Loss: 0.012     </span>\\n                                                                                 <span style=\"color: #d0d0d0; text-decoration-color: #d0d0d0\">Train/Accuracy: 1.0               </span>\\n                                                                                 <span style=\"color: #d0d0d0; text-decoration-color: #d0d0d0\">Train/Precision: 1.0 Train/Recall:</span>\\n                                                                                 <span style=\"color: #d0d0d0; text-decoration-color: #d0d0d0\">1.0 Train/F1Score: 1.0            </span>\\n                                                                                 <span style=\"color: #d0d0d0; text-decoration-color: #d0d0d0\">Validation/Loss: 0.228            </span>\\n                                                                                 <span style=\"color: #d0d0d0; text-decoration-color: #d0d0d0\">Validation/Accuracy: 0.906        </span>\\n                                                                                 <span style=\"color: #d0d0d0; text-decoration-color: #d0d0d0\">Validation/Precision: 0.914       </span>\\n                                                                                 <span style=\"color: #d0d0d0; text-decoration-color: #d0d0d0\">Validation/Recall: 0.906          </span>\\n                                                                                 <span style=\"color: #d0d0d0; text-decoration-color: #d0d0d0\">Validation/F1Score: 0.9           </span>\\n                                                                                 <span style=\"color: #d0d0d0; text-decoration-color: #d0d0d0\">ValidationEpoch/Accuracy: 0.943   </span>\\n                                                                                 <span style=\"color: #d0d0d0; text-decoration-color: #d0d0d0\">ValidationEpoch/Precision: 0.942  </span>\\n                                                                                 <span style=\"color: #d0d0d0; text-decoration-color: #d0d0d0\">ValidationEpoch/Recall: 0.943     </span>\\n                                                                                 <span style=\"color: #d0d0d0; text-decoration-color: #d0d0d0\">ValidationEpoch/F1Score: 0.942    </span>\\n                                                                                 <span style=\"color: #d0d0d0; text-decoration-color: #d0d0d0\">TrainEpoch/Accuracy: 0.992        </span>\\n                                                                                 <span style=\"color: #d0d0d0; text-decoration-color: #d0d0d0\">TrainEpoch/Precision: 0.992       </span>\\n                                                                                 <span style=\"color: #d0d0d0; text-decoration-color: #d0d0d0\">TrainEpoch/Recall: 0.992          </span>\\n                                                                                 <span style=\"color: #d0d0d0; text-decoration-color: #d0d0d0\">TrainEpoch/F1Score: 0.992         </span>\\n</pre>\\n'}, 'metadata': {}}]}, 'buffer_paths': []}}, 'buffers': []})\n",
      "--- Logging error ---\n",
      "Traceback (most recent call last):\n",
      "  File \"C:\\Users\\luke-\\AppData\\Local\\Programs\\Python\\Python311\\Lib\\logging\\__init__.py\", line 1113, in emit\n",
      "    stream.write(msg + self.terminator)\n",
      "UnicodeEncodeError: 'gbk' codec can't encode character '\\u2022' in position 771: illegal multibyte sequence\n",
      "Call stack:\n",
      "  File \"<frozen runpy>\", line 198, in _run_module_as_main\n",
      "  File \"<frozen runpy>\", line 88, in _run_code\n",
      "  File \"d:\\git\\FedStellar-topo-manipulation\\venv\\Lib\\site-packages\\ipykernel_launcher.py\", line 17, in <module>\n",
      "    app.launch_new_instance()\n",
      "  File \"d:\\git\\FedStellar-topo-manipulation\\venv\\Lib\\site-packages\\traitlets\\config\\application.py\", line 1046, in launch_instance\n",
      "    app.start()\n",
      "  File \"d:\\git\\FedStellar-topo-manipulation\\venv\\Lib\\site-packages\\ipykernel\\kernelapp.py\", line 736, in start\n",
      "    self.io_loop.start()\n",
      "  File \"d:\\git\\FedStellar-topo-manipulation\\venv\\Lib\\site-packages\\tornado\\platform\\asyncio.py\", line 195, in start\n",
      "    self.asyncio_loop.run_forever()\n",
      "  File \"C:\\Users\\luke-\\AppData\\Local\\Programs\\Python\\Python311\\Lib\\asyncio\\base_events.py\", line 607, in run_forever\n",
      "    self._run_once()\n",
      "  File \"C:\\Users\\luke-\\AppData\\Local\\Programs\\Python\\Python311\\Lib\\asyncio\\base_events.py\", line 1922, in _run_once\n",
      "    handle._run()\n",
      "  File \"C:\\Users\\luke-\\AppData\\Local\\Programs\\Python\\Python311\\Lib\\asyncio\\events.py\", line 80, in _run\n",
      "    self._context.run(self._callback, *self._args)\n",
      "  File \"d:\\git\\FedStellar-topo-manipulation\\venv\\Lib\\site-packages\\ipykernel\\kernelbase.py\", line 516, in dispatch_queue\n",
      "    await self.process_one()\n",
      "  File \"d:\\git\\FedStellar-topo-manipulation\\venv\\Lib\\site-packages\\ipykernel\\kernelbase.py\", line 505, in process_one\n",
      "    await dispatch(*args)\n",
      "  File \"d:\\git\\FedStellar-topo-manipulation\\venv\\Lib\\site-packages\\ipykernel\\kernelbase.py\", line 410, in dispatch_shell\n",
      "    result = handler(self.shell_stream, idents, msg)\n",
      "  File \"d:\\git\\FedStellar-topo-manipulation\\venv\\Lib\\site-packages\\comm\\base_comm.py\", line 261, in comm_msg\n",
      "    comm.handle_msg(msg)\n",
      "  File \"d:\\git\\FedStellar-topo-manipulation\\venv\\Lib\\site-packages\\comm\\base_comm.py\", line 150, in handle_msg\n",
      "    logger.debug(\"handle_msg[%s](%s)\", self.comm_id, msg)\n",
      "Message: 'handle_msg[%s](%s)'\n",
      "Arguments: ('6566eacbb5d44352ba589fd3ae0e3190', {'header': {'date': datetime.datetime(2023, 9, 28, 13, 59, 31, 117000, tzinfo=tzutc()), 'msg_id': '2418ef87-a11e-4c4b-a2ea-cb4fe96c2672', 'msg_type': 'comm_msg', 'session': 'e204dc96-42f2-43b6-ab7a-f0587e1221ba', 'username': '3532d832-869a-498b-a7c0-abb8e9c39b32', 'version': '5.2'}, 'msg_id': '2418ef87-a11e-4c4b-a2ea-cb4fe96c2672', 'msg_type': 'comm_msg', 'parent_header': {}, 'metadata': {}, 'content': {'comm_id': '6566eacbb5d44352ba589fd3ae0e3190', 'data': {'method': 'update', 'state': {'outputs': [{'output_type': 'display_data', 'data': {'text/plain': '\\x1b[38;5;154mTesting\\x1b[0m \\x1b[38;5;46m━━━━━━━━━━━━━━━━━━━━━━━━━━━━━━━━━━━━━━━━\\x1b[0m \\x1b[38;5;154m31/31\\x1b[0m \\x1b[38;5;252m0:00:00 • 0:00:00\\x1b[0m \\x1b[38;5;252m43.60it/s\\x1b[0m  \\n', 'text/html': '<pre style=\"white-space:pre;overflow-x:auto;line-height:normal;font-family:Menlo,\\'DejaVu Sans Mono\\',consolas,\\'Courier New\\',monospace\"><span style=\"color: #afff00; text-decoration-color: #afff00\">Testing</span> <span style=\"color: #00ff00; text-decoration-color: #00ff00\">━━━━━━━━━━━━━━━━━━━━━━━━━━━━━━━━━━━━━━━━</span> <span style=\"color: #afff00; text-decoration-color: #afff00\">31/31</span> <span style=\"color: #d0d0d0; text-decoration-color: #d0d0d0\">0:00:00 • 0:00:00</span> <span style=\"color: #d0d0d0; text-decoration-color: #d0d0d0\">43.60it/s</span>  \\n</pre>\\n'}, 'metadata': {}}]}, 'buffer_paths': []}}, 'buffers': []})\n",
      "--- Logging error ---\n",
      "Traceback (most recent call last):\n",
      "  File \"C:\\Users\\luke-\\AppData\\Local\\Programs\\Python\\Python311\\Lib\\logging\\__init__.py\", line 1113, in emit\n",
      "    stream.write(msg + self.terminator)\n",
      "UnicodeEncodeError: 'gbk' codec can't encode character '\\u2022' in position 771: illegal multibyte sequence\n",
      "Call stack:\n",
      "  File \"<frozen runpy>\", line 198, in _run_module_as_main\n",
      "  File \"<frozen runpy>\", line 88, in _run_code\n",
      "  File \"d:\\git\\FedStellar-topo-manipulation\\venv\\Lib\\site-packages\\ipykernel_launcher.py\", line 17, in <module>\n",
      "    app.launch_new_instance()\n",
      "  File \"d:\\git\\FedStellar-topo-manipulation\\venv\\Lib\\site-packages\\traitlets\\config\\application.py\", line 1046, in launch_instance\n",
      "    app.start()\n",
      "  File \"d:\\git\\FedStellar-topo-manipulation\\venv\\Lib\\site-packages\\ipykernel\\kernelapp.py\", line 736, in start\n",
      "    self.io_loop.start()\n",
      "  File \"d:\\git\\FedStellar-topo-manipulation\\venv\\Lib\\site-packages\\tornado\\platform\\asyncio.py\", line 195, in start\n",
      "    self.asyncio_loop.run_forever()\n",
      "  File \"C:\\Users\\luke-\\AppData\\Local\\Programs\\Python\\Python311\\Lib\\asyncio\\base_events.py\", line 607, in run_forever\n",
      "    self._run_once()\n",
      "  File \"C:\\Users\\luke-\\AppData\\Local\\Programs\\Python\\Python311\\Lib\\asyncio\\base_events.py\", line 1922, in _run_once\n",
      "    handle._run()\n",
      "  File \"C:\\Users\\luke-\\AppData\\Local\\Programs\\Python\\Python311\\Lib\\asyncio\\events.py\", line 80, in _run\n",
      "    self._context.run(self._callback, *self._args)\n",
      "  File \"d:\\git\\FedStellar-topo-manipulation\\venv\\Lib\\site-packages\\ipykernel\\kernelbase.py\", line 516, in dispatch_queue\n",
      "    await self.process_one()\n",
      "  File \"d:\\git\\FedStellar-topo-manipulation\\venv\\Lib\\site-packages\\ipykernel\\kernelbase.py\", line 505, in process_one\n",
      "    await dispatch(*args)\n",
      "  File \"d:\\git\\FedStellar-topo-manipulation\\venv\\Lib\\site-packages\\ipykernel\\kernelbase.py\", line 410, in dispatch_shell\n",
      "    result = handler(self.shell_stream, idents, msg)\n",
      "  File \"d:\\git\\FedStellar-topo-manipulation\\venv\\Lib\\site-packages\\comm\\base_comm.py\", line 261, in comm_msg\n",
      "    comm.handle_msg(msg)\n",
      "  File \"d:\\git\\FedStellar-topo-manipulation\\venv\\Lib\\site-packages\\comm\\base_comm.py\", line 150, in handle_msg\n",
      "    logger.debug(\"handle_msg[%s](%s)\", self.comm_id, msg)\n",
      "Message: 'handle_msg[%s](%s)'\n",
      "Arguments: ('6566eacbb5d44352ba589fd3ae0e3190', {'header': {'date': datetime.datetime(2023, 9, 28, 13, 59, 31, 117000, tzinfo=tzutc()), 'msg_id': '2418ef87-a11e-4c4b-a2ea-cb4fe96c2672', 'msg_type': 'comm_msg', 'session': 'e204dc96-42f2-43b6-ab7a-f0587e1221ba', 'username': '3532d832-869a-498b-a7c0-abb8e9c39b32', 'version': '5.2'}, 'msg_id': '2418ef87-a11e-4c4b-a2ea-cb4fe96c2672', 'msg_type': 'comm_msg', 'parent_header': {}, 'metadata': {}, 'content': {'comm_id': '6566eacbb5d44352ba589fd3ae0e3190', 'data': {'method': 'update', 'state': {'outputs': [{'output_type': 'display_data', 'data': {'text/plain': '\\x1b[38;5;154mTesting\\x1b[0m \\x1b[38;5;46m━━━━━━━━━━━━━━━━━━━━━━━━━━━━━━━━━━━━━━━━\\x1b[0m \\x1b[38;5;154m31/31\\x1b[0m \\x1b[38;5;252m0:00:00 • 0:00:00\\x1b[0m \\x1b[38;5;252m43.60it/s\\x1b[0m  \\n', 'text/html': '<pre style=\"white-space:pre;overflow-x:auto;line-height:normal;font-family:Menlo,\\'DejaVu Sans Mono\\',consolas,\\'Courier New\\',monospace\"><span style=\"color: #afff00; text-decoration-color: #afff00\">Testing</span> <span style=\"color: #00ff00; text-decoration-color: #00ff00\">━━━━━━━━━━━━━━━━━━━━━━━━━━━━━━━━━━━━━━━━</span> <span style=\"color: #afff00; text-decoration-color: #afff00\">31/31</span> <span style=\"color: #d0d0d0; text-decoration-color: #d0d0d0\">0:00:00 • 0:00:00</span> <span style=\"color: #d0d0d0; text-decoration-color: #d0d0d0\">43.60it/s</span>  \\n</pre>\\n'}, 'metadata': {}}]}, 'buffer_paths': []}}, 'buffers': []})\n",
      "--- Logging error ---\n",
      "Traceback (most recent call last):\n",
      "  File \"C:\\Users\\luke-\\AppData\\Local\\Programs\\Python\\Python311\\Lib\\logging\\__init__.py\", line 1113, in emit\n",
      "    stream.write(msg + self.terminator)\n",
      "UnicodeEncodeError: 'gbk' codec can't encode character '\\u2022' in position 771: illegal multibyte sequence\n",
      "Call stack:\n",
      "  File \"<frozen runpy>\", line 198, in _run_module_as_main\n",
      "  File \"<frozen runpy>\", line 88, in _run_code\n",
      "  File \"d:\\git\\FedStellar-topo-manipulation\\venv\\Lib\\site-packages\\ipykernel_launcher.py\", line 17, in <module>\n",
      "    app.launch_new_instance()\n",
      "  File \"d:\\git\\FedStellar-topo-manipulation\\venv\\Lib\\site-packages\\traitlets\\config\\application.py\", line 1046, in launch_instance\n",
      "    app.start()\n",
      "  File \"d:\\git\\FedStellar-topo-manipulation\\venv\\Lib\\site-packages\\ipykernel\\kernelapp.py\", line 736, in start\n",
      "    self.io_loop.start()\n",
      "  File \"d:\\git\\FedStellar-topo-manipulation\\venv\\Lib\\site-packages\\tornado\\platform\\asyncio.py\", line 195, in start\n",
      "    self.asyncio_loop.run_forever()\n",
      "  File \"C:\\Users\\luke-\\AppData\\Local\\Programs\\Python\\Python311\\Lib\\asyncio\\base_events.py\", line 607, in run_forever\n",
      "    self._run_once()\n",
      "  File \"C:\\Users\\luke-\\AppData\\Local\\Programs\\Python\\Python311\\Lib\\asyncio\\base_events.py\", line 1922, in _run_once\n",
      "    handle._run()\n",
      "  File \"C:\\Users\\luke-\\AppData\\Local\\Programs\\Python\\Python311\\Lib\\asyncio\\events.py\", line 80, in _run\n",
      "    self._context.run(self._callback, *self._args)\n",
      "  File \"d:\\git\\FedStellar-topo-manipulation\\venv\\Lib\\site-packages\\ipykernel\\kernelbase.py\", line 516, in dispatch_queue\n",
      "    await self.process_one()\n",
      "  File \"d:\\git\\FedStellar-topo-manipulation\\venv\\Lib\\site-packages\\ipykernel\\kernelbase.py\", line 505, in process_one\n",
      "    await dispatch(*args)\n",
      "  File \"d:\\git\\FedStellar-topo-manipulation\\venv\\Lib\\site-packages\\ipykernel\\kernelbase.py\", line 410, in dispatch_shell\n",
      "    result = handler(self.shell_stream, idents, msg)\n",
      "  File \"d:\\git\\FedStellar-topo-manipulation\\venv\\Lib\\site-packages\\comm\\base_comm.py\", line 261, in comm_msg\n",
      "    comm.handle_msg(msg)\n",
      "  File \"d:\\git\\FedStellar-topo-manipulation\\venv\\Lib\\site-packages\\comm\\base_comm.py\", line 150, in handle_msg\n",
      "    logger.debug(\"handle_msg[%s](%s)\", self.comm_id, msg)\n",
      "Message: 'handle_msg[%s](%s)'\n",
      "Arguments: ('6566eacbb5d44352ba589fd3ae0e3190', {'header': {'date': datetime.datetime(2023, 9, 28, 13, 59, 31, 117000, tzinfo=tzutc()), 'msg_id': '2418ef87-a11e-4c4b-a2ea-cb4fe96c2672', 'msg_type': 'comm_msg', 'session': 'e204dc96-42f2-43b6-ab7a-f0587e1221ba', 'username': '3532d832-869a-498b-a7c0-abb8e9c39b32', 'version': '5.2'}, 'msg_id': '2418ef87-a11e-4c4b-a2ea-cb4fe96c2672', 'msg_type': 'comm_msg', 'parent_header': {}, 'metadata': {}, 'content': {'comm_id': '6566eacbb5d44352ba589fd3ae0e3190', 'data': {'method': 'update', 'state': {'outputs': [{'output_type': 'display_data', 'data': {'text/plain': '\\x1b[38;5;154mTesting\\x1b[0m \\x1b[38;5;46m━━━━━━━━━━━━━━━━━━━━━━━━━━━━━━━━━━━━━━━━\\x1b[0m \\x1b[38;5;154m31/31\\x1b[0m \\x1b[38;5;252m0:00:00 • 0:00:00\\x1b[0m \\x1b[38;5;252m43.60it/s\\x1b[0m  \\n', 'text/html': '<pre style=\"white-space:pre;overflow-x:auto;line-height:normal;font-family:Menlo,\\'DejaVu Sans Mono\\',consolas,\\'Courier New\\',monospace\"><span style=\"color: #afff00; text-decoration-color: #afff00\">Testing</span> <span style=\"color: #00ff00; text-decoration-color: #00ff00\">━━━━━━━━━━━━━━━━━━━━━━━━━━━━━━━━━━━━━━━━</span> <span style=\"color: #afff00; text-decoration-color: #afff00\">31/31</span> <span style=\"color: #d0d0d0; text-decoration-color: #d0d0d0\">0:00:00 • 0:00:00</span> <span style=\"color: #d0d0d0; text-decoration-color: #d0d0d0\">43.60it/s</span>  \\n</pre>\\n'}, 'metadata': {}}]}, 'buffer_paths': []}}, 'buffers': []})\n"
     ]
    }
   ],
   "source": [
    "label_flipping_mnist_node = Node(\n",
    "        idx=0,\n",
    "        experiment_name=\"Single_Node_Test\",\n",
    "        model=label_flipping_mnist_model,\n",
    "        data=label_flipping_mnist_dataset,\n",
    "        hostdemo=True,\n",
    "        host=host,\n",
    "        port=port,\n",
    "        config=config,\n",
    "        encrypt=False,\n",
    "        model_poisoning=model_poisoning,\n",
    "        poisoned_ratio=poisoned_ratio,\n",
    "        noise_type=noise_type,\n",
    "    )\n",
    "label_flipping_mnist_node.start()\n",
    "time.sleep(5)\n",
    "label_flipping_mnist_node.set_start_learning(rounds=1, epochs=10)\n",
    "while True:\n",
    "        time.sleep(1)\n",
    "        finish = True\n",
    "        for f in [n.round is None for n in [label_flipping_mnist_node]]:\n",
    "            finish = finish and f\n",
    "\n",
    "        if finish:\n",
    "            break\n",
    "\n",
    "for n in [label_flipping_mnist_node]:\n",
    "    n.stop()"
   ]
  },
  {
   "cell_type": "code",
   "execution_count": 23,
   "metadata": {},
   "outputs": [],
   "source": [
    "from fedstellar.learning.aggregators.helper import cosine_similarity"
   ]
  },
  {
   "cell_type": "code",
   "execution_count": 20,
   "metadata": {},
   "outputs": [
    {
     "ename": "AttributeError",
     "evalue": "'DataModule' object has no attribute 'dataset'",
     "output_type": "error",
     "traceback": [
      "\u001b[1;31m---------------------------------------------------------------------------\u001b[0m",
      "\u001b[1;31mAttributeError\u001b[0m                            Traceback (most recent call last)",
      "\u001b[1;32md:\\git\\FedStellar-topo-manipulation\\fedstellar\\test.ipynb Cell 12\u001b[0m line \u001b[0;36m1\n\u001b[1;32m----> <a href='vscode-notebook-cell:/d%3A/git/FedStellar-topo-manipulation/fedstellar/test.ipynb#X26sZmlsZQ%3D%3D?line=0'>1</a>\u001b[0m label_flipping_mnist_dataset\u001b[39m.\u001b[39;49mdataset\u001b[39m.\u001b[39mtargets\n",
      "\u001b[1;31mAttributeError\u001b[0m: 'DataModule' object has no attribute 'dataset'"
     ]
    }
   ],
   "source": [
    "label_flipping_mnist_dataset.dataset.targets"
   ]
  },
  {
   "cell_type": "code",
   "execution_count": 22,
   "metadata": {},
   "outputs": [
    {
     "data": {
      "text/plain": [
       "tensor([5, 0, 4,  ..., 5, 6, 8])"
      ]
     },
     "execution_count": 22,
     "metadata": {},
     "output_type": "execute_result"
    }
   ],
   "source": [
    "label_flipping_mnist_dataset.train_loader.dataset.dataset.dataset.targets"
   ]
  },
  {
   "cell_type": "code",
   "execution_count": 34,
   "metadata": {},
   "outputs": [
    {
     "data": {
      "text/plain": [
       "0.08365502208471298"
      ]
     },
     "execution_count": 34,
     "metadata": {},
     "output_type": "execute_result"
    }
   ],
   "source": [
    "local_params = benign_mnist_node.learner.get_parameters()\n",
    "model_params = label_flipping_mnist_node.learner.get_parameters()\n",
    "cosine_similarity(local_params, model_params)"
   ]
  },
  {
   "cell_type": "code",
   "execution_count": 36,
   "metadata": {},
   "outputs": [
    {
     "data": {
      "application/vnd.jupyter.widget-view+json": {
       "model_id": "d57ecc813ba74d69b74dcef36ba38e2d",
       "version_major": 2,
       "version_minor": 0
      },
      "text/plain": [
       "Output()"
      ]
     },
     "metadata": {},
     "output_type": "display_data"
    },
    {
     "data": {
      "text/html": [
       "<pre style=\"white-space:pre;overflow-x:auto;line-height:normal;font-family:Menlo,'DejaVu Sans Mono',consolas,'Courier New',monospace\">Epoch end: Test, epoch number: 2\n",
       "</pre>\n"
      ],
      "text/plain": [
       "Epoch end: Test, epoch number: 2\n"
      ]
     },
     "metadata": {},
     "output_type": "display_data"
    },
    {
     "data": {
      "text/html": [
       "<pre style=\"white-space:pre;overflow-x:auto;line-height:normal;font-family:Menlo,'DejaVu Sans Mono',consolas,'Courier New',monospace\">┏━━━━━━━━━━━━━━━━━━━━━━━━━━━┳━━━━━━━━━━━━━━━━━━━━━━━━━━━┓\n",
       "┃<span style=\"font-weight: bold\">   Runningstage.testing    </span>┃<span style=\"font-weight: bold\">                           </span>┃\n",
       "┃<span style=\"font-weight: bold\">          metric           </span>┃<span style=\"font-weight: bold\">       DataLoader 0        </span>┃\n",
       "┡━━━━━━━━━━━━━━━━━━━━━━━━━━━╇━━━━━━━━━━━━━━━━━━━━━━━━━━━┩\n",
       "│<span style=\"color: #008080; text-decoration-color: #008080\">       Test/Accuracy       </span>│<span style=\"color: #800080; text-decoration-color: #800080\">    0.9026536345481873     </span>│\n",
       "│<span style=\"color: #008080; text-decoration-color: #008080\">       Test/F1Score        </span>│<span style=\"color: #800080; text-decoration-color: #800080\">    0.8922603726387024     </span>│\n",
       "│<span style=\"color: #008080; text-decoration-color: #008080\">         Test/Loss         </span>│<span style=\"color: #800080; text-decoration-color: #800080\">    0.2664109766483307     </span>│\n",
       "│<span style=\"color: #008080; text-decoration-color: #008080\">      Test/Precision       </span>│<span style=\"color: #800080; text-decoration-color: #800080\">    0.9067742228507996     </span>│\n",
       "│<span style=\"color: #008080; text-decoration-color: #008080\">        Test/Recall        </span>│<span style=\"color: #800080; text-decoration-color: #800080\">    0.9026536345481873     </span>│\n",
       "│<span style=\"color: #008080; text-decoration-color: #008080\">    TestEpoch/Accuracy     </span>│<span style=\"color: #800080; text-decoration-color: #800080\">    0.9199330806732178     </span>│\n",
       "│<span style=\"color: #008080; text-decoration-color: #008080\">     TestEpoch/F1Score     </span>│<span style=\"color: #800080; text-decoration-color: #800080\">    0.9202542304992676     </span>│\n",
       "│<span style=\"color: #008080; text-decoration-color: #008080\">    TestEpoch/Precision    </span>│<span style=\"color: #800080; text-decoration-color: #800080\">    0.9221217632293701     </span>│\n",
       "│<span style=\"color: #008080; text-decoration-color: #008080\">     TestEpoch/Recall      </span>│<span style=\"color: #800080; text-decoration-color: #800080\">    0.9199330806732178     </span>│\n",
       "└───────────────────────────┴───────────────────────────┘\n",
       "</pre>\n"
      ],
      "text/plain": [
       "┏━━━━━━━━━━━━━━━━━━━━━━━━━━━┳━━━━━━━━━━━━━━━━━━━━━━━━━━━┓\n",
       "┃\u001b[1m \u001b[0m\u001b[1m  Runningstage.testing   \u001b[0m\u001b[1m \u001b[0m┃\u001b[1m                           \u001b[0m┃\n",
       "┃\u001b[1m \u001b[0m\u001b[1m         metric          \u001b[0m\u001b[1m \u001b[0m┃\u001b[1m \u001b[0m\u001b[1m      DataLoader 0       \u001b[0m\u001b[1m \u001b[0m┃\n",
       "┡━━━━━━━━━━━━━━━━━━━━━━━━━━━╇━━━━━━━━━━━━━━━━━━━━━━━━━━━┩\n",
       "│\u001b[36m \u001b[0m\u001b[36m      Test/Accuracy      \u001b[0m\u001b[36m \u001b[0m│\u001b[35m \u001b[0m\u001b[35m   0.9026536345481873    \u001b[0m\u001b[35m \u001b[0m│\n",
       "│\u001b[36m \u001b[0m\u001b[36m      Test/F1Score       \u001b[0m\u001b[36m \u001b[0m│\u001b[35m \u001b[0m\u001b[35m   0.8922603726387024    \u001b[0m\u001b[35m \u001b[0m│\n",
       "│\u001b[36m \u001b[0m\u001b[36m        Test/Loss        \u001b[0m\u001b[36m \u001b[0m│\u001b[35m \u001b[0m\u001b[35m   0.2664109766483307    \u001b[0m\u001b[35m \u001b[0m│\n",
       "│\u001b[36m \u001b[0m\u001b[36m     Test/Precision      \u001b[0m\u001b[36m \u001b[0m│\u001b[35m \u001b[0m\u001b[35m   0.9067742228507996    \u001b[0m\u001b[35m \u001b[0m│\n",
       "│\u001b[36m \u001b[0m\u001b[36m       Test/Recall       \u001b[0m\u001b[36m \u001b[0m│\u001b[35m \u001b[0m\u001b[35m   0.9026536345481873    \u001b[0m\u001b[35m \u001b[0m│\n",
       "│\u001b[36m \u001b[0m\u001b[36m   TestEpoch/Accuracy    \u001b[0m\u001b[36m \u001b[0m│\u001b[35m \u001b[0m\u001b[35m   0.9199330806732178    \u001b[0m\u001b[35m \u001b[0m│\n",
       "│\u001b[36m \u001b[0m\u001b[36m    TestEpoch/F1Score    \u001b[0m\u001b[36m \u001b[0m│\u001b[35m \u001b[0m\u001b[35m   0.9202542304992676    \u001b[0m\u001b[35m \u001b[0m│\n",
       "│\u001b[36m \u001b[0m\u001b[36m   TestEpoch/Precision   \u001b[0m\u001b[36m \u001b[0m│\u001b[35m \u001b[0m\u001b[35m   0.9221217632293701    \u001b[0m\u001b[35m \u001b[0m│\n",
       "│\u001b[36m \u001b[0m\u001b[36m    TestEpoch/Recall     \u001b[0m\u001b[36m \u001b[0m│\u001b[35m \u001b[0m\u001b[35m   0.9199330806732178    \u001b[0m\u001b[35m \u001b[0m│\n",
       "└───────────────────────────┴───────────────────────────┘\n"
      ]
     },
     "metadata": {},
     "output_type": "display_data"
    },
    {
     "data": {
      "text/html": [
       "<pre style=\"white-space:pre;overflow-x:auto;line-height:normal;font-family:Menlo,'DejaVu Sans Mono',consolas,'Courier New',monospace\"></pre>\n"
      ],
      "text/plain": []
     },
     "metadata": {},
     "output_type": "display_data"
    },
    {
     "data": {
      "text/html": [
       "<pre style=\"white-space:pre;overflow-x:auto;line-height:normal;font-family:Menlo,'DejaVu Sans Mono',consolas,'Courier New',monospace\">\n",
       "</pre>\n"
      ],
      "text/plain": [
       "\n"
      ]
     },
     "metadata": {},
     "output_type": "display_data"
    },
    {
     "name": "stderr",
     "output_type": "stream",
     "text": [
      "--- Logging error ---\n",
      "Traceback (most recent call last):\n",
      "  File \"C:\\Users\\luke-\\AppData\\Local\\Programs\\Python\\Python311\\Lib\\logging\\__init__.py\", line 1113, in emit\n",
      "    stream.write(msg + self.terminator)\n",
      "UnicodeEncodeError: 'gbk' codec can't encode character '\\u2022' in position 771: illegal multibyte sequence\n",
      "Call stack:\n",
      "  File \"<frozen runpy>\", line 198, in _run_module_as_main\n",
      "  File \"<frozen runpy>\", line 88, in _run_code\n",
      "  File \"d:\\git\\FedStellar-topo-manipulation\\venv\\Lib\\site-packages\\ipykernel_launcher.py\", line 17, in <module>\n",
      "    app.launch_new_instance()\n",
      "  File \"d:\\git\\FedStellar-topo-manipulation\\venv\\Lib\\site-packages\\traitlets\\config\\application.py\", line 1046, in launch_instance\n",
      "    app.start()\n",
      "  File \"d:\\git\\FedStellar-topo-manipulation\\venv\\Lib\\site-packages\\ipykernel\\kernelapp.py\", line 736, in start\n",
      "    self.io_loop.start()\n",
      "  File \"d:\\git\\FedStellar-topo-manipulation\\venv\\Lib\\site-packages\\tornado\\platform\\asyncio.py\", line 195, in start\n",
      "    self.asyncio_loop.run_forever()\n",
      "  File \"C:\\Users\\luke-\\AppData\\Local\\Programs\\Python\\Python311\\Lib\\asyncio\\base_events.py\", line 607, in run_forever\n",
      "    self._run_once()\n",
      "  File \"C:\\Users\\luke-\\AppData\\Local\\Programs\\Python\\Python311\\Lib\\asyncio\\base_events.py\", line 1922, in _run_once\n",
      "    handle._run()\n",
      "  File \"C:\\Users\\luke-\\AppData\\Local\\Programs\\Python\\Python311\\Lib\\asyncio\\events.py\", line 80, in _run\n",
      "    self._context.run(self._callback, *self._args)\n",
      "  File \"d:\\git\\FedStellar-topo-manipulation\\venv\\Lib\\site-packages\\ipykernel\\kernelbase.py\", line 516, in dispatch_queue\n",
      "    await self.process_one()\n",
      "  File \"d:\\git\\FedStellar-topo-manipulation\\venv\\Lib\\site-packages\\ipykernel\\kernelbase.py\", line 505, in process_one\n",
      "    await dispatch(*args)\n",
      "  File \"d:\\git\\FedStellar-topo-manipulation\\venv\\Lib\\site-packages\\ipykernel\\kernelbase.py\", line 410, in dispatch_shell\n",
      "    result = handler(self.shell_stream, idents, msg)\n",
      "  File \"d:\\git\\FedStellar-topo-manipulation\\venv\\Lib\\site-packages\\comm\\base_comm.py\", line 261, in comm_msg\n",
      "    comm.handle_msg(msg)\n",
      "  File \"d:\\git\\FedStellar-topo-manipulation\\venv\\Lib\\site-packages\\comm\\base_comm.py\", line 150, in handle_msg\n",
      "    logger.debug(\"handle_msg[%s](%s)\", self.comm_id, msg)\n",
      "Message: 'handle_msg[%s](%s)'\n",
      "Arguments: ('d57ecc813ba74d69b74dcef36ba38e2d', {'header': {'date': datetime.datetime(2023, 9, 28, 13, 48, 37, 899000, tzinfo=tzutc()), 'msg_id': '980e383c-1328-4c95-9908-dc35a2e353fc', 'msg_type': 'comm_msg', 'session': 'e204dc96-42f2-43b6-ab7a-f0587e1221ba', 'username': '3532d832-869a-498b-a7c0-abb8e9c39b32', 'version': '5.2'}, 'msg_id': '980e383c-1328-4c95-9908-dc35a2e353fc', 'msg_type': 'comm_msg', 'parent_header': {}, 'metadata': {}, 'content': {'comm_id': 'd57ecc813ba74d69b74dcef36ba38e2d', 'data': {'method': 'update', 'state': {'outputs': [{'output_type': 'display_data', 'data': {'text/plain': '\\x1b[38;5;154mTesting\\x1b[0m \\x1b[38;5;46m━━━━━━━━━━━━━━━━━━━━━━━━━━━━━━━━━━━━━━━━\\x1b[0m \\x1b[38;5;154m31/31\\x1b[0m \\x1b[38;5;252m0:00:00 • 0:00:00\\x1b[0m \\x1b[38;5;252m39.16it/s\\x1b[0m  \\n', 'text/html': '<pre style=\"white-space:pre;overflow-x:auto;line-height:normal;font-family:Menlo,\\'DejaVu Sans Mono\\',consolas,\\'Courier New\\',monospace\"><span style=\"color: #afff00; text-decoration-color: #afff00\">Testing</span> <span style=\"color: #00ff00; text-decoration-color: #00ff00\">━━━━━━━━━━━━━━━━━━━━━━━━━━━━━━━━━━━━━━━━</span> <span style=\"color: #afff00; text-decoration-color: #afff00\">31/31</span> <span style=\"color: #d0d0d0; text-decoration-color: #d0d0d0\">0:00:00 • 0:00:00</span> <span style=\"color: #d0d0d0; text-decoration-color: #d0d0d0\">39.16it/s</span>  \\n</pre>\\n'}, 'metadata': {}}]}, 'buffer_paths': []}}, 'buffers': []})\n",
      "--- Logging error ---\n",
      "Traceback (most recent call last):\n",
      "  File \"C:\\Users\\luke-\\AppData\\Local\\Programs\\Python\\Python311\\Lib\\logging\\__init__.py\", line 1113, in emit\n",
      "    stream.write(msg + self.terminator)\n",
      "UnicodeEncodeError: 'gbk' codec can't encode character '\\u2022' in position 771: illegal multibyte sequence\n",
      "Call stack:\n",
      "  File \"<frozen runpy>\", line 198, in _run_module_as_main\n",
      "  File \"<frozen runpy>\", line 88, in _run_code\n",
      "  File \"d:\\git\\FedStellar-topo-manipulation\\venv\\Lib\\site-packages\\ipykernel_launcher.py\", line 17, in <module>\n",
      "    app.launch_new_instance()\n",
      "  File \"d:\\git\\FedStellar-topo-manipulation\\venv\\Lib\\site-packages\\traitlets\\config\\application.py\", line 1046, in launch_instance\n",
      "    app.start()\n",
      "  File \"d:\\git\\FedStellar-topo-manipulation\\venv\\Lib\\site-packages\\ipykernel\\kernelapp.py\", line 736, in start\n",
      "    self.io_loop.start()\n",
      "  File \"d:\\git\\FedStellar-topo-manipulation\\venv\\Lib\\site-packages\\tornado\\platform\\asyncio.py\", line 195, in start\n",
      "    self.asyncio_loop.run_forever()\n",
      "  File \"C:\\Users\\luke-\\AppData\\Local\\Programs\\Python\\Python311\\Lib\\asyncio\\base_events.py\", line 607, in run_forever\n",
      "    self._run_once()\n",
      "  File \"C:\\Users\\luke-\\AppData\\Local\\Programs\\Python\\Python311\\Lib\\asyncio\\base_events.py\", line 1922, in _run_once\n",
      "    handle._run()\n",
      "  File \"C:\\Users\\luke-\\AppData\\Local\\Programs\\Python\\Python311\\Lib\\asyncio\\events.py\", line 80, in _run\n",
      "    self._context.run(self._callback, *self._args)\n",
      "  File \"d:\\git\\FedStellar-topo-manipulation\\venv\\Lib\\site-packages\\ipykernel\\kernelbase.py\", line 516, in dispatch_queue\n",
      "    await self.process_one()\n",
      "  File \"d:\\git\\FedStellar-topo-manipulation\\venv\\Lib\\site-packages\\ipykernel\\kernelbase.py\", line 505, in process_one\n",
      "    await dispatch(*args)\n",
      "  File \"d:\\git\\FedStellar-topo-manipulation\\venv\\Lib\\site-packages\\ipykernel\\kernelbase.py\", line 410, in dispatch_shell\n",
      "    result = handler(self.shell_stream, idents, msg)\n",
      "  File \"d:\\git\\FedStellar-topo-manipulation\\venv\\Lib\\site-packages\\comm\\base_comm.py\", line 261, in comm_msg\n",
      "    comm.handle_msg(msg)\n",
      "  File \"d:\\git\\FedStellar-topo-manipulation\\venv\\Lib\\site-packages\\comm\\base_comm.py\", line 150, in handle_msg\n",
      "    logger.debug(\"handle_msg[%s](%s)\", self.comm_id, msg)\n",
      "Message: 'handle_msg[%s](%s)'\n",
      "Arguments: ('d57ecc813ba74d69b74dcef36ba38e2d', {'header': {'date': datetime.datetime(2023, 9, 28, 13, 48, 37, 899000, tzinfo=tzutc()), 'msg_id': '980e383c-1328-4c95-9908-dc35a2e353fc', 'msg_type': 'comm_msg', 'session': 'e204dc96-42f2-43b6-ab7a-f0587e1221ba', 'username': '3532d832-869a-498b-a7c0-abb8e9c39b32', 'version': '5.2'}, 'msg_id': '980e383c-1328-4c95-9908-dc35a2e353fc', 'msg_type': 'comm_msg', 'parent_header': {}, 'metadata': {}, 'content': {'comm_id': 'd57ecc813ba74d69b74dcef36ba38e2d', 'data': {'method': 'update', 'state': {'outputs': [{'output_type': 'display_data', 'data': {'text/plain': '\\x1b[38;5;154mTesting\\x1b[0m \\x1b[38;5;46m━━━━━━━━━━━━━━━━━━━━━━━━━━━━━━━━━━━━━━━━\\x1b[0m \\x1b[38;5;154m31/31\\x1b[0m \\x1b[38;5;252m0:00:00 • 0:00:00\\x1b[0m \\x1b[38;5;252m39.16it/s\\x1b[0m  \\n', 'text/html': '<pre style=\"white-space:pre;overflow-x:auto;line-height:normal;font-family:Menlo,\\'DejaVu Sans Mono\\',consolas,\\'Courier New\\',monospace\"><span style=\"color: #afff00; text-decoration-color: #afff00\">Testing</span> <span style=\"color: #00ff00; text-decoration-color: #00ff00\">━━━━━━━━━━━━━━━━━━━━━━━━━━━━━━━━━━━━━━━━</span> <span style=\"color: #afff00; text-decoration-color: #afff00\">31/31</span> <span style=\"color: #d0d0d0; text-decoration-color: #d0d0d0\">0:00:00 • 0:00:00</span> <span style=\"color: #d0d0d0; text-decoration-color: #d0d0d0\">39.16it/s</span>  \\n</pre>\\n'}, 'metadata': {}}]}, 'buffer_paths': []}}, 'buffers': []})\n",
      "--- Logging error ---\n",
      "Traceback (most recent call last):\n",
      "  File \"C:\\Users\\luke-\\AppData\\Local\\Programs\\Python\\Python311\\Lib\\logging\\__init__.py\", line 1113, in emit\n",
      "    stream.write(msg + self.terminator)\n",
      "UnicodeEncodeError: 'gbk' codec can't encode character '\\u2022' in position 771: illegal multibyte sequence\n",
      "Call stack:\n",
      "  File \"<frozen runpy>\", line 198, in _run_module_as_main\n",
      "  File \"<frozen runpy>\", line 88, in _run_code\n",
      "  File \"d:\\git\\FedStellar-topo-manipulation\\venv\\Lib\\site-packages\\ipykernel_launcher.py\", line 17, in <module>\n",
      "    app.launch_new_instance()\n",
      "  File \"d:\\git\\FedStellar-topo-manipulation\\venv\\Lib\\site-packages\\traitlets\\config\\application.py\", line 1046, in launch_instance\n",
      "    app.start()\n",
      "  File \"d:\\git\\FedStellar-topo-manipulation\\venv\\Lib\\site-packages\\ipykernel\\kernelapp.py\", line 736, in start\n",
      "    self.io_loop.start()\n",
      "  File \"d:\\git\\FedStellar-topo-manipulation\\venv\\Lib\\site-packages\\tornado\\platform\\asyncio.py\", line 195, in start\n",
      "    self.asyncio_loop.run_forever()\n",
      "  File \"C:\\Users\\luke-\\AppData\\Local\\Programs\\Python\\Python311\\Lib\\asyncio\\base_events.py\", line 607, in run_forever\n",
      "    self._run_once()\n",
      "  File \"C:\\Users\\luke-\\AppData\\Local\\Programs\\Python\\Python311\\Lib\\asyncio\\base_events.py\", line 1922, in _run_once\n",
      "    handle._run()\n",
      "  File \"C:\\Users\\luke-\\AppData\\Local\\Programs\\Python\\Python311\\Lib\\asyncio\\events.py\", line 80, in _run\n",
      "    self._context.run(self._callback, *self._args)\n",
      "  File \"d:\\git\\FedStellar-topo-manipulation\\venv\\Lib\\site-packages\\ipykernel\\kernelbase.py\", line 516, in dispatch_queue\n",
      "    await self.process_one()\n",
      "  File \"d:\\git\\FedStellar-topo-manipulation\\venv\\Lib\\site-packages\\ipykernel\\kernelbase.py\", line 505, in process_one\n",
      "    await dispatch(*args)\n",
      "  File \"d:\\git\\FedStellar-topo-manipulation\\venv\\Lib\\site-packages\\ipykernel\\kernelbase.py\", line 410, in dispatch_shell\n",
      "    result = handler(self.shell_stream, idents, msg)\n",
      "  File \"d:\\git\\FedStellar-topo-manipulation\\venv\\Lib\\site-packages\\comm\\base_comm.py\", line 261, in comm_msg\n",
      "    comm.handle_msg(msg)\n",
      "  File \"d:\\git\\FedStellar-topo-manipulation\\venv\\Lib\\site-packages\\comm\\base_comm.py\", line 150, in handle_msg\n",
      "    logger.debug(\"handle_msg[%s](%s)\", self.comm_id, msg)\n",
      "Message: 'handle_msg[%s](%s)'\n",
      "Arguments: ('d57ecc813ba74d69b74dcef36ba38e2d', {'header': {'date': datetime.datetime(2023, 9, 28, 13, 48, 37, 899000, tzinfo=tzutc()), 'msg_id': '980e383c-1328-4c95-9908-dc35a2e353fc', 'msg_type': 'comm_msg', 'session': 'e204dc96-42f2-43b6-ab7a-f0587e1221ba', 'username': '3532d832-869a-498b-a7c0-abb8e9c39b32', 'version': '5.2'}, 'msg_id': '980e383c-1328-4c95-9908-dc35a2e353fc', 'msg_type': 'comm_msg', 'parent_header': {}, 'metadata': {}, 'content': {'comm_id': 'd57ecc813ba74d69b74dcef36ba38e2d', 'data': {'method': 'update', 'state': {'outputs': [{'output_type': 'display_data', 'data': {'text/plain': '\\x1b[38;5;154mTesting\\x1b[0m \\x1b[38;5;46m━━━━━━━━━━━━━━━━━━━━━━━━━━━━━━━━━━━━━━━━\\x1b[0m \\x1b[38;5;154m31/31\\x1b[0m \\x1b[38;5;252m0:00:00 • 0:00:00\\x1b[0m \\x1b[38;5;252m39.16it/s\\x1b[0m  \\n', 'text/html': '<pre style=\"white-space:pre;overflow-x:auto;line-height:normal;font-family:Menlo,\\'DejaVu Sans Mono\\',consolas,\\'Courier New\\',monospace\"><span style=\"color: #afff00; text-decoration-color: #afff00\">Testing</span> <span style=\"color: #00ff00; text-decoration-color: #00ff00\">━━━━━━━━━━━━━━━━━━━━━━━━━━━━━━━━━━━━━━━━</span> <span style=\"color: #afff00; text-decoration-color: #afff00\">31/31</span> <span style=\"color: #d0d0d0; text-decoration-color: #d0d0d0\">0:00:00 • 0:00:00</span> <span style=\"color: #d0d0d0; text-decoration-color: #d0d0d0\">39.16it/s</span>  \\n</pre>\\n'}, 'metadata': {}}]}, 'buffer_paths': []}}, 'buffers': []})\n"
     ]
    }
   ],
   "source": [
    "benign_mnist_node.learner.evaluate()"
   ]
  },
  {
   "cell_type": "code",
   "execution_count": 3,
   "metadata": {},
   "outputs": [],
   "source": [
    "from fedstellar.learning.pytorch.remotelogger import FedstellarWBLogger"
   ]
  },
  {
   "cell_type": "code",
   "execution_count": 6,
   "metadata": {},
   "outputs": [],
   "source": [
    "import json"
   ]
  },
  {
   "cell_type": "code",
   "execution_count": 12,
   "metadata": {},
   "outputs": [
    {
     "data": {
      "text/plain": [
       "'d:\\\\git\\\\FedStellar-topo-manipulation\\\\fedstellar'"
      ]
     },
     "execution_count": 12,
     "metadata": {},
     "output_type": "execute_result"
    }
   ],
   "source": [
    "os.getcwd()"
   ]
  },
  {
   "cell_type": "code",
   "execution_count": 14,
   "metadata": {},
   "outputs": [],
   "source": [
    "with open(\"app/config/CIFAR10_1_MLP_10_DFL_FedAvg_fully_NoAttack_0_N0-S0_R0_salt_20231002_171158/participant_0.json\") as f:\n",
    "    c = json.load(f)"
   ]
  },
  {
   "cell_type": "code",
   "execution_count": 18,
   "metadata": {},
   "outputs": [
    {
     "data": {
      "text/plain": [
       "{'scenario_args': {'name': 'CIFAR10_1_MLP_10_DFL_FedAvg_fully_NoAttack_0_N0-S0_R0_salt_20231002_085930',\n",
       "  'start_time': '02/10/2023 08:59:33',\n",
       "  'federation': 'DFL',\n",
       "  'rounds': 10,\n",
       "  'simulation': True,\n",
       "  'controller': 'host.docker.internal:5000',\n",
       "  'random_seed': 0,\n",
       "  'n_nodes': 10,\n",
       "  'config_version': 'development',\n",
       "  'debug': True},\n",
       " 'device_args': {'uid': 'eb06996869a83aa5935e7b22433744ddafc30f6a',\n",
       "  'idx': 0,\n",
       "  'username': 'pi',\n",
       "  'password': 'pi',\n",
       "  'role': 'aggregator',\n",
       "  'start': True,\n",
       "  'accelerator': 'gpu',\n",
       "  'devices': 1,\n",
       "  'strategy': 'ddp',\n",
       "  'logging': True},\n",
       " 'geo_args': {'latitude': 41.99166377763001, 'longitude': -6.102612152038019},\n",
       " 'network_args': {'ip': '192.168.50.2',\n",
       "  'ipdemo': '192.168.50.2',\n",
       "  'port': 46510,\n",
       "  'neighbors': '192.168.50.3:46511 192.168.50.4:46512 192.168.50.5:46513 192.168.50.6:46514 192.168.50.7:46515 192.168.50.8:46516 192.168.50.9:46517 192.168.50.10:46518 192.168.50.11:46519',\n",
       "  'interface': 'eth0',\n",
       "  'rate': '1Mbps',\n",
       "  'loss': '0.1%',\n",
       "  'delay': '100ms',\n",
       "  'delay-distro': 0},\n",
       " 'data_args': {'dataset': 'CIFAR10', 'is_iid': True},\n",
       " 'model_args': {'model': 'MLP'},\n",
       " 'training_args': {'epochs': 3},\n",
       " 'aggregator_args': {'algorithm': 'FedAvg',\n",
       "  'sentinel_distance_threshold': 0.1,\n",
       "  'sentinelglobal_active_round': 3},\n",
       " 'adversarial_args': {'attacks': 'No Attack',\n",
       "  'targeted': False,\n",
       "  'poisoned_sample_percent': 0,\n",
       "  'poisoned_ratio': 0,\n",
       "  'target_label': 3,\n",
       "  'noise_type': 'salt',\n",
       "  'target_changed_label': 7,\n",
       "  'attack_env': {'attack': 'No Attack',\n",
       "   'poisoned_node_percent': 0,\n",
       "   'poisoned_sample_percent': 0,\n",
       "   'poisoned_ratio': 0,\n",
       "   'noise_type': 'salt',\n",
       "   'targeted': False},\n",
       "  'poisoned_node_percent': 0,\n",
       "  'is_iid': True},\n",
       " 'tracking_args': {'enable_remote_tracking': True,\n",
       "  'local_tracking': 'web',\n",
       "  'log_dir': '/fedstellar/app/logs',\n",
       "  'config_dir': '/fedstellar/app/config/CIFAR10_1_MLP_10_DFL_FedAvg_fully_NoAttack_0_N0-S0_R0_salt_20231002_085930',\n",
       "  'model_dir': '/fedstellar/app/models/CIFAR10_1_MLP_10_DFL_FedAvg_fully_NoAttack_0_N0-S0_R0_salt_20231002_085930',\n",
       "  'wandb_key': ['your own key'],\n",
       "  'wandb_entity': 'your own entity',\n",
       "  'wandb_project': 'fedstellar'},\n",
       " 'mender_args': {'id': '', 'mac': '', 'device_type': ''},\n",
       " 'BLOCK_SIZE': 2048,\n",
       " 'NODE_TIMEOUT': 200,\n",
       " 'VOTE_TIMEOUT': 60,\n",
       " 'AGGREGATION_TIMEOUT': 120,\n",
       " 'HEARTBEAT_PERIOD': 4,\n",
       " 'HEARTBEATER_REFRESH_NEIGHBORS_BY_PERIOD': 4,\n",
       " 'WAIT_HEARTBEATS_CONVERGENCE': 10,\n",
       " 'TRAIN_SET_SIZE': 10,\n",
       " 'TRAIN_SET_CONNECT_TIMEOUT': 5,\n",
       " 'AMOUNT_LAST_MESSAGES_SAVED': 100,\n",
       " 'GOSSIP_MESSAGES_FREC': 0.1,\n",
       " 'GOSSIP_MESSAGES_PER_ROUND': 10,\n",
       " 'GOSSIP_EXIT_ON_X_EQUAL_ROUNDS': 2,\n",
       " 'GOSSIP_MODELS_FREC': 3,\n",
       " 'GOSSIP_MODELS_PER_ROUND': 5,\n",
       " 'ROUND_PROCEED_TIMEOUT': 20}"
      ]
     },
     "execution_count": 18,
     "metadata": {},
     "output_type": "execute_result"
    }
   ],
   "source": [
    "c"
   ]
  },
  {
   "cell_type": "code",
   "execution_count": 15,
   "metadata": {},
   "outputs": [],
   "source": [
    "project=\"fedstellar\"\n",
    "group = \"test\"\n",
    "name =\"p1\"\n",
    "config=c"
   ]
  },
  {
   "cell_type": "code",
   "execution_count": 16,
   "metadata": {},
   "outputs": [
    {
     "name": "stderr",
     "output_type": "stream",
     "text": [
      "Failed to detect the name of this notebook, you can set it manually with the WANDB_NOTEBOOK_NAME environment variable to enable code saving.\n",
      "\u001b[34m\u001b[1mwandb\u001b[0m: Currently logged in as: \u001b[33mjifegi\u001b[0m. Use \u001b[1m`wandb login --relogin`\u001b[0m to force relogin\n"
     ]
    },
    {
     "data": {
      "text/html": [
       "wandb version 0.15.11 is available!  To upgrade, please run:\n",
       " $ pip install wandb --upgrade"
      ],
      "text/plain": [
       "<IPython.core.display.HTML object>"
      ]
     },
     "metadata": {},
     "output_type": "display_data"
    },
    {
     "data": {
      "text/html": [
       "Tracking run with wandb version 0.13.9"
      ],
      "text/plain": [
       "<IPython.core.display.HTML object>"
      ]
     },
     "metadata": {},
     "output_type": "display_data"
    },
    {
     "data": {
      "text/html": [
       "Run data is saved locally in <code>.\\wandb\\run-20231003_133409-hevujc1c</code>"
      ],
      "text/plain": [
       "<IPython.core.display.HTML object>"
      ]
     },
     "metadata": {},
     "output_type": "display_data"
    },
    {
     "data": {
      "text/html": [
       "Syncing run <strong><a href=\"https://wandb.ai/jifegi/fedstellar/runs/hevujc1c\" target=\"_blank\">p1</a></strong> to <a href=\"https://wandb.ai/jifegi/fedstellar\" target=\"_blank\">Weights & Biases</a> (<a href=\"https://wandb.me/run\" target=\"_blank\">docs</a>)<br/>"
      ],
      "text/plain": [
       "<IPython.core.display.HTML object>"
      ]
     },
     "metadata": {},
     "output_type": "display_data"
    },
    {
     "data": {
      "text/html": [
       " View project at <a href=\"https://wandb.ai/jifegi/fedstellar\" target=\"_blank\">https://wandb.ai/jifegi/fedstellar</a>"
      ],
      "text/plain": [
       "<IPython.core.display.HTML object>"
      ]
     },
     "metadata": {},
     "output_type": "display_data"
    },
    {
     "data": {
      "text/html": [
       " View run at <a href=\"https://wandb.ai/jifegi/fedstellar/runs/hevujc1c\" target=\"_blank\">https://wandb.ai/jifegi/fedstellar/runs/hevujc1c</a>"
      ],
      "text/plain": [
       "<IPython.core.display.HTML object>"
      ]
     },
     "metadata": {},
     "output_type": "display_data"
    }
   ],
   "source": [
    "wandblogger = FedstellarWBLogger(project=project,\n",
    "                                                 group=group,\n",
    "                                                 name=name,\n",
    "                                                 config=config)"
   ]
  },
  {
   "cell_type": "code",
   "execution_count": 20,
   "metadata": {},
   "outputs": [
    {
     "data": {
      "text/plain": [
       "{'name': 'p1',\n",
       " 'project': 'fedstellar',\n",
       " 'dir': '.',\n",
       " 'id': None,\n",
       " 'resume': 'allow',\n",
       " 'anonymous': None,\n",
       " 'config': {'data_args': {'dataset': 'CIFAR10', 'is_iid': True},\n",
       "  'model_args': {'model': 'MLP'},\n",
       "  'aggregator_args': {'algorithm': 'FedAvg',\n",
       "   'sentinel_distance_threshold': 0.1,\n",
       "   'sentinelglobal_active_round': 3},\n",
       "  'adversarial_args': {'attacks': 'No Attack',\n",
       "   'targeted': False,\n",
       "   'poisoned_sample_percent': 0,\n",
       "   'poisoned_ratio': 0,\n",
       "   'target_label': 3,\n",
       "   'noise_type': 'salt',\n",
       "   'target_changed_label': 7,\n",
       "   'attack_env': {'attack': 'No Attack',\n",
       "    'poisoned_node_percent': 0,\n",
       "    'poisoned_sample_percent': 0,\n",
       "    'poisoned_ratio': 0,\n",
       "    'noise_type': 'salt',\n",
       "    'targeted': False},\n",
       "   'poisoned_node_percent': 0,\n",
       "   'is_iid': True},\n",
       "  'attack_env': {'attack': 'No Attack',\n",
       "   'poisoned_node_percent': 0,\n",
       "   'poisoned_sample_percent': 0,\n",
       "   'poisoned_ratio': 0,\n",
       "   'noise_type': 'salt',\n",
       "   'targeted': False},\n",
       "  'network_args': '192.168.50.2:46510'},\n",
       " 'group': 'test'}"
      ]
     },
     "execution_count": 20,
     "metadata": {},
     "output_type": "execute_result"
    },
    {
     "ename": "",
     "evalue": "",
     "output_type": "error",
     "traceback": [
      "\u001b[1;31mThe Kernel crashed while executing code in the the current cell or a previous cell. Please review the code in the cell(s) to identify a possible cause of the failure. Click <a href='https://aka.ms/vscodeJupyterKernelCrash'>here</a> for more info. View Jupyter <a href='command:jupyter.viewOutput'>log</a> for further details."
     ]
    }
   ],
   "source": [
    "wandblogger._wandb_init"
   ]
  },
  {
   "cell_type": "code",
   "execution_count": 27,
   "metadata": {},
   "outputs": [
    {
     "data": {
      "text/plain": [
       "0.005373477353374435"
      ]
     },
     "execution_count": 27,
     "metadata": {},
     "output_type": "execute_result"
    },
    {
     "ename": "",
     "evalue": "",
     "output_type": "error",
     "traceback": [
      "\u001b[1;31mThe Kernel crashed while executing code in the the current cell or a previous cell. Please review the code in the cell(s) to identify a possible cause of the failure. Click <a href='https://aka.ms/vscodeJupyterKernelCrash'>here</a> for more info. View Jupyter <a href='command:jupyter.viewOutput'>log</a> for further details."
     ]
    }
   ],
   "source": [
    "0.1/(6000**0.5) + 1/(60000**0.5)"
   ]
  }
 ],
 "metadata": {
  "kernelspec": {
   "display_name": "venv",
   "language": "python",
   "name": "python3"
  },
  "language_info": {
   "codemirror_mode": {
    "name": "ipython",
    "version": 3
   },
   "file_extension": ".py",
   "mimetype": "text/x-python",
   "name": "python",
   "nbconvert_exporter": "python",
   "pygments_lexer": "ipython3",
   "version": "3.11.4"
  },
  "orig_nbformat": 4
 },
 "nbformat": 4,
 "nbformat_minor": 2
}
