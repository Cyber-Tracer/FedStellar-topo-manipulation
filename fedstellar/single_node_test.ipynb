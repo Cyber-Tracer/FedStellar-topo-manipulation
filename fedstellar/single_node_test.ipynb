{
 "cells": [
  {
   "cell_type": "code",
   "execution_count": null,
   "metadata": {},
   "outputs": [],
   "source": [
    "import sys\n",
    "import os\n",
    "sys.path.append(os.path.join(os.getcwd() , '..'))  # Parent directory where is the fedstellar module"
   ]
  },
  {
   "cell_type": "code",
   "execution_count": null,
   "metadata": {},
   "outputs": [],
   "source": [
    "import time\n",
    "from datetime import datetime\n",
    "from pytorch_lightning.demos.mnist_datamodule import MNISTDataModule\n",
    "from fedstellar.node import Node\n",
    "from fedstellar.learning.pytorch.datamodule import DataModule\n",
    "from fedstellar.learning.pytorch.mnist.mnist import MNISTDataset\n",
    "from fedstellar.learning.pytorch.syscall.syscall import SYSCALLDataset\n",
    "from fedstellar.learning.pytorch.cifar10.cifar10 import CIFAR10Dataset\n",
    "from fedstellar.learning.pytorch.fashionmnist.fashionmnist import FashionMNISTDataset\n",
    "from fedstellar.config.config import Config\n",
    "from fedstellar.learning.pytorch.mnist.models.mlp import MNISTModelMLP\n",
    "from fedstellar.learning.pytorch.mnist.models.cnn import MNISTModelCNN\n",
    "from fedstellar.learning.pytorch.fashionmnist.models.mlp import FashionMNISTModelMLP\n",
    "from fedstellar.learning.pytorch.fashionmnist.models.cnn import FashionMNISTModelCNN\n",
    "from fedstellar.learning.pytorch.sentiment140.models.cnn import SentimentModelCNN\n",
    "from fedstellar.learning.pytorch.sentiment140.models.rnn import SentimentModelRNN\n",
    "from fedstellar.learning.pytorch.cifar100.models.cnn import Cifar100ModelCNN\n",
    "from fedstellar.learning.pytorch.cifar10.models.cnn import Cifar10ModelCNN\n",
    "from fedstellar.learning.pytorch.syscall.models.mlp import SyscallModelMLP\n",
    "from fedstellar.learning.pytorch.syscall.models.autoencoder import SyscallModelAutoencoder\n",
    "from fedstellar.learning.pytorch.cifar10.models.resnet import CIFAR10ModelResNet\n",
    "from fedstellar.learning.pytorch.cifar10.models.fastermobilenet import FasterMobileNet\n",
    "from fedstellar.learning.pytorch.cifar10.models.simplemobilenet import SimpleMobileNetV1\n",
    "from fedstellar.node import Node"
   ]
  },
  {
   "cell_type": "code",
   "execution_count": null,
   "metadata": {},
   "outputs": [],
   "source": [
    "os.environ[\"PYTORCH_ENABLE_MPS_FALLBACK\"] = \"1\""
   ]
  },
  {
   "cell_type": "code",
   "execution_count": null,
   "metadata": {},
   "outputs": [
    {
     "name": "stdout",
     "output_type": "stream",
     "text": [
      "d:\\git\\FedStellar-topo-manipulation\\app\\single_node\n"
     ]
    }
   ],
   "source": [
    "root = os.path.dirname(os.path.join(os.getcwd()))\n",
    "single_node = os.path.join(root, \"app\", \"single_node\")\n",
    "print(single_node)\n",
    "\n",
    "config_path =  os.path.join(single_node, \"participant_0.json\")\n",
    "config = Config(entity=\"participant\", participant_config_file=config_path)"
   ]
  },
  {
   "cell_type": "code",
   "execution_count": null,
   "metadata": {},
   "outputs": [
    {
     "name": "stdout",
     "output_type": "stream",
     "text": [
      "datamodule: targeted is True\n",
      "Targeted label-flipping: changed 5000 labels from 3 to 7\n",
      "Datapoisoning: generating watermarked samples for testing (all classes)\n",
      "Train: 45000 Val:5000 Test:10000\n"
     ]
    }
   ],
   "source": [
    "host = \"127.0.0.1\"\n",
    "port = 45601\n",
    "idx = 0\n",
    "n_nodes = 1\n",
    "indices_dir = single_node\n",
    "is_iid = True\n",
    "label_flipping = True\n",
    "data_poisoning = False\n",
    "model_poisoning = False\n",
    "poisoned_percent = 60\n",
    "poisoned_ratio = 10\n",
    "targeted = True\n",
    "target_label = 3\n",
    "target_changed_label = 7\n",
    "noise_type = \"salt\"\n",
    "\n",
    "dataset = FashionMNISTDataset(iid=is_iid)\n",
    "model = FashionMNISTModelMLP()\n",
    "\n",
    "dataset = DataModule(dataset.train_set, dataset.test_set, sub_id=idx, number_sub=n_nodes, indices_dir=indices_dir,\n",
    "                        label_flipping=label_flipping, data_poisoning=data_poisoning,\n",
    "                        poisoned_percent=poisoned_percent,\n",
    "                        poisoned_ratio=poisoned_ratio, targeted=targeted, target_label=target_label,\n",
    "                        target_changed_label=target_changed_label, noise_type=noise_type)\n"
   ]
  },
  {
   "cell_type": "code",
   "execution_count": null,
   "metadata": {},
   "outputs": [
    {
     "name": "stdout",
     "output_type": "stream",
     "text": [
      "[BASENODE] Trying to bind to 127.0.0.1:45601\n"
     ]
    }
   ],
   "source": [
    "node = Node(\n",
    "        idx=0,\n",
    "        experiment_name=\"Single_Node_Test\",\n",
    "        model=model,\n",
    "        data=dataset,\n",
    "        hostdemo=True,\n",
    "        host=host,\n",
    "        port=port,\n",
    "        config=config,\n",
    "        encrypt=False,\n",
    "        model_poisoning=model_poisoning,\n",
    "        poisoned_ratio=poisoned_ratio,\n",
    "        noise_type=noise_type,\n",
    "    )"
   ]
  },
  {
   "cell_type": "code",
   "execution_count": null,
   "metadata": {},
   "outputs": [],
   "source": [
    "node.start()\n",
    "time.sleep(5)\n",
    "node.set_start_learning(rounds=1, epochs=1)"
   ]
  },
  {
   "cell_type": "code",
   "execution_count": null,
   "metadata": {},
   "outputs": [
    {
     "data": {
      "text/html": [
       "<pre style=\"white-space:pre;overflow-x:auto;line-height:normal;font-family:Menlo,'DejaVu Sans Mono',consolas,'Courier New',monospace\">d:\\git\\FedStellar-topo-manipulation\\venv\\Lib\\site-packages\\rich\\live.py:231: UserWarning: install \"ipywidgets\" for \n",
       "Jupyter support\n",
       "  warnings.warn('install \"ipywidgets\" for Jupyter support')\n",
       "</pre>\n"
      ],
      "text/plain": [
       "d:\\git\\FedStellar-topo-manipulation\\venv\\Lib\\site-packages\\rich\\live.py:231: UserWarning: install \"ipywidgets\" for \n",
       "Jupyter support\n",
       "  warnings.warn('install \"ipywidgets\" for Jupyter support')\n"
      ]
     },
     "metadata": {},
     "output_type": "display_data"
    },
    {
     "data": {
      "text/html": [
       "<pre style=\"white-space:pre;overflow-x:auto;line-height:normal;font-family:Menlo,'DejaVu Sans Mono',consolas,'Courier New',monospace\">Epoch end: Test, epoch number: 0\n",
       "</pre>\n"
      ],
      "text/plain": [
       "Epoch end: Test, epoch number: 0\n"
      ]
     },
     "metadata": {},
     "output_type": "display_data"
    },
    {
     "data": {
      "text/html": [
       "<pre style=\"white-space:pre;overflow-x:auto;line-height:normal;font-family:Menlo,'DejaVu Sans Mono',consolas,'Courier New',monospace\">┏━━━━━━━━━━━━━━━━━━━━━━━━━━━┳━━━━━━━━━━━━━━━━━━━━━━━━━━━┓\n",
       "┃<span style=\"font-weight: bold\">   Runningstage.testing    </span>┃<span style=\"font-weight: bold\">                           </span>┃\n",
       "┃<span style=\"font-weight: bold\">          metric           </span>┃<span style=\"font-weight: bold\">       DataLoader 0        </span>┃\n",
       "┡━━━━━━━━━━━━━━━━━━━━━━━━━━━╇━━━━━━━━━━━━━━━━━━━━━━━━━━━┩\n",
       "│<span style=\"color: #008080; text-decoration-color: #008080\">       Test/Accuracy       </span>│<span style=\"color: #800080; text-decoration-color: #800080\">    0.09711563587188721    </span>│\n",
       "│<span style=\"color: #008080; text-decoration-color: #008080\">       Test/F1Score        </span>│<span style=\"color: #800080; text-decoration-color: #800080\">    0.01778019405901432    </span>│\n",
       "│<span style=\"color: #008080; text-decoration-color: #008080\">         Test/Loss         </span>│<span style=\"color: #800080; text-decoration-color: #800080\">    2.3047120571136475     </span>│\n",
       "│<span style=\"color: #008080; text-decoration-color: #008080\">      Test/Precision       </span>│<span style=\"color: #800080; text-decoration-color: #800080\">   0.009985975921154022    </span>│\n",
       "│<span style=\"color: #008080; text-decoration-color: #008080\">        Test/Recall        </span>│<span style=\"color: #800080; text-decoration-color: #800080\">    0.09711563587188721    </span>│\n",
       "│<span style=\"color: #008080; text-decoration-color: #008080\">    TestEpoch/Accuracy     </span>│<span style=\"color: #800080; text-decoration-color: #800080\">    0.10000000149011612    </span>│\n",
       "│<span style=\"color: #008080; text-decoration-color: #008080\">     TestEpoch/F1Score     </span>│<span style=\"color: #800080; text-decoration-color: #800080\">    0.01815863698720932    </span>│\n",
       "│<span style=\"color: #008080; text-decoration-color: #008080\">    TestEpoch/Precision    </span>│<span style=\"color: #800080; text-decoration-color: #800080\">   0.009985977783799171    </span>│\n",
       "│<span style=\"color: #008080; text-decoration-color: #008080\">     TestEpoch/Recall      </span>│<span style=\"color: #800080; text-decoration-color: #800080\">    0.10000000149011612    </span>│\n",
       "└───────────────────────────┴───────────────────────────┘\n",
       "</pre>\n"
      ],
      "text/plain": [
       "┏━━━━━━━━━━━━━━━━━━━━━━━━━━━┳━━━━━━━━━━━━━━━━━━━━━━━━━━━┓\n",
       "┃\u001b[1m \u001b[0m\u001b[1m  Runningstage.testing   \u001b[0m\u001b[1m \u001b[0m┃\u001b[1m                           \u001b[0m┃\n",
       "┃\u001b[1m \u001b[0m\u001b[1m         metric          \u001b[0m\u001b[1m \u001b[0m┃\u001b[1m \u001b[0m\u001b[1m      DataLoader 0       \u001b[0m\u001b[1m \u001b[0m┃\n",
       "┡━━━━━━━━━━━━━━━━━━━━━━━━━━━╇━━━━━━━━━━━━━━━━━━━━━━━━━━━┩\n",
       "│\u001b[36m \u001b[0m\u001b[36m      Test/Accuracy      \u001b[0m\u001b[36m \u001b[0m│\u001b[35m \u001b[0m\u001b[35m   0.09711563587188721   \u001b[0m\u001b[35m \u001b[0m│\n",
       "│\u001b[36m \u001b[0m\u001b[36m      Test/F1Score       \u001b[0m\u001b[36m \u001b[0m│\u001b[35m \u001b[0m\u001b[35m   0.01778019405901432   \u001b[0m\u001b[35m \u001b[0m│\n",
       "│\u001b[36m \u001b[0m\u001b[36m        Test/Loss        \u001b[0m\u001b[36m \u001b[0m│\u001b[35m \u001b[0m\u001b[35m   2.3047120571136475    \u001b[0m\u001b[35m \u001b[0m│\n",
       "│\u001b[36m \u001b[0m\u001b[36m     Test/Precision      \u001b[0m\u001b[36m \u001b[0m│\u001b[35m \u001b[0m\u001b[35m  0.009985975921154022   \u001b[0m\u001b[35m \u001b[0m│\n",
       "│\u001b[36m \u001b[0m\u001b[36m       Test/Recall       \u001b[0m\u001b[36m \u001b[0m│\u001b[35m \u001b[0m\u001b[35m   0.09711563587188721   \u001b[0m\u001b[35m \u001b[0m│\n",
       "│\u001b[36m \u001b[0m\u001b[36m   TestEpoch/Accuracy    \u001b[0m\u001b[36m \u001b[0m│\u001b[35m \u001b[0m\u001b[35m   0.10000000149011612   \u001b[0m\u001b[35m \u001b[0m│\n",
       "│\u001b[36m \u001b[0m\u001b[36m    TestEpoch/F1Score    \u001b[0m\u001b[36m \u001b[0m│\u001b[35m \u001b[0m\u001b[35m   0.01815863698720932   \u001b[0m\u001b[35m \u001b[0m│\n",
       "│\u001b[36m \u001b[0m\u001b[36m   TestEpoch/Precision   \u001b[0m\u001b[36m \u001b[0m│\u001b[35m \u001b[0m\u001b[35m  0.009985977783799171   \u001b[0m\u001b[35m \u001b[0m│\n",
       "│\u001b[36m \u001b[0m\u001b[36m    TestEpoch/Recall     \u001b[0m\u001b[36m \u001b[0m│\u001b[35m \u001b[0m\u001b[35m   0.10000000149011612   \u001b[0m\u001b[35m \u001b[0m│\n",
       "└───────────────────────────┴───────────────────────────┘\n"
      ]
     },
     "metadata": {},
     "output_type": "display_data"
    },
    {
     "data": {
      "text/html": [
       "<pre style=\"white-space:pre;overflow-x:auto;line-height:normal;font-family:Menlo,'DejaVu Sans Mono',consolas,'Courier New',monospace\"></pre>\n"
      ],
      "text/plain": []
     },
     "metadata": {},
     "output_type": "display_data"
    },
    {
     "data": {
      "text/html": [
       "<pre style=\"white-space:pre;overflow-x:auto;line-height:normal;font-family:Menlo,'DejaVu Sans Mono',consolas,'Courier New',monospace\">\n",
       "</pre>\n"
      ],
      "text/plain": [
       "\n"
      ]
     },
     "metadata": {},
     "output_type": "display_data"
    },
    {
     "name": "stderr",
     "output_type": "stream",
     "text": [
      "d:\\git\\FedStellar-topo-manipulation\\venv\\Lib\\site-packages\\lightning\\pytorch\\trainer\\setup.py:176: PossibleUserWarning: GPU available but not used. Set `accelerator` and `devices` using `Trainer(accelerator='gpu', devices=1)`.\n",
      "  rank_zero_warn(\n"
     ]
    },
    {
     "data": {
      "text/html": [
       "<pre style=\"white-space:pre;overflow-x:auto;line-height:normal;font-family:Menlo,'DejaVu Sans Mono',consolas,'Courier New',monospace\">┏━━━┳━━━━━━━━━━━━━━━┳━━━━━━━━━━━━━━━━━━━━━━━━━━━┳━━━━━━━━┳━━━━━━━━━━━━━━━━┳━━━━━━━━━━━━━━━┓\n",
       "┃<span style=\"color: #800080; text-decoration-color: #800080; font-weight: bold\">   </span>┃<span style=\"color: #800080; text-decoration-color: #800080; font-weight: bold\"> Name          </span>┃<span style=\"color: #800080; text-decoration-color: #800080; font-weight: bold\"> Type                      </span>┃<span style=\"color: #800080; text-decoration-color: #800080; font-weight: bold\"> Params </span>┃<span style=\"color: #800080; text-decoration-color: #800080; font-weight: bold\">       In sizes </span>┃<span style=\"color: #800080; text-decoration-color: #800080; font-weight: bold\">     Out sizes </span>┃\n",
       "┡━━━╇━━━━━━━━━━━━━━━╇━━━━━━━━━━━━━━━━━━━━━━━━━━━╇━━━━━━━━╇━━━━━━━━━━━━━━━━╇━━━━━━━━━━━━━━━┩\n",
       "│<span style=\"color: #7f7f7f; text-decoration-color: #7f7f7f\"> 0 </span>│ train_metrics │ MetricCollection          │      0 │<span style=\"color: #c0c0c0; text-decoration-color: #c0c0c0\">              ? </span>│<span style=\"color: #c0c0c0; text-decoration-color: #c0c0c0\">             ? </span>│\n",
       "│<span style=\"color: #7f7f7f; text-decoration-color: #7f7f7f\"> 1 </span>│ val_metrics   │ MetricCollection          │      0 │<span style=\"color: #c0c0c0; text-decoration-color: #c0c0c0\">              ? </span>│<span style=\"color: #c0c0c0; text-decoration-color: #c0c0c0\">             ? </span>│\n",
       "│<span style=\"color: #7f7f7f; text-decoration-color: #7f7f7f\"> 2 </span>│ test_metrics  │ MetricCollection          │      0 │<span style=\"color: #c0c0c0; text-decoration-color: #c0c0c0\">              ? </span>│<span style=\"color: #c0c0c0; text-decoration-color: #c0c0c0\">             ? </span>│\n",
       "│<span style=\"color: #7f7f7f; text-decoration-color: #7f7f7f\"> 3 </span>│ cm            │ MulticlassConfusionMatrix │      0 │<span style=\"color: #c0c0c0; text-decoration-color: #c0c0c0\">              ? </span>│<span style=\"color: #c0c0c0; text-decoration-color: #c0c0c0\">             ? </span>│\n",
       "│<span style=\"color: #7f7f7f; text-decoration-color: #7f7f7f\"> 4 </span>│ criterion     │ CrossEntropyLoss          │      0 │<span style=\"color: #c0c0c0; text-decoration-color: #c0c0c0\">              ? </span>│<span style=\"color: #c0c0c0; text-decoration-color: #c0c0c0\">             ? </span>│\n",
       "│<span style=\"color: #7f7f7f; text-decoration-color: #7f7f7f\"> 5 </span>│ model         │ Sequential                │  8.7 K │<span style=\"color: #c0c0c0; text-decoration-color: #c0c0c0\"> [1, 3, 32, 32] </span>│<span style=\"color: #c0c0c0; text-decoration-color: #c0c0c0\"> [1, 64, 1, 1] </span>│\n",
       "│<span style=\"color: #7f7f7f; text-decoration-color: #7f7f7f\"> 6 </span>│ fc            │ Linear                    │    650 │<span style=\"color: #c0c0c0; text-decoration-color: #c0c0c0\">        [1, 64] </span>│<span style=\"color: #c0c0c0; text-decoration-color: #c0c0c0\">       [1, 10] </span>│\n",
       "└───┴───────────────┴───────────────────────────┴────────┴────────────────┴───────────────┘\n",
       "</pre>\n"
      ],
      "text/plain": [
       "┏━━━┳━━━━━━━━━━━━━━━┳━━━━━━━━━━━━━━━━━━━━━━━━━━━┳━━━━━━━━┳━━━━━━━━━━━━━━━━┳━━━━━━━━━━━━━━━┓\n",
       "┃\u001b[1;35m \u001b[0m\u001b[1;35m \u001b[0m\u001b[1;35m \u001b[0m┃\u001b[1;35m \u001b[0m\u001b[1;35mName         \u001b[0m\u001b[1;35m \u001b[0m┃\u001b[1;35m \u001b[0m\u001b[1;35mType                     \u001b[0m\u001b[1;35m \u001b[0m┃\u001b[1;35m \u001b[0m\u001b[1;35mParams\u001b[0m\u001b[1;35m \u001b[0m┃\u001b[1;35m \u001b[0m\u001b[1;35m      In sizes\u001b[0m\u001b[1;35m \u001b[0m┃\u001b[1;35m \u001b[0m\u001b[1;35m    Out sizes\u001b[0m\u001b[1;35m \u001b[0m┃\n",
       "┡━━━╇━━━━━━━━━━━━━━━╇━━━━━━━━━━━━━━━━━━━━━━━━━━━╇━━━━━━━━╇━━━━━━━━━━━━━━━━╇━━━━━━━━━━━━━━━┩\n",
       "│\u001b[2m \u001b[0m\u001b[2m0\u001b[0m\u001b[2m \u001b[0m│ train_metrics │ MetricCollection          │      0 │\u001b[37m \u001b[0m\u001b[37m             ?\u001b[0m\u001b[37m \u001b[0m│\u001b[37m \u001b[0m\u001b[37m            ?\u001b[0m\u001b[37m \u001b[0m│\n",
       "│\u001b[2m \u001b[0m\u001b[2m1\u001b[0m\u001b[2m \u001b[0m│ val_metrics   │ MetricCollection          │      0 │\u001b[37m \u001b[0m\u001b[37m             ?\u001b[0m\u001b[37m \u001b[0m│\u001b[37m \u001b[0m\u001b[37m            ?\u001b[0m\u001b[37m \u001b[0m│\n",
       "│\u001b[2m \u001b[0m\u001b[2m2\u001b[0m\u001b[2m \u001b[0m│ test_metrics  │ MetricCollection          │      0 │\u001b[37m \u001b[0m\u001b[37m             ?\u001b[0m\u001b[37m \u001b[0m│\u001b[37m \u001b[0m\u001b[37m            ?\u001b[0m\u001b[37m \u001b[0m│\n",
       "│\u001b[2m \u001b[0m\u001b[2m3\u001b[0m\u001b[2m \u001b[0m│ cm            │ MulticlassConfusionMatrix │      0 │\u001b[37m \u001b[0m\u001b[37m             ?\u001b[0m\u001b[37m \u001b[0m│\u001b[37m \u001b[0m\u001b[37m            ?\u001b[0m\u001b[37m \u001b[0m│\n",
       "│\u001b[2m \u001b[0m\u001b[2m4\u001b[0m\u001b[2m \u001b[0m│ criterion     │ CrossEntropyLoss          │      0 │\u001b[37m \u001b[0m\u001b[37m             ?\u001b[0m\u001b[37m \u001b[0m│\u001b[37m \u001b[0m\u001b[37m            ?\u001b[0m\u001b[37m \u001b[0m│\n",
       "│\u001b[2m \u001b[0m\u001b[2m5\u001b[0m\u001b[2m \u001b[0m│ model         │ Sequential                │  8.7 K │\u001b[37m \u001b[0m\u001b[37m[1, 3, 32, 32]\u001b[0m\u001b[37m \u001b[0m│\u001b[37m \u001b[0m\u001b[37m[1, 64, 1, 1]\u001b[0m\u001b[37m \u001b[0m│\n",
       "│\u001b[2m \u001b[0m\u001b[2m6\u001b[0m\u001b[2m \u001b[0m│ fc            │ Linear                    │    650 │\u001b[37m \u001b[0m\u001b[37m       [1, 64]\u001b[0m\u001b[37m \u001b[0m│\u001b[37m \u001b[0m\u001b[37m      [1, 10]\u001b[0m\u001b[37m \u001b[0m│\n",
       "└───┴───────────────┴───────────────────────────┴────────┴────────────────┴───────────────┘\n"
      ]
     },
     "metadata": {},
     "output_type": "display_data"
    },
    {
     "data": {
      "text/html": [
       "<pre style=\"white-space:pre;overflow-x:auto;line-height:normal;font-family:Menlo,'DejaVu Sans Mono',consolas,'Courier New',monospace\"><span style=\"font-weight: bold\">Trainable params</span>: 9.3 K                                                                                            \n",
       "<span style=\"font-weight: bold\">Non-trainable params</span>: 0                                                                                            \n",
       "<span style=\"font-weight: bold\">Total params</span>: 9.3 K                                                                                                \n",
       "<span style=\"font-weight: bold\">Total estimated model params size (MB)</span>: 0                                                                          \n",
       "</pre>\n"
      ],
      "text/plain": [
       "\u001b[1mTrainable params\u001b[0m: 9.3 K                                                                                            \n",
       "\u001b[1mNon-trainable params\u001b[0m: 0                                                                                            \n",
       "\u001b[1mTotal params\u001b[0m: 9.3 K                                                                                                \n",
       "\u001b[1mTotal estimated model params size (MB)\u001b[0m: 0                                                                          \n"
      ]
     },
     "metadata": {},
     "output_type": "display_data"
    },
    {
     "data": {
      "text/html": [
       "<pre style=\"white-space:pre;overflow-x:auto;line-height:normal;font-family:Menlo,'DejaVu Sans Mono',consolas,'Courier New',monospace\">Epoch end: Validation, epoch number: 0\n",
       "</pre>\n"
      ],
      "text/plain": [
       "Epoch end: Validation, epoch number: 0\n"
      ]
     },
     "metadata": {},
     "output_type": "display_data"
    },
    {
     "data": {
      "application/vnd.jupyter.widget-view+json": {
       "model_id": "fbb716653b044e5c8cefa2d54711b616",
       "version_major": 2,
       "version_minor": 0
      },
      "text/plain": [
       "Output()"
      ]
     },
     "metadata": {},
     "output_type": "display_data"
    }
   ],
   "source": [
    "while True:\n",
    "        time.sleep(1)\n",
    "        finish = True\n",
    "        for f in [n.round is None for n in [node]]:\n",
    "            finish = finish and f\n",
    "\n",
    "        if finish:\n",
    "            break\n",
    "\n",
    "for n in [node]:\n",
    "    n.stop()"
   ]
  }
 ],
 "metadata": {
  "kernelspec": {
   "display_name": "venv",
   "language": "python",
   "name": "python3"
  },
  "language_info": {
   "codemirror_mode": {
    "name": "ipython",
    "version": 3
   },
   "file_extension": ".py",
   "mimetype": "text/x-python",
   "name": "python",
   "nbconvert_exporter": "python",
   "pygments_lexer": "ipython3",
   "version": "3.11.4"
  },
  "orig_nbformat": 4
 },
 "nbformat": 4,
 "nbformat_minor": 2
}
